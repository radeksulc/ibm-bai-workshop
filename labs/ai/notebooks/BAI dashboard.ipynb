{
 "cells": [
  {
   "cell_type": "markdown",
   "metadata": {},
   "source": [
    "# Querying data and building charts from Business Automation Insights data\n",
    "\n",
    "This notebook shows how to retrieve and use data stored by Business Automation Insights for Business Automation Workflow. The notebook uses Spark SQL to retrieve process and task data and uses also pixiedust to display charts.\n",
    "\n",
    "The notebook is configured to retrieve data from the HDFS data lake where Business Automation Insights stores that data. <strong>Specify the HDFS root path in the code below</strong>.\n",
    "\n",
    "## Table Of Content\n",
    " \n",
    " + [Number of Completed Processes](#completeprocesses)\n",
    " + [Completed Processes By Applications](#completeprocessesperapp)\n",
    " + [Average Process Duration Per Application](#avgprocessdurationperapp)\n",
    " + [Average Duration of Processes in Minutes](#avgprocessduration)\n",
    " + [Total Number of Completed Activities](#totalcompleteactivities)\n",
    " + [Number of Completed Activities](#completeactivities)\n",
    " + [Average Duration per Activity](#avgactivityduration)\n",
    " + [Average Duration of Activities](#avgactivitydurationglobal)\n",
    " + [Completed Activities Per Users](#activitiesperuser)"
   ]
  },
  {
   "cell_type": "markdown",
   "metadata": {},
   "source": [
    "First install PixieDust:"
   ]
  },
  {
   "cell_type": "code",
   "execution_count": 1,
   "metadata": {},
   "outputs": [
    {
     "name": "stdout",
     "output_type": "stream",
     "text": [
      "Requirement already up-to-date: pixiedust in c:\\programdata\\anaconda3\\lib\\site-packages (1.1.18)\n",
      "Requirement already up-to-date: astunparse in c:\\programdata\\anaconda3\\lib\\site-packages (1.6.3)\n"
     ]
    }
   ],
   "source": [
    "# !pip install -U --no-deps pixiedust\n",
    "# !pip install -U --no-deps astunparse"
   ]
  },
  {
   "cell_type": "code",
   "execution_count": 4,
   "metadata": {},
   "outputs": [
    {
     "name": "stdout",
     "output_type": "stream",
     "text": [
      "Table USER_PREFERENCES created successfully\n",
      "Table service_connections created successfully\n"
     ]
    }
   ],
   "source": [
    "import pixiedust"
   ]
  },
  {
   "cell_type": "code",
   "execution_count": 5,
   "metadata": {},
   "outputs": [],
   "source": [
    "from pyspark.sql import SQLContext, Row\n",
    "from pyspark.sql.types import IntegerType\n",
    "\n",
    "from datetime import datetime\n",
    "\n",
    "hdfs_root = 'hdfs://namenode/user/bai'"
   ]
  },
  {
   "cell_type": "markdown",
   "metadata": {},
   "source": [
    "<a id='completeprocesses'></a>\n",
    "## Number of Completed Processes\n",
    "This section extracts the completed processes from the BAI summaries data and displays the number of completed processes. The 'completed summary' data is covering both processes that are completed and the activities in a completed process. In HDFS, the data is stored as a set of JSON files. For a process, the information is stored within the following path:\n",
    "\n",
    "<pre>\n",
    "[root-directory]/ibm-bai/bpmn-summaries-completed/[process application id]/[process application version id]/process/[process id]/[date]\n",
    "</pre>\n",
    "In the code below we use wildcard (\\*) to read all the json data for all process applications and all processes. Please refer to the BAI documentation to learn how to use the IBM BPM REST API to retrieve the process application ids and versions.\n",
    "\n"
   ]
  },
  {
   "cell_type": "code",
   "execution_count": 6,
   "metadata": {},
   "outputs": [
    {
     "name": "stdout",
     "output_type": "stream",
     "text": [
      "The data contains 15 completed process\n"
     ]
    }
   ],
   "source": [
    "from pyspark.sql import SparkSession\n",
    "\n",
    "spark = SparkSession.builder.getOrCreate()\n",
    "spark.conf.set(\"dfs.client.use.datanode.hostname\", \"true\")\n",
    "\n",
    "summaries = spark.read.json(hdfs_root +'/ibm-bai/bpmn-summaries-completed/*/*/process/*/*')\n",
    "\n",
    "print ('The data contains ' + str(summaries.count()) + ' completed process')"
   ]
  },
  {
   "cell_type": "code",
   "execution_count": 7,
   "metadata": {},
   "outputs": [],
   "source": [
    "from  pyspark.sql.functions import col\n",
    "\n",
    "summaries = summaries.withColumn(\"duration_in_minutes\", col(\"duration\")/60000)\n",
    "summaries.createOrReplaceTempView(\"bpmnSummaries\")\n",
    "\n",
    "summaries.cache();"
   ]
  },
  {
   "cell_type": "markdown",
   "metadata": {},
   "source": [
    "<a id='completeprocessesperapp'></a>\n",
    "\n",
    "## Completed Processes By Applications\n",
    "This section uses the summary data for completed processes to display the number of completed processes for each process application."
   ]
  },
  {
   "cell_type": "code",
   "execution_count": null,
   "metadata": {
    "pixiedust": {
     "displayParams": {
      "aggregation": "SUM",
      "handlerId": "barChart",
      "keyFields": "processApplicationName",
      "legend": "false",
      "mpld3": "false",
      "orientation": "horizontal",
      "sortby": "Values ASC",
      "title": "Process Completed By Applications"
     }
    }
   },
   "outputs": [
    {
     "data": {
      "text/html": [
       "<div class=\"pixiedust\" pixiedust=\"{&quot;prefix&quot;: &quot;6b1ff768&quot;, &quot;command&quot;: &quot;display(summaries,cell_id=&apos;38ac3fba393a48838adea3771e392451&apos;,nostore_pixiedust=&apos;true&apos;,aggregation=&apos;SUM&apos;,handlerId=&apos;barChart&apos;,keyFields=&apos;processApplicationName&apos;,legend=&apos;false&apos;,mpld3=&apos;false&apos;,orientation=&apos;horizontal&apos;,sortby=&apos;Values ASC&apos;,title=&apos;Process Completed By Applications&apos;,nostore_cw=&apos;1098&apos;,nostore_vh=&apos;1049&apos;,org_params=&apos;nostore_pixiedust&apos;,nostore_bokeh=&apos;false&apos;)&quot;, &quot;entity&quot;: &quot;summaries&quot;, &quot;options&quot;: {&quot;cell_id&quot;: &quot;38ac3fba393a48838adea3771e392451&quot;, &quot;nostore_pixiedust&quot;: &quot;true&quot;, &quot;aggregation&quot;: &quot;SUM&quot;, &quot;handlerId&quot;: &quot;barChart&quot;, &quot;keyFields&quot;: &quot;processApplicationName&quot;, &quot;legend&quot;: &quot;false&quot;, &quot;mpld3&quot;: &quot;false&quot;, &quot;orientation&quot;: &quot;horizontal&quot;, &quot;sortby&quot;: &quot;Values ASC&quot;, &quot;title&quot;: &quot;Process Completed By Applications&quot;, &quot;nostore_cw&quot;: &quot;1098&quot;, &quot;nostore_vh&quot;: &quot;1049&quot;, &quot;org_params&quot;: &quot;nostore_pixiedust&quot;, &quot;nostore_bokeh&quot;: &quot;false&quot;}, &quot;sniffers&quot;: [&quot;{&apos;nostore_bokeh&apos;:!!window.Bokeh}&quot;], &quot;avoidMetadata&quot;: false, &quot;include_keys&quot;: [&quot;filter&quot;]}\">\n",
       "  \n",
       "  <button class=\"btn btn-default btn-sm expandButton\" data-toggle=\"collapse\"\n",
       "          data-target=\"#pixiedust-output-wrapper-6b1ff768\" title=\"Expand/Collapse Pixiedust output\">\n",
       "    <i class=\"fa\"></i>\n",
       "  </button>\n",
       "  \n",
       "  \n",
       "  <div id=\"pixiedust-output-wrapper-6b1ff768\" class=\"pixiedust-output-wrapper collapse in\">\n",
       "    \n",
       "      <div class=\"pixiedust-toolbar btn-group\" role=\"group\" style=\"margin-bottom:15px\">  \n",
       "      \n",
       "        \n",
       "          <a class=\"btn btn-small btn-default display-type-button\" id=\"menu6b1ff768-tableView\" title=\"Table.Next\">\n",
       "            <i class=\"fa fa-table\"></i>\n",
       "          </a>\n",
       "          \n",
       "            <script>\n",
       "                $('#menu6b1ff768-tableView').on('click', \n",
       "            \n",
       "            function(){\n",
       "                pixiedust.executeDisplay(\n",
       "                    {\"prefix\": \"6b1ff768\", \"command\": \"display(summaries,cell_id='38ac3fba393a48838adea3771e392451',nostore_pixiedust='true',aggregation='SUM',handlerId='tableView',keyFields='processApplicationName',legend='false',mpld3='false',orientation='horizontal',sortby='Values ASC',title='Process Completed By Applications',nostore_cw='1098',nostore_vh='1049',org_params='nostore_pixiedust',nostore_bokeh='false',prefix='6b1ff768')\", \"entity\": \"summaries\", \"options\": {\"cell_id\": \"38ac3fba393a48838adea3771e392451\", \"nostore_pixiedust\": \"true\", \"aggregation\": \"SUM\", \"handlerId\": \"tableView\", \"keyFields\": \"processApplicationName\", \"legend\": \"false\", \"mpld3\": \"false\", \"orientation\": \"horizontal\", \"sortby\": \"Values ASC\", \"title\": \"Process Completed By Applications\", \"nostore_cw\": \"1098\", \"nostore_vh\": \"1049\", \"org_params\": \"nostore_pixiedust\", \"nostore_bokeh\": \"false\", \"prefix\": \"6b1ff768\"}, \"sniffers\": [\"{'nostore_bokeh':!!window.Bokeh}\"], \"avoidMetadata\": true, \"include_keys\": [\"filter\"]},\n",
       "                    {'targetDivId': 'wrapperHTML6b1ff768' }\n",
       "                );\n",
       "            }\n",
       "            )\n",
       "            </script>\n",
       "        \n",
       "        \n",
       "      \n",
       "        \n",
       "          <div class=\"btn-group btn-small display-type-button\">\n",
       "            \n",
       "            <a class=\"btn btn-small dropdown-toggle btn-default\" data-toggle=\"dropdown\" title=\"Chart\">\n",
       "              \n",
       "              <i class=\"fa fa-line-chart\"></i>\n",
       "              \n",
       "              <i class=\"fa fa-chevron-down\"></i>\n",
       "            </a>\n",
       "            <div class=\"dropdown-menu\" role=\"menu\" style=\"white-space:nowrap\">\n",
       "              <ul>\n",
       "              \n",
       "                <li id=\"menu6b1ff768-barChart\">\n",
       "                  \n",
       "                  <i class=\"fa fa-bar-chart\"></i>\n",
       "                  \n",
       "                  <span>Bar Chart</span>\n",
       "                  \n",
       "            <script>\n",
       "                $('#menu6b1ff768-barChart').on('click', \n",
       "            \n",
       "            function(){\n",
       "                pixiedust.executeDisplay(\n",
       "                    {\"prefix\": \"6b1ff768\", \"command\": \"display(summaries,cell_id='38ac3fba393a48838adea3771e392451',nostore_pixiedust='true',aggregation='SUM',handlerId='barChart',keyFields='processApplicationName',legend='false',mpld3='false',orientation='horizontal',sortby='Values ASC',title='Process Completed By Applications',nostore_cw='1098',nostore_vh='1049',org_params='nostore_pixiedust',nostore_bokeh='false',prefix='6b1ff768')\", \"entity\": \"summaries\", \"options\": {\"cell_id\": \"38ac3fba393a48838adea3771e392451\", \"nostore_pixiedust\": \"true\", \"aggregation\": \"SUM\", \"handlerId\": \"barChart\", \"keyFields\": \"processApplicationName\", \"legend\": \"false\", \"mpld3\": \"false\", \"orientation\": \"horizontal\", \"sortby\": \"Values ASC\", \"title\": \"Process Completed By Applications\", \"nostore_cw\": \"1098\", \"nostore_vh\": \"1049\", \"org_params\": \"nostore_pixiedust\", \"nostore_bokeh\": \"false\", \"prefix\": \"6b1ff768\"}, \"sniffers\": [\"{'nostore_bokeh':!!window.Bokeh}\"], \"avoidMetadata\": true, \"include_keys\": [\"filter\"]},\n",
       "                    {'targetDivId': 'wrapperHTML6b1ff768' }\n",
       "                );\n",
       "            }\n",
       "            )\n",
       "            </script>\n",
       "        \n",
       "                </li>\n",
       "              \n",
       "                <li id=\"menu6b1ff768-lineChart\">\n",
       "                  \n",
       "                  <i class=\"fa fa-line-chart\"></i>\n",
       "                  \n",
       "                  <span>Line Chart</span>\n",
       "                  \n",
       "            <script>\n",
       "                $('#menu6b1ff768-lineChart').on('click', \n",
       "            \n",
       "            function(){\n",
       "                pixiedust.executeDisplay(\n",
       "                    {\"prefix\": \"6b1ff768\", \"command\": \"display(summaries,cell_id='38ac3fba393a48838adea3771e392451',nostore_pixiedust='true',aggregation='SUM',handlerId='lineChart',keyFields='processApplicationName',legend='false',mpld3='false',orientation='horizontal',sortby='Values ASC',title='Process Completed By Applications',nostore_cw='1098',nostore_vh='1049',org_params='nostore_pixiedust',nostore_bokeh='false',prefix='6b1ff768')\", \"entity\": \"summaries\", \"options\": {\"cell_id\": \"38ac3fba393a48838adea3771e392451\", \"nostore_pixiedust\": \"true\", \"aggregation\": \"SUM\", \"handlerId\": \"lineChart\", \"keyFields\": \"processApplicationName\", \"legend\": \"false\", \"mpld3\": \"false\", \"orientation\": \"horizontal\", \"sortby\": \"Values ASC\", \"title\": \"Process Completed By Applications\", \"nostore_cw\": \"1098\", \"nostore_vh\": \"1049\", \"org_params\": \"nostore_pixiedust\", \"nostore_bokeh\": \"false\", \"prefix\": \"6b1ff768\"}, \"sniffers\": [\"{'nostore_bokeh':!!window.Bokeh}\"], \"avoidMetadata\": true, \"include_keys\": [\"filter\"]},\n",
       "                    {'targetDivId': 'wrapperHTML6b1ff768' }\n",
       "                );\n",
       "            }\n",
       "            )\n",
       "            </script>\n",
       "        \n",
       "                </li>\n",
       "              \n",
       "                <li id=\"menu6b1ff768-scatterPlot\">\n",
       "                  \n",
       "                  <i class=\"fa fa-circle\"></i>\n",
       "                  \n",
       "                  <span>Scatter Plot</span>\n",
       "                  \n",
       "            <script>\n",
       "                $('#menu6b1ff768-scatterPlot').on('click', \n",
       "            \n",
       "            function(){\n",
       "                pixiedust.executeDisplay(\n",
       "                    {\"prefix\": \"6b1ff768\", \"command\": \"display(summaries,cell_id='38ac3fba393a48838adea3771e392451',nostore_pixiedust='true',aggregation='SUM',handlerId='scatterPlot',keyFields='processApplicationName',legend='false',mpld3='false',orientation='horizontal',sortby='Values ASC',title='Process Completed By Applications',nostore_cw='1098',nostore_vh='1049',org_params='nostore_pixiedust',nostore_bokeh='false',prefix='6b1ff768')\", \"entity\": \"summaries\", \"options\": {\"cell_id\": \"38ac3fba393a48838adea3771e392451\", \"nostore_pixiedust\": \"true\", \"aggregation\": \"SUM\", \"handlerId\": \"scatterPlot\", \"keyFields\": \"processApplicationName\", \"legend\": \"false\", \"mpld3\": \"false\", \"orientation\": \"horizontal\", \"sortby\": \"Values ASC\", \"title\": \"Process Completed By Applications\", \"nostore_cw\": \"1098\", \"nostore_vh\": \"1049\", \"org_params\": \"nostore_pixiedust\", \"nostore_bokeh\": \"false\", \"prefix\": \"6b1ff768\"}, \"sniffers\": [\"{'nostore_bokeh':!!window.Bokeh}\"], \"avoidMetadata\": true, \"include_keys\": [\"filter\"]},\n",
       "                    {'targetDivId': 'wrapperHTML6b1ff768' }\n",
       "                );\n",
       "            }\n",
       "            )\n",
       "            </script>\n",
       "        \n",
       "                </li>\n",
       "              \n",
       "                <li id=\"menu6b1ff768-mapView\">\n",
       "                  \n",
       "                  <i class=\"fa fa-globe\"></i>\n",
       "                  \n",
       "                  <span>Map</span>\n",
       "                  \n",
       "            <script>\n",
       "                $('#menu6b1ff768-mapView').on('click', \n",
       "            \n",
       "            function(){\n",
       "                pixiedust.executeDisplay(\n",
       "                    {\"prefix\": \"6b1ff768\", \"command\": \"display(summaries,cell_id='38ac3fba393a48838adea3771e392451',nostore_pixiedust='true',aggregation='SUM',handlerId='mapView',keyFields='processApplicationName',legend='false',mpld3='false',orientation='horizontal',sortby='Values ASC',title='Process Completed By Applications',nostore_cw='1098',nostore_vh='1049',org_params='nostore_pixiedust',nostore_bokeh='false',prefix='6b1ff768')\", \"entity\": \"summaries\", \"options\": {\"cell_id\": \"38ac3fba393a48838adea3771e392451\", \"nostore_pixiedust\": \"true\", \"aggregation\": \"SUM\", \"handlerId\": \"mapView\", \"keyFields\": \"processApplicationName\", \"legend\": \"false\", \"mpld3\": \"false\", \"orientation\": \"horizontal\", \"sortby\": \"Values ASC\", \"title\": \"Process Completed By Applications\", \"nostore_cw\": \"1098\", \"nostore_vh\": \"1049\", \"org_params\": \"nostore_pixiedust\", \"nostore_bokeh\": \"false\", \"prefix\": \"6b1ff768\"}, \"sniffers\": [\"{'nostore_bokeh':!!window.Bokeh}\"], \"avoidMetadata\": true, \"include_keys\": [\"filter\"]},\n",
       "                    {'targetDivId': 'wrapperHTML6b1ff768' }\n",
       "                );\n",
       "            }\n",
       "            )\n",
       "            </script>\n",
       "        \n",
       "                </li>\n",
       "              \n",
       "                <li id=\"menu6b1ff768-histogram\">\n",
       "                  \n",
       "                  <i class=\"fa fa-area-chart\"></i>\n",
       "                  \n",
       "                  <span>Histogram</span>\n",
       "                  \n",
       "            <script>\n",
       "                $('#menu6b1ff768-histogram').on('click', \n",
       "            \n",
       "            function(){\n",
       "                pixiedust.executeDisplay(\n",
       "                    {\"prefix\": \"6b1ff768\", \"command\": \"display(summaries,cell_id='38ac3fba393a48838adea3771e392451',nostore_pixiedust='true',aggregation='SUM',handlerId='histogram',keyFields='processApplicationName',legend='false',mpld3='false',orientation='horizontal',sortby='Values ASC',title='Process Completed By Applications',nostore_cw='1098',nostore_vh='1049',org_params='nostore_pixiedust',nostore_bokeh='false',prefix='6b1ff768')\", \"entity\": \"summaries\", \"options\": {\"cell_id\": \"38ac3fba393a48838adea3771e392451\", \"nostore_pixiedust\": \"true\", \"aggregation\": \"SUM\", \"handlerId\": \"histogram\", \"keyFields\": \"processApplicationName\", \"legend\": \"false\", \"mpld3\": \"false\", \"orientation\": \"horizontal\", \"sortby\": \"Values ASC\", \"title\": \"Process Completed By Applications\", \"nostore_cw\": \"1098\", \"nostore_vh\": \"1049\", \"org_params\": \"nostore_pixiedust\", \"nostore_bokeh\": \"false\", \"prefix\": \"6b1ff768\"}, \"sniffers\": [\"{'nostore_bokeh':!!window.Bokeh}\"], \"avoidMetadata\": true, \"include_keys\": [\"filter\"]},\n",
       "                    {'targetDivId': 'wrapperHTML6b1ff768' }\n",
       "                );\n",
       "            }\n",
       "            )\n",
       "            </script>\n",
       "        \n",
       "                </li>\n",
       "              \n",
       "              </ul>\n",
       "            </div>\n",
       "          </div>\n",
       "        \n",
       "      \n",
       "        \n",
       "      \n",
       "        \n",
       "      \n",
       "        \n",
       "          <div class=\"btn-group btn-small display-type-button\">\n",
       "            \n",
       "            <a class=\"btn btn-small dropdown-toggle btn-default\" data-toggle=\"dropdown\" title=\"Stash dataset\">\n",
       "              \n",
       "              <i class=\"fa fa-cloud-download\"></i>\n",
       "              \n",
       "              <i class=\"fa fa-chevron-down\"></i>\n",
       "            </a>\n",
       "            <div class=\"dropdown-menu\" role=\"menu\" style=\"white-space:nowrap\">\n",
       "              <ul>\n",
       "              \n",
       "                <li id=\"menu6b1ff768-downloadFile\">\n",
       "                  \n",
       "                  <i class=\"fa fa-download\"></i>\n",
       "                  \n",
       "                  <span>Download as File</span>\n",
       "                  \n",
       "            <script>\n",
       "                $('#menu6b1ff768-downloadFile').on('click', \n",
       "            \n",
       "            function(){\n",
       "                pixiedust.executeDisplay(\n",
       "                    {\"prefix\": \"6b1ff768\", \"command\": \"display(summaries,cell_id='38ac3fba393a48838adea3771e392451',nostore_pixiedust='true',aggregation='SUM',handlerId='downloadFile',keyFields='processApplicationName',legend='false',mpld3='false',orientation='horizontal',sortby='Values ASC',title='Process Completed By Applications',nostore_cw='1098',nostore_vh='1049',org_params='nostore_pixiedust',nostore_bokeh='false',prefix='6b1ff768')\", \"entity\": \"summaries\", \"options\": {\"cell_id\": \"38ac3fba393a48838adea3771e392451\", \"nostore_pixiedust\": \"true\", \"aggregation\": \"SUM\", \"handlerId\": \"downloadFile\", \"keyFields\": \"processApplicationName\", \"legend\": \"false\", \"mpld3\": \"false\", \"orientation\": \"horizontal\", \"sortby\": \"Values ASC\", \"title\": \"Process Completed By Applications\", \"nostore_cw\": \"1098\", \"nostore_vh\": \"1049\", \"org_params\": \"nostore_pixiedust\", \"nostore_bokeh\": \"false\", \"prefix\": \"6b1ff768\"}, \"sniffers\": [\"{'nostore_bokeh':!!window.Bokeh}\"], \"avoidMetadata\": true, \"include_keys\": [\"filter\"]},\n",
       "                    {'targetDivId': 'wrapperHTML6b1ff768' }\n",
       "                );\n",
       "            }\n",
       "            )\n",
       "            </script>\n",
       "        \n",
       "                </li>\n",
       "              \n",
       "                <li id=\"menu6b1ff768-stashCloudant\">\n",
       "                  \n",
       "                  <i class=\"fa fa-cloud\"></i>\n",
       "                  \n",
       "                  <span>Stash to Cloudant</span>\n",
       "                  \n",
       "            <script>\n",
       "                $('#menu6b1ff768-stashCloudant').on('click', \n",
       "            \n",
       "            function(){\n",
       "                pixiedust.executeDisplay(\n",
       "                    {\"prefix\": \"6b1ff768\", \"command\": \"display(summaries,cell_id='38ac3fba393a48838adea3771e392451',nostore_pixiedust='true',aggregation='SUM',handlerId='stashCloudant',keyFields='processApplicationName',legend='false',mpld3='false',orientation='horizontal',sortby='Values ASC',title='Process Completed By Applications',nostore_cw='1098',nostore_vh='1049',org_params='nostore_pixiedust',nostore_bokeh='false',prefix='6b1ff768')\", \"entity\": \"summaries\", \"options\": {\"cell_id\": \"38ac3fba393a48838adea3771e392451\", \"nostore_pixiedust\": \"true\", \"aggregation\": \"SUM\", \"handlerId\": \"stashCloudant\", \"keyFields\": \"processApplicationName\", \"legend\": \"false\", \"mpld3\": \"false\", \"orientation\": \"horizontal\", \"sortby\": \"Values ASC\", \"title\": \"Process Completed By Applications\", \"nostore_cw\": \"1098\", \"nostore_vh\": \"1049\", \"org_params\": \"nostore_pixiedust\", \"nostore_bokeh\": \"false\", \"prefix\": \"6b1ff768\"}, \"sniffers\": [\"{'nostore_bokeh':!!window.Bokeh}\"], \"avoidMetadata\": true, \"include_keys\": [\"filter\"]},\n",
       "                    {'targetDivId': 'wrapperHTML6b1ff768' }\n",
       "                );\n",
       "            }\n",
       "            )\n",
       "            </script>\n",
       "        \n",
       "                </li>\n",
       "              \n",
       "              </ul>\n",
       "            </div>\n",
       "          </div>\n",
       "        \n",
       "      \n",
       "        <a id=\"filterbutton6b1ff768\" href=\"#filter6b1ff768\" class=\"btn btn-small btn-default display-type-button\" data-toggle=\"collapse\" title=\"Filter\">\n",
       "          <i class=\"fa fa-filter\" aria-hidden=\"true\"></i>\n",
       "        </a>\n",
       "      </div>\n",
       "      <div id=\"filter6b1ff768\" class=\"collapse no_loading_msg\" style=\"margin-bottom:15px;padding:10px 15px;border: 1px solid #eaeaea;background-color: #fafafa;\">\n",
       "        <div pd_render_onload pd_app=\"pixiedust.display.chart.filter.FilterApp\" class=\"no_loading_msg\">\n",
       "          <script>\n",
       "            $(document).trigger('pd_event', {type:\"pd_load\", targetNode: $(\"#filter6b1ff768\")});\n",
       "          </script>\n",
       "        </div>\n",
       "      </div>\n",
       "    \n",
       "    <div id=\"wrapperJS6b1ff768\"></div>\n",
       "    <div id=\"wrapperHTML6b1ff768\" class=\"pixiedustWrapperHTML\" pd_init\n",
       "        pixiedust=\"{&quot;prefix&quot;: &quot;6b1ff768&quot;, &quot;command&quot;: &quot;display(summaries,cell_id=&apos;38ac3fba393a48838adea3771e392451&apos;,nostore_pixiedust=&apos;true&apos;,aggregation=&apos;SUM&apos;,handlerId=&apos;barChart&apos;,keyFields=&apos;processApplicationName&apos;,legend=&apos;false&apos;,mpld3=&apos;false&apos;,orientation=&apos;horizontal&apos;,sortby=&apos;Values ASC&apos;,title=&apos;Process Completed By Applications&apos;,nostore_cw=&apos;1098&apos;,nostore_vh=&apos;1049&apos;,org_params=&apos;nostore_pixiedust&apos;,nostore_bokeh=&apos;false&apos;)&quot;, &quot;entity&quot;: &quot;summaries&quot;, &quot;options&quot;: {&quot;cell_id&quot;: &quot;38ac3fba393a48838adea3771e392451&quot;, &quot;nostore_pixiedust&quot;: &quot;true&quot;, &quot;aggregation&quot;: &quot;SUM&quot;, &quot;handlerId&quot;: &quot;barChart&quot;, &quot;keyFields&quot;: &quot;processApplicationName&quot;, &quot;legend&quot;: &quot;false&quot;, &quot;mpld3&quot;: &quot;false&quot;, &quot;orientation&quot;: &quot;horizontal&quot;, &quot;sortby&quot;: &quot;Values ASC&quot;, &quot;title&quot;: &quot;Process Completed By Applications&quot;, &quot;nostore_cw&quot;: &quot;1098&quot;, &quot;nostore_vh&quot;: &quot;1049&quot;, &quot;org_params&quot;: &quot;nostore_pixiedust&quot;, &quot;nostore_bokeh&quot;: &quot;false&quot;}, &quot;sniffers&quot;: [&quot;{&apos;nostore_bokeh&apos;:!!window.Bokeh}&quot;], &quot;avoidMetadata&quot;: false, &quot;include_keys&quot;: [&quot;filter&quot;]}\" style=\"min-height:100px\"></div>\n",
       "  </div>\n",
       "</div>\n",
       "                    <script>\n",
       "                    (\n",
       "            \n",
       "            function(){\n",
       "                pixiedust.executeDisplay(\n",
       "                    {\"prefix\": \"6b1ff768\", \"command\": \"display(summaries,cell_id='38ac3fba393a48838adea3771e392451',nostore_pixiedust='true',aggregation='SUM',handlerId='barChart',keyFields='processApplicationName',legend='false',mpld3='false',orientation='horizontal',sortby='Values ASC',title='Process Completed By Applications',nostore_cw='1098',nostore_vh='1049',org_params='nostore_pixiedust',nostore_bokeh='false',prefix='6b1ff768')\", \"entity\": \"summaries\", \"options\": {\"cell_id\": \"38ac3fba393a48838adea3771e392451\", \"nostore_pixiedust\": \"true\", \"aggregation\": \"SUM\", \"handlerId\": \"barChart\", \"keyFields\": \"processApplicationName\", \"legend\": \"false\", \"mpld3\": \"false\", \"orientation\": \"horizontal\", \"sortby\": \"Values ASC\", \"title\": \"Process Completed By Applications\", \"nostore_cw\": \"1098\", \"nostore_vh\": \"1049\", \"org_params\": \"nostore_pixiedust\", \"nostore_bokeh\": \"false\", \"prefix\": \"6b1ff768\"}, \"sniffers\": [\"{'nostore_bokeh':!!window.Bokeh}\"], \"avoidMetadata\": true, \"include_keys\": [\"filter\"]},\n",
       "                    {'targetDivId': 'wrapperHTML6b1ff768' }\n",
       "                );\n",
       "            }\n",
       "            )();\n",
       "                    </script>\n",
       "                </div>"
      ],
      "text/plain": [
       "<IPython.core.display.HTML object>"
      ]
     },
     "metadata": {},
     "output_type": "display_data"
    }
   ],
   "source": [
    "display(summaries)"
   ]
  },
  {
   "cell_type": "markdown",
   "metadata": {},
   "source": [
    "With Spark SQL, you can use:"
   ]
  },
  {
   "cell_type": "code",
   "execution_count": 10,
   "metadata": {},
   "outputs": [
    {
     "name": "stdout",
     "output_type": "stream",
     "text": [
      "+----------------------+---------+\n",
      "|processApplicationName|count(id)|\n",
      "+----------------------+---------+\n",
      "|         RetailBanking|        1|\n",
      "|         Hiring Sample|        1|\n",
      "|       Risk Assessment|        2|\n",
      "|  Mortgage Application|       11|\n",
      "+----------------------+---------+\n",
      "\n"
     ]
    }
   ],
   "source": [
    "spark.sql(\"select processApplicationName, count(id) from bpmnSummaries group by processApplicationName\").show()"
   ]
  },
  {
   "cell_type": "markdown",
   "metadata": {},
   "source": [
    "<a id='avgprocessdurationperapp'></a>\n",
    "## Average Process Duration Per Application\n",
    "This sections uses the summary data for completed processes to display the average process duration in minutes for each process application. It uses the 'duration' property of the 'completed process' data."
   ]
  },
  {
   "cell_type": "code",
   "execution_count": null,
   "metadata": {
    "pixiedust": {
     "displayParams": {
      "aggregation": "AVG",
      "handlerId": "barChart",
      "keyFields": "name",
      "orientation": "horizontal",
      "sortby": "Values ASC",
      "timeseries": "false",
      "title": "Average Process Duration by Process",
      "valueFields": "duration_in_minutes"
     }
    }
   },
   "outputs": [
    {
     "data": {
      "text/html": [
       "<div class=\"pixiedust\" pixiedust=\"{&quot;prefix&quot;: &quot;38c8206d&quot;, &quot;command&quot;: &quot;display(summaries,cell_id=&apos;579d5b7f2952478994efe96a09851272&apos;,nostore_pixiedust=&apos;true&apos;,aggregation=&apos;AVG&apos;,handlerId=&apos;barChart&apos;,keyFields=&apos;name&apos;,orientation=&apos;horizontal&apos;,sortby=&apos;Values ASC&apos;,timeseries=&apos;false&apos;,title=&apos;Average Process Duration by Process&apos;,valueFields=&apos;duration_in_minutes&apos;,nostore_cw=&apos;1098&apos;,nostore_vh=&apos;1049&apos;,org_params=&apos;nostore_pixiedust&apos;,nostore_bokeh=&apos;false&apos;)&quot;, &quot;entity&quot;: &quot;summaries&quot;, &quot;options&quot;: {&quot;cell_id&quot;: &quot;579d5b7f2952478994efe96a09851272&quot;, &quot;nostore_pixiedust&quot;: &quot;true&quot;, &quot;aggregation&quot;: &quot;AVG&quot;, &quot;handlerId&quot;: &quot;barChart&quot;, &quot;keyFields&quot;: &quot;name&quot;, &quot;orientation&quot;: &quot;horizontal&quot;, &quot;sortby&quot;: &quot;Values ASC&quot;, &quot;timeseries&quot;: &quot;false&quot;, &quot;title&quot;: &quot;Average Process Duration by Process&quot;, &quot;valueFields&quot;: &quot;duration_in_minutes&quot;, &quot;nostore_cw&quot;: &quot;1098&quot;, &quot;nostore_vh&quot;: &quot;1049&quot;, &quot;org_params&quot;: &quot;nostore_pixiedust&quot;, &quot;nostore_bokeh&quot;: &quot;false&quot;}, &quot;sniffers&quot;: [&quot;{&apos;nostore_bokeh&apos;:!!window.Bokeh}&quot;], &quot;avoidMetadata&quot;: false, &quot;include_keys&quot;: [&quot;filter&quot;]}\">\n",
       "  \n",
       "  <button class=\"btn btn-default btn-sm expandButton\" data-toggle=\"collapse\"\n",
       "          data-target=\"#pixiedust-output-wrapper-38c8206d\" title=\"Expand/Collapse Pixiedust output\">\n",
       "    <i class=\"fa\"></i>\n",
       "  </button>\n",
       "  \n",
       "  \n",
       "  <div id=\"pixiedust-output-wrapper-38c8206d\" class=\"pixiedust-output-wrapper collapse in\">\n",
       "    \n",
       "      <div class=\"pixiedust-toolbar btn-group\" role=\"group\" style=\"margin-bottom:15px\">  \n",
       "      \n",
       "        \n",
       "          <a class=\"btn btn-small btn-default display-type-button\" id=\"menu38c8206d-tableView\" title=\"Table.Next\">\n",
       "            <i class=\"fa fa-table\"></i>\n",
       "          </a>\n",
       "          \n",
       "            <script>\n",
       "                $('#menu38c8206d-tableView').on('click', \n",
       "            \n",
       "            function(){\n",
       "                pixiedust.executeDisplay(\n",
       "                    {\"prefix\": \"38c8206d\", \"command\": \"display(summaries,cell_id='579d5b7f2952478994efe96a09851272',nostore_pixiedust='true',aggregation='AVG',handlerId='tableView',keyFields='name',orientation='horizontal',sortby='Values ASC',timeseries='false',title='Average Process Duration by Process',valueFields='duration_in_minutes',nostore_cw='1098',nostore_vh='1049',org_params='nostore_pixiedust',nostore_bokeh='false',prefix='38c8206d')\", \"entity\": \"summaries\", \"options\": {\"cell_id\": \"579d5b7f2952478994efe96a09851272\", \"nostore_pixiedust\": \"true\", \"aggregation\": \"AVG\", \"handlerId\": \"tableView\", \"keyFields\": \"name\", \"orientation\": \"horizontal\", \"sortby\": \"Values ASC\", \"timeseries\": \"false\", \"title\": \"Average Process Duration by Process\", \"valueFields\": \"duration_in_minutes\", \"nostore_cw\": \"1098\", \"nostore_vh\": \"1049\", \"org_params\": \"nostore_pixiedust\", \"nostore_bokeh\": \"false\", \"prefix\": \"38c8206d\"}, \"sniffers\": [\"{'nostore_bokeh':!!window.Bokeh}\"], \"avoidMetadata\": true, \"include_keys\": [\"filter\"]},\n",
       "                    {'targetDivId': 'wrapperHTML38c8206d' }\n",
       "                );\n",
       "            }\n",
       "            )\n",
       "            </script>\n",
       "        \n",
       "        \n",
       "      \n",
       "        \n",
       "          <div class=\"btn-group btn-small display-type-button\">\n",
       "            \n",
       "            <a class=\"btn btn-small dropdown-toggle btn-default\" data-toggle=\"dropdown\" title=\"Chart\">\n",
       "              \n",
       "              <i class=\"fa fa-line-chart\"></i>\n",
       "              \n",
       "              <i class=\"fa fa-chevron-down\"></i>\n",
       "            </a>\n",
       "            <div class=\"dropdown-menu\" role=\"menu\" style=\"white-space:nowrap\">\n",
       "              <ul>\n",
       "              \n",
       "                <li id=\"menu38c8206d-barChart\">\n",
       "                  \n",
       "                  <i class=\"fa fa-bar-chart\"></i>\n",
       "                  \n",
       "                  <span>Bar Chart</span>\n",
       "                  \n",
       "            <script>\n",
       "                $('#menu38c8206d-barChart').on('click', \n",
       "            \n",
       "            function(){\n",
       "                pixiedust.executeDisplay(\n",
       "                    {\"prefix\": \"38c8206d\", \"command\": \"display(summaries,cell_id='579d5b7f2952478994efe96a09851272',nostore_pixiedust='true',aggregation='AVG',handlerId='barChart',keyFields='name',orientation='horizontal',sortby='Values ASC',timeseries='false',title='Average Process Duration by Process',valueFields='duration_in_minutes',nostore_cw='1098',nostore_vh='1049',org_params='nostore_pixiedust',nostore_bokeh='false',prefix='38c8206d')\", \"entity\": \"summaries\", \"options\": {\"cell_id\": \"579d5b7f2952478994efe96a09851272\", \"nostore_pixiedust\": \"true\", \"aggregation\": \"AVG\", \"handlerId\": \"barChart\", \"keyFields\": \"name\", \"orientation\": \"horizontal\", \"sortby\": \"Values ASC\", \"timeseries\": \"false\", \"title\": \"Average Process Duration by Process\", \"valueFields\": \"duration_in_minutes\", \"nostore_cw\": \"1098\", \"nostore_vh\": \"1049\", \"org_params\": \"nostore_pixiedust\", \"nostore_bokeh\": \"false\", \"prefix\": \"38c8206d\"}, \"sniffers\": [\"{'nostore_bokeh':!!window.Bokeh}\"], \"avoidMetadata\": true, \"include_keys\": [\"filter\"]},\n",
       "                    {'targetDivId': 'wrapperHTML38c8206d' }\n",
       "                );\n",
       "            }\n",
       "            )\n",
       "            </script>\n",
       "        \n",
       "                </li>\n",
       "              \n",
       "                <li id=\"menu38c8206d-lineChart\">\n",
       "                  \n",
       "                  <i class=\"fa fa-line-chart\"></i>\n",
       "                  \n",
       "                  <span>Line Chart</span>\n",
       "                  \n",
       "            <script>\n",
       "                $('#menu38c8206d-lineChart').on('click', \n",
       "            \n",
       "            function(){\n",
       "                pixiedust.executeDisplay(\n",
       "                    {\"prefix\": \"38c8206d\", \"command\": \"display(summaries,cell_id='579d5b7f2952478994efe96a09851272',nostore_pixiedust='true',aggregation='AVG',handlerId='lineChart',keyFields='name',orientation='horizontal',sortby='Values ASC',timeseries='false',title='Average Process Duration by Process',valueFields='duration_in_minutes',nostore_cw='1098',nostore_vh='1049',org_params='nostore_pixiedust',nostore_bokeh='false',prefix='38c8206d')\", \"entity\": \"summaries\", \"options\": {\"cell_id\": \"579d5b7f2952478994efe96a09851272\", \"nostore_pixiedust\": \"true\", \"aggregation\": \"AVG\", \"handlerId\": \"lineChart\", \"keyFields\": \"name\", \"orientation\": \"horizontal\", \"sortby\": \"Values ASC\", \"timeseries\": \"false\", \"title\": \"Average Process Duration by Process\", \"valueFields\": \"duration_in_minutes\", \"nostore_cw\": \"1098\", \"nostore_vh\": \"1049\", \"org_params\": \"nostore_pixiedust\", \"nostore_bokeh\": \"false\", \"prefix\": \"38c8206d\"}, \"sniffers\": [\"{'nostore_bokeh':!!window.Bokeh}\"], \"avoidMetadata\": true, \"include_keys\": [\"filter\"]},\n",
       "                    {'targetDivId': 'wrapperHTML38c8206d' }\n",
       "                );\n",
       "            }\n",
       "            )\n",
       "            </script>\n",
       "        \n",
       "                </li>\n",
       "              \n",
       "                <li id=\"menu38c8206d-scatterPlot\">\n",
       "                  \n",
       "                  <i class=\"fa fa-circle\"></i>\n",
       "                  \n",
       "                  <span>Scatter Plot</span>\n",
       "                  \n",
       "            <script>\n",
       "                $('#menu38c8206d-scatterPlot').on('click', \n",
       "            \n",
       "            function(){\n",
       "                pixiedust.executeDisplay(\n",
       "                    {\"prefix\": \"38c8206d\", \"command\": \"display(summaries,cell_id='579d5b7f2952478994efe96a09851272',nostore_pixiedust='true',aggregation='AVG',handlerId='scatterPlot',keyFields='name',orientation='horizontal',sortby='Values ASC',timeseries='false',title='Average Process Duration by Process',valueFields='duration_in_minutes',nostore_cw='1098',nostore_vh='1049',org_params='nostore_pixiedust',nostore_bokeh='false',prefix='38c8206d')\", \"entity\": \"summaries\", \"options\": {\"cell_id\": \"579d5b7f2952478994efe96a09851272\", \"nostore_pixiedust\": \"true\", \"aggregation\": \"AVG\", \"handlerId\": \"scatterPlot\", \"keyFields\": \"name\", \"orientation\": \"horizontal\", \"sortby\": \"Values ASC\", \"timeseries\": \"false\", \"title\": \"Average Process Duration by Process\", \"valueFields\": \"duration_in_minutes\", \"nostore_cw\": \"1098\", \"nostore_vh\": \"1049\", \"org_params\": \"nostore_pixiedust\", \"nostore_bokeh\": \"false\", \"prefix\": \"38c8206d\"}, \"sniffers\": [\"{'nostore_bokeh':!!window.Bokeh}\"], \"avoidMetadata\": true, \"include_keys\": [\"filter\"]},\n",
       "                    {'targetDivId': 'wrapperHTML38c8206d' }\n",
       "                );\n",
       "            }\n",
       "            )\n",
       "            </script>\n",
       "        \n",
       "                </li>\n",
       "              \n",
       "                <li id=\"menu38c8206d-mapView\">\n",
       "                  \n",
       "                  <i class=\"fa fa-globe\"></i>\n",
       "                  \n",
       "                  <span>Map</span>\n",
       "                  \n",
       "            <script>\n",
       "                $('#menu38c8206d-mapView').on('click', \n",
       "            \n",
       "            function(){\n",
       "                pixiedust.executeDisplay(\n",
       "                    {\"prefix\": \"38c8206d\", \"command\": \"display(summaries,cell_id='579d5b7f2952478994efe96a09851272',nostore_pixiedust='true',aggregation='AVG',handlerId='mapView',keyFields='name',orientation='horizontal',sortby='Values ASC',timeseries='false',title='Average Process Duration by Process',valueFields='duration_in_minutes',nostore_cw='1098',nostore_vh='1049',org_params='nostore_pixiedust',nostore_bokeh='false',prefix='38c8206d')\", \"entity\": \"summaries\", \"options\": {\"cell_id\": \"579d5b7f2952478994efe96a09851272\", \"nostore_pixiedust\": \"true\", \"aggregation\": \"AVG\", \"handlerId\": \"mapView\", \"keyFields\": \"name\", \"orientation\": \"horizontal\", \"sortby\": \"Values ASC\", \"timeseries\": \"false\", \"title\": \"Average Process Duration by Process\", \"valueFields\": \"duration_in_minutes\", \"nostore_cw\": \"1098\", \"nostore_vh\": \"1049\", \"org_params\": \"nostore_pixiedust\", \"nostore_bokeh\": \"false\", \"prefix\": \"38c8206d\"}, \"sniffers\": [\"{'nostore_bokeh':!!window.Bokeh}\"], \"avoidMetadata\": true, \"include_keys\": [\"filter\"]},\n",
       "                    {'targetDivId': 'wrapperHTML38c8206d' }\n",
       "                );\n",
       "            }\n",
       "            )\n",
       "            </script>\n",
       "        \n",
       "                </li>\n",
       "              \n",
       "                <li id=\"menu38c8206d-histogram\">\n",
       "                  \n",
       "                  <i class=\"fa fa-area-chart\"></i>\n",
       "                  \n",
       "                  <span>Histogram</span>\n",
       "                  \n",
       "            <script>\n",
       "                $('#menu38c8206d-histogram').on('click', \n",
       "            \n",
       "            function(){\n",
       "                pixiedust.executeDisplay(\n",
       "                    {\"prefix\": \"38c8206d\", \"command\": \"display(summaries,cell_id='579d5b7f2952478994efe96a09851272',nostore_pixiedust='true',aggregation='AVG',handlerId='histogram',keyFields='name',orientation='horizontal',sortby='Values ASC',timeseries='false',title='Average Process Duration by Process',valueFields='duration_in_minutes',nostore_cw='1098',nostore_vh='1049',org_params='nostore_pixiedust',nostore_bokeh='false',prefix='38c8206d')\", \"entity\": \"summaries\", \"options\": {\"cell_id\": \"579d5b7f2952478994efe96a09851272\", \"nostore_pixiedust\": \"true\", \"aggregation\": \"AVG\", \"handlerId\": \"histogram\", \"keyFields\": \"name\", \"orientation\": \"horizontal\", \"sortby\": \"Values ASC\", \"timeseries\": \"false\", \"title\": \"Average Process Duration by Process\", \"valueFields\": \"duration_in_minutes\", \"nostore_cw\": \"1098\", \"nostore_vh\": \"1049\", \"org_params\": \"nostore_pixiedust\", \"nostore_bokeh\": \"false\", \"prefix\": \"38c8206d\"}, \"sniffers\": [\"{'nostore_bokeh':!!window.Bokeh}\"], \"avoidMetadata\": true, \"include_keys\": [\"filter\"]},\n",
       "                    {'targetDivId': 'wrapperHTML38c8206d' }\n",
       "                );\n",
       "            }\n",
       "            )\n",
       "            </script>\n",
       "        \n",
       "                </li>\n",
       "              \n",
       "              </ul>\n",
       "            </div>\n",
       "          </div>\n",
       "        \n",
       "      \n",
       "        \n",
       "      \n",
       "        \n",
       "      \n",
       "        \n",
       "          <div class=\"btn-group btn-small display-type-button\">\n",
       "            \n",
       "            <a class=\"btn btn-small dropdown-toggle btn-default\" data-toggle=\"dropdown\" title=\"Stash dataset\">\n",
       "              \n",
       "              <i class=\"fa fa-cloud-download\"></i>\n",
       "              \n",
       "              <i class=\"fa fa-chevron-down\"></i>\n",
       "            </a>\n",
       "            <div class=\"dropdown-menu\" role=\"menu\" style=\"white-space:nowrap\">\n",
       "              <ul>\n",
       "              \n",
       "                <li id=\"menu38c8206d-downloadFile\">\n",
       "                  \n",
       "                  <i class=\"fa fa-download\"></i>\n",
       "                  \n",
       "                  <span>Download as File</span>\n",
       "                  \n",
       "            <script>\n",
       "                $('#menu38c8206d-downloadFile').on('click', \n",
       "            \n",
       "            function(){\n",
       "                pixiedust.executeDisplay(\n",
       "                    {\"prefix\": \"38c8206d\", \"command\": \"display(summaries,cell_id='579d5b7f2952478994efe96a09851272',nostore_pixiedust='true',aggregation='AVG',handlerId='downloadFile',keyFields='name',orientation='horizontal',sortby='Values ASC',timeseries='false',title='Average Process Duration by Process',valueFields='duration_in_minutes',nostore_cw='1098',nostore_vh='1049',org_params='nostore_pixiedust',nostore_bokeh='false',prefix='38c8206d')\", \"entity\": \"summaries\", \"options\": {\"cell_id\": \"579d5b7f2952478994efe96a09851272\", \"nostore_pixiedust\": \"true\", \"aggregation\": \"AVG\", \"handlerId\": \"downloadFile\", \"keyFields\": \"name\", \"orientation\": \"horizontal\", \"sortby\": \"Values ASC\", \"timeseries\": \"false\", \"title\": \"Average Process Duration by Process\", \"valueFields\": \"duration_in_minutes\", \"nostore_cw\": \"1098\", \"nostore_vh\": \"1049\", \"org_params\": \"nostore_pixiedust\", \"nostore_bokeh\": \"false\", \"prefix\": \"38c8206d\"}, \"sniffers\": [\"{'nostore_bokeh':!!window.Bokeh}\"], \"avoidMetadata\": true, \"include_keys\": [\"filter\"]},\n",
       "                    {'targetDivId': 'wrapperHTML38c8206d' }\n",
       "                );\n",
       "            }\n",
       "            )\n",
       "            </script>\n",
       "        \n",
       "                </li>\n",
       "              \n",
       "                <li id=\"menu38c8206d-stashCloudant\">\n",
       "                  \n",
       "                  <i class=\"fa fa-cloud\"></i>\n",
       "                  \n",
       "                  <span>Stash to Cloudant</span>\n",
       "                  \n",
       "            <script>\n",
       "                $('#menu38c8206d-stashCloudant').on('click', \n",
       "            \n",
       "            function(){\n",
       "                pixiedust.executeDisplay(\n",
       "                    {\"prefix\": \"38c8206d\", \"command\": \"display(summaries,cell_id='579d5b7f2952478994efe96a09851272',nostore_pixiedust='true',aggregation='AVG',handlerId='stashCloudant',keyFields='name',orientation='horizontal',sortby='Values ASC',timeseries='false',title='Average Process Duration by Process',valueFields='duration_in_minutes',nostore_cw='1098',nostore_vh='1049',org_params='nostore_pixiedust',nostore_bokeh='false',prefix='38c8206d')\", \"entity\": \"summaries\", \"options\": {\"cell_id\": \"579d5b7f2952478994efe96a09851272\", \"nostore_pixiedust\": \"true\", \"aggregation\": \"AVG\", \"handlerId\": \"stashCloudant\", \"keyFields\": \"name\", \"orientation\": \"horizontal\", \"sortby\": \"Values ASC\", \"timeseries\": \"false\", \"title\": \"Average Process Duration by Process\", \"valueFields\": \"duration_in_minutes\", \"nostore_cw\": \"1098\", \"nostore_vh\": \"1049\", \"org_params\": \"nostore_pixiedust\", \"nostore_bokeh\": \"false\", \"prefix\": \"38c8206d\"}, \"sniffers\": [\"{'nostore_bokeh':!!window.Bokeh}\"], \"avoidMetadata\": true, \"include_keys\": [\"filter\"]},\n",
       "                    {'targetDivId': 'wrapperHTML38c8206d' }\n",
       "                );\n",
       "            }\n",
       "            )\n",
       "            </script>\n",
       "        \n",
       "                </li>\n",
       "              \n",
       "              </ul>\n",
       "            </div>\n",
       "          </div>\n",
       "        \n",
       "      \n",
       "        <a id=\"filterbutton38c8206d\" href=\"#filter38c8206d\" class=\"btn btn-small btn-default display-type-button\" data-toggle=\"collapse\" title=\"Filter\">\n",
       "          <i class=\"fa fa-filter\" aria-hidden=\"true\"></i>\n",
       "        </a>\n",
       "      </div>\n",
       "      <div id=\"filter38c8206d\" class=\"collapse no_loading_msg\" style=\"margin-bottom:15px;padding:10px 15px;border: 1px solid #eaeaea;background-color: #fafafa;\">\n",
       "        <div pd_render_onload pd_app=\"pixiedust.display.chart.filter.FilterApp\" class=\"no_loading_msg\">\n",
       "          <script>\n",
       "            $(document).trigger('pd_event', {type:\"pd_load\", targetNode: $(\"#filter38c8206d\")});\n",
       "          </script>\n",
       "        </div>\n",
       "      </div>\n",
       "    \n",
       "    <div id=\"wrapperJS38c8206d\"></div>\n",
       "    <div id=\"wrapperHTML38c8206d\" class=\"pixiedustWrapperHTML\" pd_init\n",
       "        pixiedust=\"{&quot;prefix&quot;: &quot;38c8206d&quot;, &quot;command&quot;: &quot;display(summaries,cell_id=&apos;579d5b7f2952478994efe96a09851272&apos;,nostore_pixiedust=&apos;true&apos;,aggregation=&apos;AVG&apos;,handlerId=&apos;barChart&apos;,keyFields=&apos;name&apos;,orientation=&apos;horizontal&apos;,sortby=&apos;Values ASC&apos;,timeseries=&apos;false&apos;,title=&apos;Average Process Duration by Process&apos;,valueFields=&apos;duration_in_minutes&apos;,nostore_cw=&apos;1098&apos;,nostore_vh=&apos;1049&apos;,org_params=&apos;nostore_pixiedust&apos;,nostore_bokeh=&apos;false&apos;)&quot;, &quot;entity&quot;: &quot;summaries&quot;, &quot;options&quot;: {&quot;cell_id&quot;: &quot;579d5b7f2952478994efe96a09851272&quot;, &quot;nostore_pixiedust&quot;: &quot;true&quot;, &quot;aggregation&quot;: &quot;AVG&quot;, &quot;handlerId&quot;: &quot;barChart&quot;, &quot;keyFields&quot;: &quot;name&quot;, &quot;orientation&quot;: &quot;horizontal&quot;, &quot;sortby&quot;: &quot;Values ASC&quot;, &quot;timeseries&quot;: &quot;false&quot;, &quot;title&quot;: &quot;Average Process Duration by Process&quot;, &quot;valueFields&quot;: &quot;duration_in_minutes&quot;, &quot;nostore_cw&quot;: &quot;1098&quot;, &quot;nostore_vh&quot;: &quot;1049&quot;, &quot;org_params&quot;: &quot;nostore_pixiedust&quot;, &quot;nostore_bokeh&quot;: &quot;false&quot;}, &quot;sniffers&quot;: [&quot;{&apos;nostore_bokeh&apos;:!!window.Bokeh}&quot;], &quot;avoidMetadata&quot;: false, &quot;include_keys&quot;: [&quot;filter&quot;]}\" style=\"min-height:100px\"></div>\n",
       "  </div>\n",
       "</div>\n",
       "                    <script>\n",
       "                    (\n",
       "            \n",
       "            function(){\n",
       "                pixiedust.executeDisplay(\n",
       "                    {\"prefix\": \"38c8206d\", \"command\": \"display(summaries,cell_id='579d5b7f2952478994efe96a09851272',nostore_pixiedust='true',aggregation='AVG',handlerId='barChart',keyFields='name',orientation='horizontal',sortby='Values ASC',timeseries='false',title='Average Process Duration by Process',valueFields='duration_in_minutes',nostore_cw='1098',nostore_vh='1049',org_params='nostore_pixiedust',nostore_bokeh='false',prefix='38c8206d')\", \"entity\": \"summaries\", \"options\": {\"cell_id\": \"579d5b7f2952478994efe96a09851272\", \"nostore_pixiedust\": \"true\", \"aggregation\": \"AVG\", \"handlerId\": \"barChart\", \"keyFields\": \"name\", \"orientation\": \"horizontal\", \"sortby\": \"Values ASC\", \"timeseries\": \"false\", \"title\": \"Average Process Duration by Process\", \"valueFields\": \"duration_in_minutes\", \"nostore_cw\": \"1098\", \"nostore_vh\": \"1049\", \"org_params\": \"nostore_pixiedust\", \"nostore_bokeh\": \"false\", \"prefix\": \"38c8206d\"}, \"sniffers\": [\"{'nostore_bokeh':!!window.Bokeh}\"], \"avoidMetadata\": true, \"include_keys\": [\"filter\"]},\n",
       "                    {'targetDivId': 'wrapperHTML38c8206d' }\n",
       "                );\n",
       "            }\n",
       "            )();\n",
       "                    </script>\n",
       "                </div>"
      ],
      "text/plain": [
       "<IPython.core.display.HTML object>"
      ]
     },
     "metadata": {},
     "output_type": "display_data"
    }
   ],
   "source": [
    "display(summaries)"
   ]
  },
  {
   "cell_type": "markdown",
   "metadata": {},
   "source": [
    "With Spark SQL, you can use:"
   ]
  },
  {
   "cell_type": "code",
   "execution_count": 12,
   "metadata": {},
   "outputs": [
    {
     "name": "stdout",
     "output_type": "stream",
     "text": [
      "+--------------------+------------------------+\n",
      "|                name|avg(duration_in_minutes)|\n",
      "+--------------------+------------------------+\n",
      "|Review Mortgage A...|       5.589466666666667|\n",
      "|         Cancel Case|    0.013266666666666666|\n",
      "|Check Land Registrar|    0.001072222222222...|\n",
      "|Perform Final Review|     0.17411666666666667|\n",
      "|      Review Payslip|      1.8568583333333333|\n",
      "|Standard HR Open ...|     0.36906666666666665|\n",
      "|Perform Risk Asse...|    0.030841666666666667|\n",
      "|   Supervisor Review|      113339.42936666666|\n",
      "+--------------------+------------------------+\n",
      "\n"
     ]
    }
   ],
   "source": [
    "spark.sql(\"select name, avg(duration_in_minutes) from bpmnSummaries group by name\").show()"
   ]
  },
  {
   "cell_type": "markdown",
   "metadata": {},
   "source": [
    "<a id='avgprocessduration'></a>\n",
    "## Average Duration of Processes in Minutes\n",
    "This section uses the summary data for completed processes to display the average duration of each process."
   ]
  },
  {
   "cell_type": "code",
   "execution_count": 13,
   "metadata": {},
   "outputs": [
    {
     "name": "stdout",
     "output_type": "stream",
     "text": [
      "+------------------------+\n",
      "|avg(duration_in_minutes)|\n",
      "+------------------------+\n",
      "|       7557.380463333333|\n",
      "+------------------------+\n",
      "\n"
     ]
    }
   ],
   "source": [
    "spark.sql(\"select avg(duration_in_minutes) from bpmnSummaries\").show()"
   ]
  },
  {
   "cell_type": "markdown",
   "metadata": {},
   "source": [
    "<a id='totalcompleteactivities'></a>\n",
    "## Number of Completed Activities\n",
    "Reading activity information is similar to reading the process information. The path in HDFS is similar:\n",
    "<pre> [root-directory]/ibm-bai/bpmn-summaries-completed/workflow/[process application id]/[process application version id]/activity/[process id]/[activity id]/[date]</pre>\n",
    "    \n",
    "The code lines below read all the completed activities by using wildcards in the path, then display the number of activities."
   ]
  },
  {
   "cell_type": "code",
   "execution_count": 14,
   "metadata": {},
   "outputs": [],
   "source": [
    "activitysummaries = spark.read.json(hdfs_root + \"/ibm-bai/bpmn-summaries-completed/*/*/activity/*/*/*\")\n",
    "activitysummaries = activitysummaries.withColumn(\"duration_in_minutes\", col(\"duration\")/60000)\n",
    "activitysummaries.createOrReplaceTempView(\"activitysummaries\")\n",
    "\n",
    "activitysummaries.cache();"
   ]
  },
  {
   "cell_type": "code",
   "execution_count": 15,
   "metadata": {},
   "outputs": [
    {
     "name": "stdout",
     "output_type": "stream",
     "text": [
      "The data containts 17 completed activities\n"
     ]
    }
   ],
   "source": [
    "print ('The data containts ' + str(activitysummaries.count()) + ' completed activities')"
   ]
  },
  {
   "cell_type": "markdown",
   "metadata": {},
   "source": [
    "<a id='completeactivities'></a>\n",
    "\n",
    "## Number Of Completed Activities\n",
    "This section displays the number of completed activities per activity type."
   ]
  },
  {
   "cell_type": "code",
   "execution_count": null,
   "metadata": {
    "pixiedust": {
     "displayParams": {
      "aggregation": "COUNT",
      "clusterby": "processApplicationName",
      "handlerId": "barChart",
      "keyFields": "name",
      "orientation": "horizontal",
      "sortby": "Values ASC"
     }
    }
   },
   "outputs": [
    {
     "data": {
      "text/html": [
       "<div class=\"pixiedust\" pixiedust=\"{&quot;prefix&quot;: &quot;977529ca&quot;, &quot;command&quot;: &quot;display(activitysummaries,cell_id=&apos;b77c989fdf5648508880879d0a2ddd9f&apos;,nostore_pixiedust=&apos;true&apos;,aggregation=&apos;COUNT&apos;,clusterby=&apos;processApplicationName&apos;,handlerId=&apos;barChart&apos;,keyFields=&apos;name&apos;,orientation=&apos;horizontal&apos;,sortby=&apos;Values ASC&apos;,nostore_cw=&apos;1098&apos;,nostore_vh=&apos;1049&apos;,org_params=&apos;nostore_pixiedust&apos;,nostore_bokeh=&apos;false&apos;)&quot;, &quot;entity&quot;: &quot;activitysummaries&quot;, &quot;options&quot;: {&quot;cell_id&quot;: &quot;b77c989fdf5648508880879d0a2ddd9f&quot;, &quot;nostore_pixiedust&quot;: &quot;true&quot;, &quot;aggregation&quot;: &quot;COUNT&quot;, &quot;clusterby&quot;: &quot;processApplicationName&quot;, &quot;handlerId&quot;: &quot;barChart&quot;, &quot;keyFields&quot;: &quot;name&quot;, &quot;orientation&quot;: &quot;horizontal&quot;, &quot;sortby&quot;: &quot;Values ASC&quot;, &quot;nostore_cw&quot;: &quot;1098&quot;, &quot;nostore_vh&quot;: &quot;1049&quot;, &quot;org_params&quot;: &quot;nostore_pixiedust&quot;, &quot;nostore_bokeh&quot;: &quot;false&quot;}, &quot;sniffers&quot;: [&quot;{&apos;nostore_bokeh&apos;:!!window.Bokeh}&quot;], &quot;avoidMetadata&quot;: false, &quot;include_keys&quot;: [&quot;filter&quot;]}\">\n",
       "  \n",
       "  <button class=\"btn btn-default btn-sm expandButton\" data-toggle=\"collapse\"\n",
       "          data-target=\"#pixiedust-output-wrapper-977529ca\" title=\"Expand/Collapse Pixiedust output\">\n",
       "    <i class=\"fa\"></i>\n",
       "  </button>\n",
       "  \n",
       "  \n",
       "  <div id=\"pixiedust-output-wrapper-977529ca\" class=\"pixiedust-output-wrapper collapse in\">\n",
       "    \n",
       "      <div class=\"pixiedust-toolbar btn-group\" role=\"group\" style=\"margin-bottom:15px\">  \n",
       "      \n",
       "        \n",
       "          <a class=\"btn btn-small btn-default display-type-button\" id=\"menu977529ca-tableView\" title=\"Table.Next\">\n",
       "            <i class=\"fa fa-table\"></i>\n",
       "          </a>\n",
       "          \n",
       "            <script>\n",
       "                $('#menu977529ca-tableView').on('click', \n",
       "            \n",
       "            function(){\n",
       "                pixiedust.executeDisplay(\n",
       "                    {\"prefix\": \"977529ca\", \"command\": \"display(activitysummaries,cell_id='b77c989fdf5648508880879d0a2ddd9f',nostore_pixiedust='true',aggregation='COUNT',clusterby='processApplicationName',handlerId='tableView',keyFields='name',orientation='horizontal',sortby='Values ASC',nostore_cw='1098',nostore_vh='1049',org_params='nostore_pixiedust',nostore_bokeh='false',prefix='977529ca')\", \"entity\": \"activitysummaries\", \"options\": {\"cell_id\": \"b77c989fdf5648508880879d0a2ddd9f\", \"nostore_pixiedust\": \"true\", \"aggregation\": \"COUNT\", \"clusterby\": \"processApplicationName\", \"handlerId\": \"tableView\", \"keyFields\": \"name\", \"orientation\": \"horizontal\", \"sortby\": \"Values ASC\", \"nostore_cw\": \"1098\", \"nostore_vh\": \"1049\", \"org_params\": \"nostore_pixiedust\", \"nostore_bokeh\": \"false\", \"prefix\": \"977529ca\"}, \"sniffers\": [\"{'nostore_bokeh':!!window.Bokeh}\"], \"avoidMetadata\": true, \"include_keys\": [\"filter\"]},\n",
       "                    {'targetDivId': 'wrapperHTML977529ca' }\n",
       "                );\n",
       "            }\n",
       "            )\n",
       "            </script>\n",
       "        \n",
       "        \n",
       "      \n",
       "        \n",
       "          <div class=\"btn-group btn-small display-type-button\">\n",
       "            \n",
       "            <a class=\"btn btn-small dropdown-toggle btn-default\" data-toggle=\"dropdown\" title=\"Chart\">\n",
       "              \n",
       "              <i class=\"fa fa-line-chart\"></i>\n",
       "              \n",
       "              <i class=\"fa fa-chevron-down\"></i>\n",
       "            </a>\n",
       "            <div class=\"dropdown-menu\" role=\"menu\" style=\"white-space:nowrap\">\n",
       "              <ul>\n",
       "              \n",
       "                <li id=\"menu977529ca-barChart\">\n",
       "                  \n",
       "                  <i class=\"fa fa-bar-chart\"></i>\n",
       "                  \n",
       "                  <span>Bar Chart</span>\n",
       "                  \n",
       "            <script>\n",
       "                $('#menu977529ca-barChart').on('click', \n",
       "            \n",
       "            function(){\n",
       "                pixiedust.executeDisplay(\n",
       "                    {\"prefix\": \"977529ca\", \"command\": \"display(activitysummaries,cell_id='b77c989fdf5648508880879d0a2ddd9f',nostore_pixiedust='true',aggregation='COUNT',clusterby='processApplicationName',handlerId='barChart',keyFields='name',orientation='horizontal',sortby='Values ASC',nostore_cw='1098',nostore_vh='1049',org_params='nostore_pixiedust',nostore_bokeh='false',prefix='977529ca')\", \"entity\": \"activitysummaries\", \"options\": {\"cell_id\": \"b77c989fdf5648508880879d0a2ddd9f\", \"nostore_pixiedust\": \"true\", \"aggregation\": \"COUNT\", \"clusterby\": \"processApplicationName\", \"handlerId\": \"barChart\", \"keyFields\": \"name\", \"orientation\": \"horizontal\", \"sortby\": \"Values ASC\", \"nostore_cw\": \"1098\", \"nostore_vh\": \"1049\", \"org_params\": \"nostore_pixiedust\", \"nostore_bokeh\": \"false\", \"prefix\": \"977529ca\"}, \"sniffers\": [\"{'nostore_bokeh':!!window.Bokeh}\"], \"avoidMetadata\": true, \"include_keys\": [\"filter\"]},\n",
       "                    {'targetDivId': 'wrapperHTML977529ca' }\n",
       "                );\n",
       "            }\n",
       "            )\n",
       "            </script>\n",
       "        \n",
       "                </li>\n",
       "              \n",
       "                <li id=\"menu977529ca-lineChart\">\n",
       "                  \n",
       "                  <i class=\"fa fa-line-chart\"></i>\n",
       "                  \n",
       "                  <span>Line Chart</span>\n",
       "                  \n",
       "            <script>\n",
       "                $('#menu977529ca-lineChart').on('click', \n",
       "            \n",
       "            function(){\n",
       "                pixiedust.executeDisplay(\n",
       "                    {\"prefix\": \"977529ca\", \"command\": \"display(activitysummaries,cell_id='b77c989fdf5648508880879d0a2ddd9f',nostore_pixiedust='true',aggregation='COUNT',clusterby='processApplicationName',handlerId='lineChart',keyFields='name',orientation='horizontal',sortby='Values ASC',nostore_cw='1098',nostore_vh='1049',org_params='nostore_pixiedust',nostore_bokeh='false',prefix='977529ca')\", \"entity\": \"activitysummaries\", \"options\": {\"cell_id\": \"b77c989fdf5648508880879d0a2ddd9f\", \"nostore_pixiedust\": \"true\", \"aggregation\": \"COUNT\", \"clusterby\": \"processApplicationName\", \"handlerId\": \"lineChart\", \"keyFields\": \"name\", \"orientation\": \"horizontal\", \"sortby\": \"Values ASC\", \"nostore_cw\": \"1098\", \"nostore_vh\": \"1049\", \"org_params\": \"nostore_pixiedust\", \"nostore_bokeh\": \"false\", \"prefix\": \"977529ca\"}, \"sniffers\": [\"{'nostore_bokeh':!!window.Bokeh}\"], \"avoidMetadata\": true, \"include_keys\": [\"filter\"]},\n",
       "                    {'targetDivId': 'wrapperHTML977529ca' }\n",
       "                );\n",
       "            }\n",
       "            )\n",
       "            </script>\n",
       "        \n",
       "                </li>\n",
       "              \n",
       "                <li id=\"menu977529ca-scatterPlot\">\n",
       "                  \n",
       "                  <i class=\"fa fa-circle\"></i>\n",
       "                  \n",
       "                  <span>Scatter Plot</span>\n",
       "                  \n",
       "            <script>\n",
       "                $('#menu977529ca-scatterPlot').on('click', \n",
       "            \n",
       "            function(){\n",
       "                pixiedust.executeDisplay(\n",
       "                    {\"prefix\": \"977529ca\", \"command\": \"display(activitysummaries,cell_id='b77c989fdf5648508880879d0a2ddd9f',nostore_pixiedust='true',aggregation='COUNT',clusterby='processApplicationName',handlerId='scatterPlot',keyFields='name',orientation='horizontal',sortby='Values ASC',nostore_cw='1098',nostore_vh='1049',org_params='nostore_pixiedust',nostore_bokeh='false',prefix='977529ca')\", \"entity\": \"activitysummaries\", \"options\": {\"cell_id\": \"b77c989fdf5648508880879d0a2ddd9f\", \"nostore_pixiedust\": \"true\", \"aggregation\": \"COUNT\", \"clusterby\": \"processApplicationName\", \"handlerId\": \"scatterPlot\", \"keyFields\": \"name\", \"orientation\": \"horizontal\", \"sortby\": \"Values ASC\", \"nostore_cw\": \"1098\", \"nostore_vh\": \"1049\", \"org_params\": \"nostore_pixiedust\", \"nostore_bokeh\": \"false\", \"prefix\": \"977529ca\"}, \"sniffers\": [\"{'nostore_bokeh':!!window.Bokeh}\"], \"avoidMetadata\": true, \"include_keys\": [\"filter\"]},\n",
       "                    {'targetDivId': 'wrapperHTML977529ca' }\n",
       "                );\n",
       "            }\n",
       "            )\n",
       "            </script>\n",
       "        \n",
       "                </li>\n",
       "              \n",
       "                <li id=\"menu977529ca-mapView\">\n",
       "                  \n",
       "                  <i class=\"fa fa-globe\"></i>\n",
       "                  \n",
       "                  <span>Map</span>\n",
       "                  \n",
       "            <script>\n",
       "                $('#menu977529ca-mapView').on('click', \n",
       "            \n",
       "            function(){\n",
       "                pixiedust.executeDisplay(\n",
       "                    {\"prefix\": \"977529ca\", \"command\": \"display(activitysummaries,cell_id='b77c989fdf5648508880879d0a2ddd9f',nostore_pixiedust='true',aggregation='COUNT',clusterby='processApplicationName',handlerId='mapView',keyFields='name',orientation='horizontal',sortby='Values ASC',nostore_cw='1098',nostore_vh='1049',org_params='nostore_pixiedust',nostore_bokeh='false',prefix='977529ca')\", \"entity\": \"activitysummaries\", \"options\": {\"cell_id\": \"b77c989fdf5648508880879d0a2ddd9f\", \"nostore_pixiedust\": \"true\", \"aggregation\": \"COUNT\", \"clusterby\": \"processApplicationName\", \"handlerId\": \"mapView\", \"keyFields\": \"name\", \"orientation\": \"horizontal\", \"sortby\": \"Values ASC\", \"nostore_cw\": \"1098\", \"nostore_vh\": \"1049\", \"org_params\": \"nostore_pixiedust\", \"nostore_bokeh\": \"false\", \"prefix\": \"977529ca\"}, \"sniffers\": [\"{'nostore_bokeh':!!window.Bokeh}\"], \"avoidMetadata\": true, \"include_keys\": [\"filter\"]},\n",
       "                    {'targetDivId': 'wrapperHTML977529ca' }\n",
       "                );\n",
       "            }\n",
       "            )\n",
       "            </script>\n",
       "        \n",
       "                </li>\n",
       "              \n",
       "                <li id=\"menu977529ca-histogram\">\n",
       "                  \n",
       "                  <i class=\"fa fa-area-chart\"></i>\n",
       "                  \n",
       "                  <span>Histogram</span>\n",
       "                  \n",
       "            <script>\n",
       "                $('#menu977529ca-histogram').on('click', \n",
       "            \n",
       "            function(){\n",
       "                pixiedust.executeDisplay(\n",
       "                    {\"prefix\": \"977529ca\", \"command\": \"display(activitysummaries,cell_id='b77c989fdf5648508880879d0a2ddd9f',nostore_pixiedust='true',aggregation='COUNT',clusterby='processApplicationName',handlerId='histogram',keyFields='name',orientation='horizontal',sortby='Values ASC',nostore_cw='1098',nostore_vh='1049',org_params='nostore_pixiedust',nostore_bokeh='false',prefix='977529ca')\", \"entity\": \"activitysummaries\", \"options\": {\"cell_id\": \"b77c989fdf5648508880879d0a2ddd9f\", \"nostore_pixiedust\": \"true\", \"aggregation\": \"COUNT\", \"clusterby\": \"processApplicationName\", \"handlerId\": \"histogram\", \"keyFields\": \"name\", \"orientation\": \"horizontal\", \"sortby\": \"Values ASC\", \"nostore_cw\": \"1098\", \"nostore_vh\": \"1049\", \"org_params\": \"nostore_pixiedust\", \"nostore_bokeh\": \"false\", \"prefix\": \"977529ca\"}, \"sniffers\": [\"{'nostore_bokeh':!!window.Bokeh}\"], \"avoidMetadata\": true, \"include_keys\": [\"filter\"]},\n",
       "                    {'targetDivId': 'wrapperHTML977529ca' }\n",
       "                );\n",
       "            }\n",
       "            )\n",
       "            </script>\n",
       "        \n",
       "                </li>\n",
       "              \n",
       "              </ul>\n",
       "            </div>\n",
       "          </div>\n",
       "        \n",
       "      \n",
       "        \n",
       "      \n",
       "        \n",
       "      \n",
       "        \n",
       "          <div class=\"btn-group btn-small display-type-button\">\n",
       "            \n",
       "            <a class=\"btn btn-small dropdown-toggle btn-default\" data-toggle=\"dropdown\" title=\"Stash dataset\">\n",
       "              \n",
       "              <i class=\"fa fa-cloud-download\"></i>\n",
       "              \n",
       "              <i class=\"fa fa-chevron-down\"></i>\n",
       "            </a>\n",
       "            <div class=\"dropdown-menu\" role=\"menu\" style=\"white-space:nowrap\">\n",
       "              <ul>\n",
       "              \n",
       "                <li id=\"menu977529ca-downloadFile\">\n",
       "                  \n",
       "                  <i class=\"fa fa-download\"></i>\n",
       "                  \n",
       "                  <span>Download as File</span>\n",
       "                  \n",
       "            <script>\n",
       "                $('#menu977529ca-downloadFile').on('click', \n",
       "            \n",
       "            function(){\n",
       "                pixiedust.executeDisplay(\n",
       "                    {\"prefix\": \"977529ca\", \"command\": \"display(activitysummaries,cell_id='b77c989fdf5648508880879d0a2ddd9f',nostore_pixiedust='true',aggregation='COUNT',clusterby='processApplicationName',handlerId='downloadFile',keyFields='name',orientation='horizontal',sortby='Values ASC',nostore_cw='1098',nostore_vh='1049',org_params='nostore_pixiedust',nostore_bokeh='false',prefix='977529ca')\", \"entity\": \"activitysummaries\", \"options\": {\"cell_id\": \"b77c989fdf5648508880879d0a2ddd9f\", \"nostore_pixiedust\": \"true\", \"aggregation\": \"COUNT\", \"clusterby\": \"processApplicationName\", \"handlerId\": \"downloadFile\", \"keyFields\": \"name\", \"orientation\": \"horizontal\", \"sortby\": \"Values ASC\", \"nostore_cw\": \"1098\", \"nostore_vh\": \"1049\", \"org_params\": \"nostore_pixiedust\", \"nostore_bokeh\": \"false\", \"prefix\": \"977529ca\"}, \"sniffers\": [\"{'nostore_bokeh':!!window.Bokeh}\"], \"avoidMetadata\": true, \"include_keys\": [\"filter\"]},\n",
       "                    {'targetDivId': 'wrapperHTML977529ca' }\n",
       "                );\n",
       "            }\n",
       "            )\n",
       "            </script>\n",
       "        \n",
       "                </li>\n",
       "              \n",
       "                <li id=\"menu977529ca-stashCloudant\">\n",
       "                  \n",
       "                  <i class=\"fa fa-cloud\"></i>\n",
       "                  \n",
       "                  <span>Stash to Cloudant</span>\n",
       "                  \n",
       "            <script>\n",
       "                $('#menu977529ca-stashCloudant').on('click', \n",
       "            \n",
       "            function(){\n",
       "                pixiedust.executeDisplay(\n",
       "                    {\"prefix\": \"977529ca\", \"command\": \"display(activitysummaries,cell_id='b77c989fdf5648508880879d0a2ddd9f',nostore_pixiedust='true',aggregation='COUNT',clusterby='processApplicationName',handlerId='stashCloudant',keyFields='name',orientation='horizontal',sortby='Values ASC',nostore_cw='1098',nostore_vh='1049',org_params='nostore_pixiedust',nostore_bokeh='false',prefix='977529ca')\", \"entity\": \"activitysummaries\", \"options\": {\"cell_id\": \"b77c989fdf5648508880879d0a2ddd9f\", \"nostore_pixiedust\": \"true\", \"aggregation\": \"COUNT\", \"clusterby\": \"processApplicationName\", \"handlerId\": \"stashCloudant\", \"keyFields\": \"name\", \"orientation\": \"horizontal\", \"sortby\": \"Values ASC\", \"nostore_cw\": \"1098\", \"nostore_vh\": \"1049\", \"org_params\": \"nostore_pixiedust\", \"nostore_bokeh\": \"false\", \"prefix\": \"977529ca\"}, \"sniffers\": [\"{'nostore_bokeh':!!window.Bokeh}\"], \"avoidMetadata\": true, \"include_keys\": [\"filter\"]},\n",
       "                    {'targetDivId': 'wrapperHTML977529ca' }\n",
       "                );\n",
       "            }\n",
       "            )\n",
       "            </script>\n",
       "        \n",
       "                </li>\n",
       "              \n",
       "              </ul>\n",
       "            </div>\n",
       "          </div>\n",
       "        \n",
       "      \n",
       "        <a id=\"filterbutton977529ca\" href=\"#filter977529ca\" class=\"btn btn-small btn-default display-type-button\" data-toggle=\"collapse\" title=\"Filter\">\n",
       "          <i class=\"fa fa-filter\" aria-hidden=\"true\"></i>\n",
       "        </a>\n",
       "      </div>\n",
       "      <div id=\"filter977529ca\" class=\"collapse no_loading_msg\" style=\"margin-bottom:15px;padding:10px 15px;border: 1px solid #eaeaea;background-color: #fafafa;\">\n",
       "        <div pd_render_onload pd_app=\"pixiedust.display.chart.filter.FilterApp\" class=\"no_loading_msg\">\n",
       "          <script>\n",
       "            $(document).trigger('pd_event', {type:\"pd_load\", targetNode: $(\"#filter977529ca\")});\n",
       "          </script>\n",
       "        </div>\n",
       "      </div>\n",
       "    \n",
       "    <div id=\"wrapperJS977529ca\"></div>\n",
       "    <div id=\"wrapperHTML977529ca\" class=\"pixiedustWrapperHTML\" pd_init\n",
       "        pixiedust=\"{&quot;prefix&quot;: &quot;977529ca&quot;, &quot;command&quot;: &quot;display(activitysummaries,cell_id=&apos;b77c989fdf5648508880879d0a2ddd9f&apos;,nostore_pixiedust=&apos;true&apos;,aggregation=&apos;COUNT&apos;,clusterby=&apos;processApplicationName&apos;,handlerId=&apos;barChart&apos;,keyFields=&apos;name&apos;,orientation=&apos;horizontal&apos;,sortby=&apos;Values ASC&apos;,nostore_cw=&apos;1098&apos;,nostore_vh=&apos;1049&apos;,org_params=&apos;nostore_pixiedust&apos;,nostore_bokeh=&apos;false&apos;)&quot;, &quot;entity&quot;: &quot;activitysummaries&quot;, &quot;options&quot;: {&quot;cell_id&quot;: &quot;b77c989fdf5648508880879d0a2ddd9f&quot;, &quot;nostore_pixiedust&quot;: &quot;true&quot;, &quot;aggregation&quot;: &quot;COUNT&quot;, &quot;clusterby&quot;: &quot;processApplicationName&quot;, &quot;handlerId&quot;: &quot;barChart&quot;, &quot;keyFields&quot;: &quot;name&quot;, &quot;orientation&quot;: &quot;horizontal&quot;, &quot;sortby&quot;: &quot;Values ASC&quot;, &quot;nostore_cw&quot;: &quot;1098&quot;, &quot;nostore_vh&quot;: &quot;1049&quot;, &quot;org_params&quot;: &quot;nostore_pixiedust&quot;, &quot;nostore_bokeh&quot;: &quot;false&quot;}, &quot;sniffers&quot;: [&quot;{&apos;nostore_bokeh&apos;:!!window.Bokeh}&quot;], &quot;avoidMetadata&quot;: false, &quot;include_keys&quot;: [&quot;filter&quot;]}\" style=\"min-height:100px\"></div>\n",
       "  </div>\n",
       "</div>\n",
       "                    <script>\n",
       "                    (\n",
       "            \n",
       "            function(){\n",
       "                pixiedust.executeDisplay(\n",
       "                    {\"prefix\": \"977529ca\", \"command\": \"display(activitysummaries,cell_id='b77c989fdf5648508880879d0a2ddd9f',nostore_pixiedust='true',aggregation='COUNT',clusterby='processApplicationName',handlerId='barChart',keyFields='name',orientation='horizontal',sortby='Values ASC',nostore_cw='1098',nostore_vh='1049',org_params='nostore_pixiedust',nostore_bokeh='false',prefix='977529ca')\", \"entity\": \"activitysummaries\", \"options\": {\"cell_id\": \"b77c989fdf5648508880879d0a2ddd9f\", \"nostore_pixiedust\": \"true\", \"aggregation\": \"COUNT\", \"clusterby\": \"processApplicationName\", \"handlerId\": \"barChart\", \"keyFields\": \"name\", \"orientation\": \"horizontal\", \"sortby\": \"Values ASC\", \"nostore_cw\": \"1098\", \"nostore_vh\": \"1049\", \"org_params\": \"nostore_pixiedust\", \"nostore_bokeh\": \"false\", \"prefix\": \"977529ca\"}, \"sniffers\": [\"{'nostore_bokeh':!!window.Bokeh}\"], \"avoidMetadata\": true, \"include_keys\": [\"filter\"]},\n",
       "                    {'targetDivId': 'wrapperHTML977529ca' }\n",
       "                );\n",
       "            }\n",
       "            )();\n",
       "                    </script>\n",
       "                </div>"
      ],
      "text/plain": [
       "<IPython.core.display.HTML object>"
      ]
     },
     "metadata": {},
     "output_type": "display_data"
    }
   ],
   "source": [
    "display(activitysummaries)"
   ]
  },
  {
   "cell_type": "markdown",
   "metadata": {},
   "source": [
    "With Spark SQL, you can use:"
   ]
  },
  {
   "cell_type": "code",
   "execution_count": 23,
   "metadata": {},
   "outputs": [
    {
     "name": "stdout",
     "output_type": "stream",
     "text": [
      "+--------------------+--------+\n",
      "|                name|count(1)|\n",
      "+--------------------+--------+\n",
      "|      Process 1 Task|      43|\n",
      "|Submit position r...|      51|\n",
      "|      Process 2 Task|      34|\n",
      "|Find position can...|      45|\n",
      "|    Top Service Flow|      29|\n",
      "|     Process 1 AdHoc|      33|\n",
      "|       Top User Task|      24|\n",
      "|Review new positi...|      47|\n",
      "|Nested Tkt Servic...|      75|\n",
      "|Nested Linked Pro...|      25|\n",
      "|          Subprocess|      25|\n",
      "|    Nested User Task|      75|\n",
      "|Notify hiring man...|       2|\n",
      "|Recursive Linked ...|      50|\n",
      "|      Confirm Launch|      30|\n",
      "|Send escalation n...|       3|\n",
      "|    Launch Process 2|      30|\n",
      "+--------------------+--------+\n",
      "\n"
     ]
    }
   ],
   "source": [
    "spark.sql(\"select name, count(*) from activitysummaries group by name\").show()"
   ]
  },
  {
   "cell_type": "markdown",
   "metadata": {},
   "source": [
    "<a id='avgactivityduration'></a>\n",
    "## Average Duration per Activity\n",
    "In this section, the average duration is displayed per activity."
   ]
  },
  {
   "cell_type": "code",
   "execution_count": 24,
   "metadata": {
    "pixiedust": {
     "displayParams": {
      "aggregation": "AVG",
      "chartsize": "100",
      "clusterby": "processApplicationName",
      "handlerId": "barChart",
      "keyFields": "name",
      "orientation": "horizontal",
      "valueFields": "duration_in_minutes"
     }
    }
   },
   "outputs": [
    {
     "data": {
      "text/html": [
       "<style type=\"text/css\">.pd_warning{display:none;}</style><div class=\"pd_warning\"><em>Hey, there's something awesome here! To see it, open this notebook outside GitHub, in a viewer like Jupyter</em></div>\n",
       "        <div class=\"pd_save is-viewer-good\" style=\"padding-right:10px;text-align: center;line-height:initial !important;font-size: xx-large;font-weight: 500;color: coral;\">\n",
       "            \n",
       "        </div>\n",
       "    <div id=\"chartFigure0548ce9c\" class=\"pd_save is-viewer-good\" style=\"overflow-x:auto\">\n",
       "            \n",
       "                    \n",
       "                            <center><img style=\"max-width:initial !important\" src=\"data:image/png;base64,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\" class=\"pd_save\"></center>\n",
       "                        \n",
       "                    \n",
       "                \n",
       "        </div>"
      ],
      "text/plain": [
       "<IPython.core.display.HTML object>"
      ]
     },
     "metadata": {},
     "output_type": "display_data"
    }
   ],
   "source": [
    "display(activitysummaries)"
   ]
  },
  {
   "cell_type": "markdown",
   "metadata": {},
   "source": [
    "In Spark SQL, you can use:"
   ]
  },
  {
   "cell_type": "code",
   "execution_count": 25,
   "metadata": {},
   "outputs": [
    {
     "name": "stdout",
     "output_type": "stream",
     "text": [
      "+--------------------+------------------------+\n",
      "|                name|avg(duration_in_minutes)|\n",
      "+--------------------+------------------------+\n",
      "|      Process 1 Task|       0.126568992248062|\n",
      "|Submit position r...|     0.26271666666666665|\n",
      "|      Process 2 Task|      0.7160607843137256|\n",
      "|Find position can...|      1182.6352514814814|\n",
      "|    Top Service Flow|    0.002838505747126437|\n",
      "|     Process 1 AdHoc|      0.5841707070707071|\n",
      "|       Top User Task|     0.12280416666666667|\n",
      "|Review new positi...|      291.98195780141845|\n",
      "|Nested Tkt Servic...|    0.003866000000000...|\n",
      "|Nested Linked Pro...|     0.15618266666666666|\n",
      "|    Nested User Task|      0.1504744444444444|\n",
      "|          Subprocess|     0.16426400000000002|\n",
      "|Notify hiring man...|                     0.0|\n",
      "|Recursive Linked ...|     0.23234800000000003|\n",
      "|      Confirm Launch|                0.559535|\n",
      "|Send escalation n...|    0.006566666666666666|\n",
      "|    Launch Process 2|    0.002039444444444444|\n",
      "+--------------------+------------------------+\n",
      "\n"
     ]
    }
   ],
   "source": [
    "spark.sql(\"select name, avg(duration_in_minutes) from activitysummaries group by name\").show()"
   ]
  },
  {
   "cell_type": "markdown",
   "metadata": {},
   "source": [
    "<a id='avgactivitydurationglobal'></a>\n",
    "## Average Duration of Activities\n",
    "This section computes the average duration of all the activities."
   ]
  },
  {
   "cell_type": "code",
   "execution_count": 26,
   "metadata": {},
   "outputs": [
    {
     "name": "stdout",
     "output_type": "stream",
     "text": [
      "+------------------------+\n",
      "|avg(duration_in_minutes)|\n",
      "+------------------------+\n",
      "|      107.97955507246377|\n",
      "+------------------------+\n",
      "\n"
     ]
    }
   ],
   "source": [
    "spark.sql(\"select avg(duration_in_minutes) from activitysummaries\").show()"
   ]
  },
  {
   "cell_type": "markdown",
   "metadata": {},
   "source": [
    "<a id='activitiesperuser'></a>\n",
    "## Completed Activities By Users\n",
    "This section displays the activities that are completed by the various individuals or teams."
   ]
  },
  {
   "cell_type": "code",
   "execution_count": 27,
   "metadata": {
    "pixiedust": {
     "displayParams": {
      "aggregation": "COUNT",
      "handlerId": "pieChart",
      "keyFields": "performerName",
      "legend": "true"
     }
    }
   },
   "outputs": [
    {
     "data": {
      "text/html": [
       "<style type=\"text/css\">.pd_warning{display:none;}</style><div class=\"pd_warning\"><em>Hey, there's something awesome here! To see it, open this notebook outside GitHub, in a viewer like Jupyter</em></div>\n",
       "        <div class=\"pd_save is-viewer-good\" style=\"padding-right:10px;text-align: center;line-height:initial !important;font-size: xx-large;font-weight: 500;color: coral;\">\n",
       "            \n",
       "        </div>\n",
       "    <div id=\"chartFigure75f47f07\" class=\"pd_save is-viewer-good\" style=\"overflow-x:auto\">\n",
       "            \n",
       "                    \n",
       "                            <center><img style=\"max-width:initial !important\" src=\"data:image/png;base64,iVBORw0KGgoAAAANSUhEUgAAAvIAAAGnCAYAAADVMLOVAAAABHNCSVQICAgIfAhkiAAAAAlwSFlzAAAOwwAADsMBx2+oZAAAADl0RVh0U29mdHdhcmUAbWF0cGxvdGxpYiB2ZXJzaW9uIDIuMS4wLCBodHRwOi8vbWF0cGxvdGxpYi5vcmcvpW3flQAAIABJREFUeJzs3XlcVOXiBvBnhmEZdlAQ3ACZcQtzJ0tT7GrumeUWiHbNpcxcWqzcMpfMtp+2eFPLxJVcuuaC5QbWVRGU3BVFFAXZ921glvP7g5zEBQGBl4Hn+/n4EeacOecBRnnmnXfeI5MkSQIREREREZkUuegARERERERUcSzyREREREQmiEWeiIiIiMgEKUQHoNrFYDCguLgYfOsEERGRaTM3N4eZmRlkMpnoKFRNWOTJKDc3FzExMTAYDKKjEBERURWwt7eHh4cHLCwsREehaiDjqjUElIzEnzlzBvb29nB3d+ezdyIiIhMmSRKKiooQHx8PrVYLtVoNOzs70bGoinFEngAAxcXFMBgMcHd3h7W1teg4RERE9Jisra1hYWGBy5cv49dff8Xzzz8PV1dX0bGoCvHNrgQAxjnxHIknIiKqO+TykqqXlZWFPXv2ID8/X3Aiqkos8kRERER1nKurK9LS0pCZmSk6ClUhFnmqN5o2bYp169Y91jFkMhkOHjxYNYGoxvn5+WHu3LmiYzxSjx49sGDBgsc6hqenJ3744YeqCUTl8v3330OlUomOQZX0wQcfoE+fPjV2Po1GA5lMhv/97381cj65XA6DwQCtVlsj56OawSJPVAGJiYno2bOn6BhEjxQZGYmAgADRMUyGTCYr809YWNgjjzFu3DiEh4dXf1iUPGkwMzPDZ599ViPnK6/z589DJpMhKSmpzP1Gjx593/fY09OzZkIC6NKlCz799NNSt82dOxfbtm2rsQyPcm/Rv3z5svF7JZfL4ejoiKeeegpLly5FQUGB4LQkCt/sSmXy/GBvjZ3rxqeDauxcleXm5iY6gkloF9SuRs5zbty5GjmPKXJxcREd4aEutW5TI+dpc/lSufdNTEw0frxs2TKcOHECv/zyi/E2Z2fnRx5DqVRCqVRWLGQlrV+/HjNmzEBQUBBmzZpVI+esav7+/vjyyy+Nn5uZmQlMA9ja2go9f3lFRUXB3d0d2dnZCA8Px+LFixEcHIw///wT9vb2ouNRDeOIPJmsH3/8ER06dICNjQ08PDwwb9486HQ6ACWr8EyaNAm2trZo1qwZNmzYUOq+N27cgEwmwy+//IIuXbpAqVSiT58+SE9Px7Zt2+Dt7Q0nJyfMnDmz1MWx7p5aExYWBplMhkOHDqFt27aws7PDiy++yPmHtZxGo8G4ceOMj5utW7cC+OfnGRISgpYtW0KpVOKll15CVlaW8b5+fn547733MHHiRNjZ2cHT0xMhISGIj49Hnz59YGNjg+7duyMuLs54n127dqFbt26ws7ND48aNMWXKlFJvNpMkCXPmzIGTkxNcXFzw+eef35dZJpNh7dq1eO6556BUKuHr64vY2FiEhYXBx8cH9vb2CAwMhEajMd7n7qk1dx7vO3fuhK+vL2xsbODn54ebN29W+ffXVLm5uRn/2NjYwMLCotRtFhYWOHLkCHr27AkHBwe4uroiMDAQGRkZxmPcO7WmoKAAY8aMMT7Wfv75ZzRs2BDBwcEAgPz8fIwZMwZNmjSBjY0NfH198eeffz4y69WrV3H58mUsWbIE2dnZOHnyZKntkiThyy+/hLe3NywtLaFSqbB+/Xrj9hMnTqBXr15QKpVo0KABRo4cadyWl5eHyZMno2HDhnBycsKLL76I+Ph44/bRo0dj/PjxmDZtmnG54u+//x5Ayb+tdu1KnsTfWcb43lHvuymVylLf4ztPPn/77TcoFKXHGe/93o4ePRqvvfYa3n//fTg5OaFp06b47rvvSt0nOjoagwcPhp2dHRwcHNCvXz/k5eVh9OjROHXqFD788EPIZDK0bt0awP1Ta3JycjBu3Dg4ODjAzs4Oo0aNQlpaWrkzVPbn+yguLi5wc3NDq1atMG7cOBw9ehTx8fGlnhRR/cEiTybLYDDgiy++wPnz5/H999/jhx9+wOrVqwEAS5cuxe7du/HLL79gz549+PHHH5Genn7fMRYuXIgvv/wSx48fR1xcHEaMGIGNGzfi119/xcaNG7Fy5Urs2bOnzByLFy/GunXrEBoainPnzmHx4sXV8vVS1Vi1ahVUKhWioqIwadIkBAQEICYmxrj9o48+QlBQEEJDQ3H58mXMmDGj1P1Xr14NHx8fREVFYdCgQQgMDMSECRMwY8YMnDp1CpIk4e233zbur9FoMGfOHJw5cwbBwcEIDQ3Fxx9/bNy+fv16fP3111i9ejXCwsJw/PhxnDlz5r7cixcvxsyZMxEVFQWFQgF/f3/jY2/fvn3Yt28f1qxZU+bXvmDBAixbtgwREREoKCjAzJkzK/ttrJfy8/Mxbdo0nDp1Cnv27MGVK1fue3zcbf78+fjzzz+xd+9e/Prrr1i5ciVyc3ON27VaLXx8fBASEoIzZ86gT58+GDJkSKknBw8SFBSEYcOGwcrKCiNHjkRQUFCp7d9++y0WL16MBQsW4OLFi1i1ahVsbGwAALdv30afPn3wxBNPIDIyEqGhofD19TXed/z48YiPj8fvv/+O48ePw9bWFkOHDi11ocBt27ZBLpcjIiICc+fOxdSpUxEeHg4rKyvjFKSzZ88iMTERb731Vrm/vxW1bds2WFhYICIiAu+//z7eeustREdHAyh5EtWnTx/jE7Dw8HAMHjwYer0eq1atQvv27TFnzhwkJiY+dI761KlTERERgZCQEISGhiImJgbjx48vd4bK/nwrytXVFSNHjsSuXbuq9LhkGji1hkzWxIkTjR97eXlh+vTp2L59O6ZMmYKVK1fi448/xvPPPw+gZDSnTZv7X86fPXs2evXqBQB47bXXMHv2bCQlJcHV1RU+Pj7o3bs3wsLCMGTIkIfmWLZsmfEX4YQJE7Bjx46q/DKpij3xxBOYN28eAGDOnDnYt28fvv/+ewwePBgAsGjRIjz99NMAgK+//hoDBgzA8uXL4ejoCADo3r07pk+fDgCYN28eVq5ciT59+hjvP23aNLz55pvG89092tmiRQt89NFHmD17tnFu88qVK/Hmm29ixIgRAEpeaWrSpMl9uV9//XXj43DatGl45ZVXEBkZiS5dugAAhg8fjrCwsDKL0+zZs9G7d28AwMyZM6u1ZNVFAwcOLPX5smXLMGjQoFKj3XdIkoQ1a9bgu+++g5+fHwDgm2++Qfv27Y37ODo64oMPPjB+/sknn2DLli04ePBgqcfNvcfdsGGD8dWW0aNHY+DAgfjqq69gbm4OoORJ36JFixAYGAgA8Pb2Nt5/xYoVaNWqFVauXGm87cknnwRQMoK9e/dupKamGqeZ/PDDD7C3t0dUVJTxsebq6oqvvvoKcrkcrVu3RmhoKL799lt069YNDRo0APDPqHFZgoKCjK9OACUDK3c/CX4UlUqFRYsWAQDUajW++OIL/Pnnn2jVqhWCgoJgMBiwZcsWWFpaAkCp3wEKhQK2trYPzZieno5NmzbhwIED6N69O4CSf5sdO3bEtWvXjN/TsjJU5udbWa1bty71vaT6gyPyZLKOHTuG559/Hk2aNIGtrS0WLFiAW7duITs7GykpKaVGmVq3bv3AK9rdeRkYABo1agQXF5dSF8to1KgRUlNTy8xx9zHc3NyQkpLyOF8WVbO7Hxd3Pr8zgnbvdl9fX+h0Oly7ds14272PGaDkycHdt2VkZECv1wMALl68iGHDhqF58+aws7PDv//9b9y6dcu4f3R0dKlzOjk5PXDlk/Kct6KP1fT0dGNOerS4uDj4+/vDy8sLdnZ2GDhwIAoKCh74al9ycjJycnLQuXNn423t2rUzlkqgpJQvXboU7dq1g5OTE2xtbXHz5s1Sj497hYaGQqPR4LnnngNQ8hh1cHDA3r0l72dKTU1FSkqK8cnDvc6fP1/mtqKiIri5ucHW1ha2trZo2LAhdDodYmNjjft17tzZuDb5nQx3/xsqr2HDhuH06dPGP/eOdj/K3Y9noPT/v+fPn8fTTz9d6vtdETExMTAYDOjWrZvxtg4dOkCpVJb6WsvKUJmfb2VJksTrwNRTHJEnk5Sbm4tBgwZh5MiRWLhwIZydnbF582asW7euQhe3ujOCdWf/uz+/c9ujis69x7j7JWiqfR71uLh7+4P2vffn/bDb7jwOX3jhBTz55JPYtGkTXF1d8ccff2DSpEkVylTe8z7qsVdWTnq0gIAAWFpa4scff0Tjxo1x+fJlDBs27IHL+T3s/6G7v98//vgjPvvsM3zzzTdo164dbGxsMHDgwDKXB1y/fj1SUlJKFVSDwYCgoCC8+OKLj/x5lrU9Ly8PTk5OOHHixH3b7h65rqrCaG9v/8AnrXc/SbjjQd+TB/1/feffwOM+rst7/7IyVObnW1mXL1+u0VV/qPZgkSeTFB0djaysLCxbtsw45eHOKIejoyNcXV0RERGBjh07Gve/e24q1V8RERGlPo+MjMRTTz1Vanu/fv2MHysUilJTEyoiLS0N165dw/bt29GhQwcAML659o6WLVsiIiICw4YNA1By9cW75+xT7SBJEk6cOIHdu3cbR8PLeuOim5sb7O3tcerUKeObKc+fP4/i4mLjPuHh4ejXrx/GjBkDAMjOzkZCQsJDj5mfn48dO3Zg8+bNpUaCb926haFDhyItLQ2urq5wdXU1vhH6Xu3atcPhw4cfePz27dsjIyMDkiRBrVY/NMfJkydLjQBHRkaiVatWAP4pto/zSo+Liwv0ej1SU1ONb4A9d65iK1S1a9cOS5YsQVFR0QNH5c3NzcvMqFarIZfLER4ebvx5nz59GoWFhcav9VEq+vOtrJSUFGzdutU45Y/qF06tIZPUvHlzmJubY+XKlYiNjcX333+PnTt3Gre//vrr+Pjjj3Hw4EGcOXMGb7zxBqysrAQmptri/PnzWLJkCa5cuYKlS5fi+PHjmDx5snH7vHnzcOLECZw4cQLTp0+Hv7+/8cliRTk5OcHJyQlr1qxBbGwsfv75Z6xatarUPm+88Qa+++47bN++HRcvXsSECROEL8NH95PJZGjRogWCgoIQExODPXv2lLmGu0wmw8SJEzF37lwcOXIEp0+fxrRp02BhYWEswN7e3vjjjz9w7NgxnD9/HoGBgQ8cjb5jx44dsLa2xqhRo+Dj42P8M2DAAHh4eGDLli0AStZDnzdvHjZs2IDY2FgcOXLEuJTm9OnTcfnyZUyZMgUXLlzAhQsX8NVXXwEomToycOBADB8+HAcOHMD169cRFhaGN954o9RASEpKCt555x1ER0fjP//5D3bu3IkpU6YAABo3bgyFQoHff/8dqampKCwsrPD3uk2bNnBxccH8+fMRExODdevWlfr/vTzGjRsHmUwGf39//PXXX4iOjsbKlSuRnZ0NAPDw8MCxY8dw+/btUitT3dGgQQOMGTMGU6dOxbFjx3Dy5Em89tprGDJkSLmf2Ff051teqampSEpKwpUrV7B+/Xp0794dHh4eeOeddx772GR6WOTJJLm6umL16tVYuXIl2rVrh/3795d6U9Hs2bMxYMAADB06FAMHDsTYsWONb8Ki+m3SpEm4ePEiOnbsiJUrV2Ljxo2lRh/nzZuHgIAA9OrVCyqVCsuXL6/0uczMzLBp0ybs378fTzzxBFatWoWFCxeW2ufVV1/Fm2++iQkTJqBnz57o0qVLqTdEUu3x008/4dy5c/Dx8cHixYuxZMmSMvdfuHAhunfvbvy/6PXXX4e5ublxhHjatGno3r07nn/+efTr1w/9+/cvc7Q3KCgIQ4YMeWAZHDp0qHH1mqlTp+LDDz/E3Llz0aZNG0yYMMF4waDGjRtj//79OHv2LDp37oxevXohMjLSeJytW7fCz88PY8eORevWrfHaa69BLpeXGtUePnw4NBoNunTpgo8//hgrVqzAM888AwCws7PDJ598gtmzZ8PV1RUrVqwo53f3H1ZWVti4cSMOHz6MJ598Env37sW7775boWNYW1vjwIEDyM/PR/fu3fHUU09hz549xifJ77//PuLj4+Hp6VlqHvzdvvnmG3Tt2hUDBgxA7969oVKpsHbt2nJnqOjPt7w6deqExo0bo2vXrvj2228xfvx4HD161GTWwaeqJZM4QZIAFBYW4uLFi2jbtm2NXdCEqDYJCwtD7969odVq71vDmqgqxMTEQK1W4+zZs/e9SdJUjB49Gra2tsZVc6j2u/P7/fr164iJicGoUaPg5eUlOhZVEf62IiIiqgaXL1/GyZMn8fTTTyM1NRXvvPMO2rdvb7IlnohqH06tISIiqgYymQwrVqxA+/btMWTIELi5uSEkJER0LCKqQzgiT0QEwM/Pj0sxUpVq1apVqfnndQEvOkRUu3BEnoiIiIjIBLHIExERERGZIBZ5IiIiIiITxCJPRERERGSCWOSJiIiIiEwQizwRERERkQlikac669VXX8WYMWMqfX+dTgeZTIawsLBKH2PdunVo2rRplWW6l0wmw8GDBwGUXJlUJpNBp9NV2fGJiIio9uI68lS2BQ41eK7scu02aNAg2NjYYOvWrfdte++997Bv3z6cP3++qtM9kEwmw4EDB9CnTx8AQFpaGvr27Qs7Ozvs3bv3vv1XrFhRpedPTEyEs7NzlR6TiIiITANH5MnkjBs3Drt370ZWVlap2w0GAzZv3oxx48YJyZWUlAQ/Pz80bNgQv/32G+zs7O7bx8HBAQ4OVffkyM3NDRYWFlV2PCIiIjIdLPJkcoYOHQorKyts27at1O0HDx5EcnIyAgICHni/pUuXok2bNrC2toZarcbXX39dant2djZefvllKJVKtGzZEvv37y93poSEBPTq1Quenp7Ys2cPrK2tH7jfvVNr8vPzMXXqVLi5uUGpVKJTp044ceIEAGDBggXo0aMHvv32W7i7u6Nhw4aYNWtWqauP3j215l5JSUnw8fHB5MmTecVSIiKiOohTa8jkWFpaYtSoUVi/fj0mTpxovH39+vXo27cvGjdu/ND7rVmzBk2aNEFkZCTGjx8PlUqFgQMHAgBmzJiBCxcu4PDhwwCAadOmlStPXFwcJk+ejA4dOiA4OBjm5ubl/lomTZqEU6dOYf369fD29sbp06dhMBiM28+ePQtvb28cPnwY0dHRGDlyJJ599lkMGTKkzOPGx8fjX//6F/r374/ly5dDJpOVOxMRERGZBhZ5Mkljx45Fjx49cP36dXh5eSEvLw87d+7EDz/88ND7vP3228aPvby8cPjwYWzfvh0DBw5ETk4ONm7ciN27d+Ppp58GACxatAgDBgx4ZJYpU6bA19cXP//8MxSK8v+Tio2NxebNmxEZGYkuXboAALy9vUvto1AosGrVKlhZWaFNmzbo3bs3jhw5UmaRv3HjBp5//nkMHz4cn332WbnzEBERkWnh1BoySc888wxUKhU2bNgAANixYwfMzMwwdOjQh95n79696NGjBxo1agRbW1usXbsWt27dAlBSqnU6HXx9fY373/1xWQYNGoTw8HDs3LmzQl/DhQsXYGNjYyzxD6JWq2FlZWX83M3NDSkpKWUe18/PD4MHD2aJJyIiquNY5MlkjR071ljkN2zYgJEjR0KpVD5w39jYWLz00kt47rnnsHfvXvz1118YO3YstFotABjnkFdmCsqUKVOwZMkS+Pv7Y/fu3eW+nyRJjzzfvdN0ZDJZqak3D9K/f3+EhIQgMTGx3FmIiIjI9LDIk8kKDAzEtWvXsG3bNoSGhpa5Wk1UVBSUSiUWLlyILl26QK1W4/r168bt3t7eUCgUiIiIMN4WGRlZ7iyzZs3C3LlzMWLECPz+++/luo+Pjw/y8vJw8uTJcp+nPFauXIlu3bqhb9++SE9Pr9JjExERUe3BIk8my8PDA35+fpg0aRK8vLzQo0ePh+7r7e2NnJwcrFu3DjExMVi8eHGpom5vbw9/f3/MnDkTJ06cQHh4OObNm1ehPPPnz8c777yDYcOGITQ09JH7t2jRAv7+/hgzZgwOHDiA2NhY7Ny5E+Hh4RU6773kcjnWrVsHtVqNfv36IScn57GOR0RERLUTizyZtHHjxiErKwuBgYFl7texY0csWbIEs2bNQqdOnXDjxg1Mnjy51D7Lly9Hq1at0KtXLwQEBFS4yAPAkiVLMGXKFAwZMgRHjx595P6rV69G79698corr8DHxweLFi2CXP74/ywVCgWCg4Ph7OyMQYMGoaCg4LGPSURERLWLTOIC0wSgsLAQFy9eRNu2bR86z5yIiIhMy53f79evX0dMTAxGjRoFLy8v0bGoinBEnoiIiIjIBLHIExERERGZIBZ5IiIiIiITxCJPRERERGSCWOSpFL73mYiIqO7g7/W6jUWeAPxzBdGioiLBSYiIiKiq5OXlAYDxSuZUtyhEB6DawczMDPb29khISICFhUWVrGVOREREYkiShLy8PNy6dQsZGRkcma+jWOQJACCTyeDh4YELFy7g8uXLouMQERFRFcjIyEBqaip0Oh3MzMxgaWkpOhJVIRZ5MrKwsMCTTz6Jffv2ITY2Fg0aNDBOuSEiIiLTIUkStFotJEmCTqdDcnIymjZtCicnJ9HRqArxyq50H41Gg3379uHGjRvQ6XSi4xAREdFjMDMzQ6NGjTBo0CA4OjqKjkNViEWeHkin0yE3NxcajUZ0FCIiInoM5ubmsLe3h4WFhegoVMVY5ImIiIiITBCXJiEiIiIiMkEs8kREREREJohFnoiIiIjIBLHIExERERGZIBZ5IiIiIiITxCJPRERERGSCWOSJiIiIiEwQizwRERERkQlikSciIiIiMkEs8kREREREJohFnoiIiIjIBLHIExERERGZIBZ5IiIiIiITxCJPRERERGSCWOSJiIiIiEwQizwRERERkQlikSciIiIiMkEs8kREREREJohFnoiIiIjIBLHIExERERGZIBZ5IiIiIiITxCJPRERERGSCWOSJiIiIiEwQizwRERERkQlikSciIiIiMkEs8kREREREJohFnoiIiIjIBLHIExERERGZIBZ5IiIiIiITxCJPRERERGSCWOSJiIiIiEwQizwRERERkQlikSciIiIiMkEK0QGIiKhsxfpiFOoKodFpoNFrSv1dpC9Coa4QRfoi6A36ch9TJpOVe18zmRmUCiWsFdawNrc2fqw0//tvhbJCxyMioqrBIk9EVI0kgwH6rCzo09OhS8+APjMDuowMGHJzYcjLgz4/H4a8fBjy//6TlwdDfj70+Xm41rc1PvCMgEEyiP4yyiSDDFYKK2PRv1PuH/jxXeXfxtwGTpZOaKBsgAbKBnC2coZcxheKiYjKi0WeiKiC9Hl5/xTzjHToMjKgz8go+Tz978/v/J2VBejLP1J+N5f4PBg8aneJBwAJEgp1hSjUFSJdk17p45jJzOBo6YiGyoZooGxQ8rdVg38+VjZAQ6uSvx0tHfkqABHVeyzyRER3MRQWQpuQAG1CAorj46FNuF3y+e3b0KWlQZ+RAamoqEay2CRm1ch5agu9pEe6Jr3kyUBm2fsq5Ao4WzqXLvl/F/+G1g3hbuOO5nbN4WTlVDPhiYgEYJEnonrFUFRkLOra+PiSwp6QUFLY4+Ohz8gQHdFIdisJMgmQOPB8H51Bh5TCFKQUppS5n52FHZrZNUMzu2Zobtf8n4/tm8PV2rWG0hIRVQ+ZJEmS6BBERFVJn5eHoqtXUXztGorjbv4zwp6QAH16OmBC/+0tfKcxzluUXVapcpQKJZraNUUz25Jif3fJd7dx53x9Iqr1OCJPRCbLkJ+PomvXUHQ1BkVXr6IoJgZFMTHQJSWJjlZlnixowCJfTQp1hbiaeRVXM6/et81cbo4mtk2Mxb6ZXTN42HugpVNLjuRXEz8/P/To0QOLFy8WHaVMPXr0QJ8+fbBgwYJKH8PT0xNz587FhAkTqi4Y1Uss8kRU6xkKC1EUc+3vol5S2IuvxkCbmGhSo+uV4Z2jBBxFp6h/tAYtbuTcwI2cG0BC6W3OVs5o7dwarZxboY1zG7RybgVPe0+O4FO5RUZGwtbWVnQMqgNY5Imo1pAkCcWxsdBcvIiiK3+PsF+9Cm1CQp0v7A/TON0ANBedgu6WocnAsdvHcOz2MeNtSoUSaic1Wjv9U/DVTmpYKawEJqXaysXFRXQEqiM4fEBEwmhTUpB78CBSvvo/xL36b1zp6ovYQYNx+71ZSF+zBnmhodDGx9fbEg8ADkl5oiNQORTqCnE29Sy2XtmKReGL4B/ij26bu2HozqGY9ccs/HT+Jxy7fQyZmkcsx1PPaTQajBs3DjY2NvDw8MDWrVsBAGFhYZDJZAgJCUHLli2hVCrx0ksvISvrn5Wd/Pz88N5772HixImws7ODp6cnQkJCEB8fjz59+sDGxgbdu3dHXFyc8T67du1Ct27dYGdnh8aNG2PKlCnIz883bpckCXPmzIGTkxNcXFzw+eef35dZJpNh7dq1eO6556BUKuHr64vY2FiEhYXBx8cH9vb2CAwMhEajMd7H09MTP/zwAwDgxo0bkMlk2LlzJ3x9fWFjYwM/Pz/cvHmzyr+/VPewyBNRjdDn5SM//ATS1qxB/FvTcLWXH2J69kL81LeQvno1CsLDYchjab2XeTznx5sqvaRHbHYs9l3fh69OfYXJByaj58898a9t/8Kbh97E11Ff42DcQaQVpomOWmusWrUKKpUKUVFRmDRpEgICAhATE2Pc/tFHHyEoKAihoaG4fPkyZsyYUer+q1evho+PD6KiojBo0CAEBgZiwoQJmDFjBk6dOgVJkvD2228b99doNJgzZw7OnDmD4OBghIaG4uOPPzZuX79+Pb7++musXr0aYWFhOH78OM6cOXNf7sWLF2PmzJmIioqCQqGAv78/Fi9ejHXr1mHfvn3Yt28f1qxZU+bXvmDBAixbtgwREREoKCjAzJkzK/ttpHqEq9YQUZWTdDpooqOhOXcOhWfPQXPuLIquxQKG2n9xo9po6ixHpJjxSU5d5mHvgU6undC5UWd0btQZTe2aio53dvuQAAAgAElEQVRU4/z8/KDRaBAeHm68rUePHujWrRsGDx6M3r17Y9++fejfvz8A4ODBgxgwYABSU1Ph6OgIPz8/WFtbIyQkBACQlJQEd3d3fP7553j33XcBAMHBwXjzzTeRnv7gC5cFBwdj9uzZiI2NBQA89dRT6N27Nz799FMAQGZmJpo0aYJZs2YZ3+wqk8mwbNkyzJo1y3iMV155BZGRkejSpQsA4PXXX0dqaip27NgBoPSbXW/cuAEvLy/8/PPPGDlyJABgy5YteOutt5CWxid5VDbOkSeix6bPzUVBRAQKIiJRePYsNJcuQbrrZWR6PB01rvjdhkW+LovLiUNcThz+G/NfAICbjVupYu/t6C04Yc3w9fW97/Po6GgMHjz4vu2+vr7Q6XS4du0aOnfuDABo166dcXujRo0AAE888USp2zIyMqDX62FmZoaLFy9izpw5OHXqFDIzM6HT6aDT6Yz7R0dH4/333zd+7uTkBJVKdV/u8pz34sWLZX7tdx/Dzc0N6enpxpxED8MiT0QVZigsRMHJUyg4EY788BPQXLoE6PWiY9VZrfPs8LuN6BRUk5LykxByPQQh10tGl52tnNHRtSM6N+qMTo06obVTa5jJ617Bk8nKvvrZ3dsftK+5ufl92x90253JCC+88AKefPJJbNq0Ca6urvjjjz8wadKkCmUq73kNj3hFsqycRA/DIk9EjyQVF6PwzBnkh59A/olwaM6chaTVio5VbzTPMAMaiU5BImVoMnDo5iEcunkIAGBrbov2ru3RpVEXdG7UGT4NfGBuZv6Io9R+ERERpT6PjIzEU089VWp7v379jB8rFAp4e1fu1Yq0tDRcu3YN27dvR4cOHQDA+ObaO1q2bImIiAgMGzYMAJCVlVVqzj6RaCzyRHQfSa+H5sIF5IefQEF4OAr++gtSYaHoWPVWw1QN0EZ0CqpN8rR5OJpwFEcTjgIArMys4NPQB50bdcZT7k+ho2tHKOSm9yv+/PnzWLJkCUaMGIEdO3bg+PHjWLt2LRISShbznzdvHhwdSy6sMH36dPj7+xs/rygnJyc4OTlhzZo1eOeddxAZGYlVq1aV2ueNN97A9OnT0blzZ7Rt2xbz58/nVBeqVUzvXzkRVTlJklB05apxqkxBZCQMubmiY9HflAlcspDKptFrcDL5JE4mn8Sqs6tgZ2GHHo17oGeznni2ybNwsHQQHbFcJk2ahIsXL6Jjx45wdnbGxo0boVarSxX5gIAAxMfHo3///li+fHmlz2VmZoZNmzZh2rRpWLt2LZ5++mksXLgQr732mnGfV199FVeuXMGECROgUCjw7rvvIqkOXTmaTB9XrSGqp6TiYuSfOIHcQ4eQFxoGXXKy6Ej0MObmGPOOHMUyvg+BKs5MZob2Lu3Rq1kv+DX1QwvHFqIjVVhYWBh69+4NrVYLhYJjkER38F8DUT2iz85G3pEjyD10GPn/+x8Md134hGoxrRbtipvhlGWi6CRkgvSSHlEpUYhKicL/nfo/NLNrhp5Ne6Jn057o2qhrnZhbT1RfscgT1XHF8QnIO3wIuYcOo+DUKeCupdXIdPgUOLPIU5W4lXsLmy5twqZLm2BjboNnGj+DXk174dmmz8LZyll0PCKqAE6tIapjJEmC5vwF5B4+hLxDh1F05YroSFQFLo32xUdeUaJjUB0ml8nh09AHfk390LNpT7RybiU6EhE9Aos8UR1QMt89oqS8Hw7lfPc6KKtvZ0zqcv+l4Ymqi7uNO3o27Ym+Hn3R1a0r5DK56EhEdA8WeSITJRkMyD9+HDm7diH34CHOd6/jDD4tMXpIrOgYVE+5KF3Qz7MfBnoNRDuXdo++AxHVCBZ5IhOjuXwZ2b/uQs7evdClpIiOQzVE5mCPEVMKRMcgQnO75hjgNQADWwxECwfTWwGHqC5hkScyAdrkZOTs3o3sXbs5570ee+e9BrilyBYdg8iotXNrDPQaiAFeA+Bm4yY6DlG9wyJPVEsZ8vORs/8Asnf9ioITEYDBIDoSCbZxahvssrsqOgbRfeQyObq6dcVQ76Ho49EHSoVSdCSieoFFnqgWkfR65B89iuxdu5F76BCkwkLRkagWiXy1Cz53Py06BlGZrBXW6OvRF0NVQ9GlURfIZDLRkYjqLBZ5olqg8MIF5Ozahey9IdCnpYmOQ7VU4pCumO7zl+gYROXWxLYJhngPwQstXkAz+2ai4xDVOSzyRIIY8vORvXsPMoODUXT5sug4ZAKKnmqHwOcuiY5BVCmdXDthZKuReN7zeZjLeTVZoqrAIk9Uw4quXkXmlmBk79oFQ16e6DhkQmRN3TEiMFV0DKLH4qJ0wchWIzGi5Qg0UDYQHYfIpLHIE9UAqbgYOQcOIHPLFhSePCU6DpkqMzO8+q4FCuRa0UmIHpuF3AL9vfojoE0A2jZoKzoOkUlikSeqRtqUFGQFByNz6zbOfacqsWKmF45a3RIdg6hKdXTtiIA2AfhX839BIVeIjkNkMljkiapB4blzyFi/ATm//QZoOXpKVefApI5Y0+Cc6BhE1cLNxg2jWo3CcPVwOFo5io5DVOuxyBNVEUmnQ+7+/chYvwGFp7lEIFWPmJG+mO0dJToGUbWyMrPCoBaD4N/GHy2dWoqOQ1RrscgTPSZ9Xj4yt2xG5qbN0CUliY5DdVxO706Y0O2s6BhENaarW1cEtAlA72a9IZfJRcchqlVY5IkqSZ+Tg4wNG5CxfgMM2dmi41A9IbX2xqhhcaJjENW4JrZN8ErrVzBMPQz2Fvai4xDVCizyRBWky8xERlAQMjdthiE3V3QcqmdkNjYYMa1IdAwiYWzMbRDQJgDjnhjHQk/1Hos8UTnp0tOR8dNPyNy8BYaCAtFxqB6b824jXDVPFx2DSCg7CzuMbTsWgW0DYWNuIzoOkRAs8kSPoE1JQcaPPyJz6zZIhYWi4xBh65tPYLt9tOgYRLWCo6UjXn3iVbzS+hVYm1uLjkNUo1jkiR5Cm5iI9DU/IGvHDkhFnMpAtcdfgV2xtOlfomMQ1SrOVs54zec1jGo9CpZmlqLjENUIFnmiexTHJyB99Wpk//e/kLgGPNVCKYO6YuqTLPJED+KqdMWEJydguHo4zM3MRcchqlYs8kR/096+jdRvv0P2rl2ATic6DtFDaTu3RcDzV0THIKrV3GzcMOnJSXhR9SLM5Sz0VDexyFO9Z8jPR9qaNchYFwRJoxEdh+iRZI1cMWJ8hugYRCahiW0TvN7+dQxpMQRmcjPRcYiqFIs81VuSwYDs//4XqctXQJeaKjoOUfnJZJg4ywbZcj7xJCovT3tPvN7+dQzwGsALS1GdwSJP9VJ++AkkL1uGokuXREchqpT/zFAhVHlDdAwik6NyVOG9Lu/hmSbPiI5C9NhY5KleKb5xA8mff4G8Q4dERyF6LGGvdcJK17OiYxCZrL4efTGr6yy42biJjkJUaXxtieoFfU4Okpd+imtDXmCJpzrBM0shOgKRSTsQdwBDdw7FT+d/gtbAFcrINHFEnuo0SadD5pZgpH33HfRZWaLjEFWZ/J4d8O/u50XHIKoTvB28MafbHHR16yo6ClGFsMhTnZUbFoaUzz5HcWys6ChEVU/liZEj4kWnIKpTBnoNxHtd30NDZUPRUYjKhUWe6hxtcjKSPlqAvLAw0VGIqo3MygqjZ+qhB/8LJ6pKtua2mNJhCvxb+3O5Sqr1OEee6pTMrVsRO3gISzzVeZJGg7bFLqJjENU5edo8fBb5GUbuGYm/UngFZardOCJPdUJxfDwS581DwfFw0VGIaszOKe2w2YFLqBJVFxlkeMH7Bbzd5W04WzmLjkN0H47Ik0mTDAZkrN+A2BeGssRTvaPKshIdgahOkyDh12u/Ysh/hyD4cjAMkkF0JKJSWOTJZBXFXkfcmEAkf/IJpIIC0XGIapx7Ol9QJaoJOcU5WHJiCV7Z+wquZV0THYfIiEWeTI6k1yNt9RpcHzYMhVFRouMQCeOYlCc6AlG9cjH9IkbvGY3gy8GioxAB4Bx5MjGa6Ggkzp4DzYULoqMQCSdr4IwRk3JExyCql/ya+WHhMwvhZOUkOgrVYxyRJ5MgFRcj9etvcH34CJZ4or9J6RlwNdiIjkFUL4XdCsPLu17G8dvHRUeheoxFnmq9ouvXcX3kKKStXAloeRltort1KnQTHYGo3kotTMXkA5Px5ckvodXz9xPVPBZ5qtVy9u3DjeEjUHT5sugoRLVS61xb0RGI6jUJEtZdWIeAkABcz74uOg7VMyzyVCtJxcVIWrgICTPfhiE/X3QcolqreSavPElUG1zKuIRRe0Zh+5XtoqNQPcIiT7VOcXwCbgSMQebmzaKjENV6DVI0oiMQ0d8KdYX4+PjHmBk6E9lF2aLjUD3AIk+1Su7hUFx/+WVozp0THYXIJFgnZIiOQET3OHjzIF7e9TIikyJFR6E6jkWeagVJp0Py558j/s03YcjmKAZReUkJSbCQOL2GqLZJLkjGhP0TsCJqBXQGneg4VEexyJNw2uQUxL36KjJ+XAvwsgZEFaPT4cniRqJTENEDGCQDfjj3Aybsn8CpNlQtWORJqPxjx0qu0HrylOgoRCbLJ58XpCGqzU4ln8KYkDG4mXNTdBSqY1jkSQhJkpD63Xe4OWEi9Bmc40v0OFpkW4qOQESPcCPnBgJCAhCVHCU6CtUhLPJU4yStFrfffx9p33wLGAyi4xCZPLc0vegIRFQOWUVZmLh/IvbG7hUdheoIhegAVL/o8/KRMO0t5B/jJa2Jqop9Yo7oCHVayu4U5JzMQXFSMeRWcti2s4XbSDco7Et+hRqKDbi97jYKYgtQnFwMl8EuaPRy6fctZP6RieQdyYAENBreCE49/5kOlfZbGopTitF4bOMa/bpIjGJDMT748wPczL2JN9q/IToOmTiOyFON0aakIC4wkCWeqIqZxSeLjlCnFVwtQMN+DeH9kTeaT2+OottFuPWfW//sIAFyKzlcBrnAqpnVfffX5eiQuCURTV9viqavN0XilkTockpWMdFmapF+KP2+4k9138rTKzH7z9nQ6rWio5AJY5GnGlEUG4u40a+g6NIl0VGI6hwpOwceOkfRMeosz7c94fiMIywbW8K6hTXc/d2Rfykf+oKSKU1ySzkaj20Mp2edIFfe/2u1OK0Ylu6WsG1jC9u2trB0t0RxWjEAIHFLIlxfcIWZDZcQrY92x+7GpAOTuKINVRqLPFW7gqgoxL3iD+3t26KjENVZ7QtdREeoN3S5OsjMZZBblu9XqIWrBbRpWhSnF6M4rRjaNC0sXC2QdyEPugwdHHvwSVh9djL5JMaEjMGtnFuP3pnoHizyVK1yDhzAzX+Ph54XeSKqVq1ybURHqBcMWgNSd6XCsbsjZGayct1HYauA22g33Pj8BuK+jIObvxvkVnIkbkqEe6A70val4cr7VxD3f3HQ5fHCQfXRnRVt/kr5S3QUMjEs8lRtMjZtQsL0GZCKikRHIarzmmaUr1RS5UkGCfGr4gEAbqPdKnRfx2cc0fLTllAvVcOxmyPSQtJg09YGkICsY1lQLVTBytMKKTtTqiM6mYDMokxM+H0C9l3fJzoKmRAWeapykiQh5csvkbxoMZeXJKohzsmFoiPUaZJBQvyaeBQlFcHjHQ+YWVV+TntxajEy/8hEo5caIf9KPuza2UFuKYeDrwMKrhZUYWoyNcWGYrz/x/sIuhAkOgqZCC4/SVVK0uuROHs2sn/dJToKUb1ilZAuOkKdJUkSEn5KQGFsIbw+9ILC9vF+dSZuTITrMFeYWZsBBkDSSyXn0UkAxz7qPQkSvjj5BRRyBQLaBIiOQ7UcR+SpykiShMQ5c1niiQSQEpNhbTAXHaNOuh10G7mnc9F0clMAgDZLC22WFpJBMu6jSdCgMK4QhiIDdNk6FMYVoij5/mmFOVE50Bfq4dS9ZB15a29r5JzKgeaWBhmHMqD0VtbMF0W13qcRn2Jr9FbRMaiW44g8VZnkRYuRvXOn6BhE9ZPBgI7FbjhqxZUvqlpmWCYAIHZhbKnbW37eEhYuFgCAuK/ioE0vWQ9cc0ODzD8yYd3KGi0+bGHc31BkQFJwEpq/1dx4m7XaGg5POSB2aSysmlih2ZvNqvvLIROyOHwxzOXmGKYeJjoK1VIySZKkR+9GVLaUL79C+po1omMQ1WsHJ3bA6obnRccgoiokl8mxuPtiDPEeIjoK1UKcWkOPLe37VSzxRLWAZ5aF6AhEVMUMkgHzjs7jajb0QCzy9Fgy1m9A6vLlomMQEYBGqbzUO1FdpJf0mP3nbByIOyA6CtUyLPJUaVk7fkHy0qWiYxDR32wTeeE1orpKJ+kw649ZCL0ZKjoK1SIs8lQpOfv2IXHePIBvsSCqNeS3kkRHIKJqpDPo8M6Rd3D89nHRUaiWYJGnCssNDUXCrPd5sSeiWkYqKIBa10B0DCKqRlqDFm+HvY2rmVdFR6FagEWeKiQ//AQSZswEtJyLS1QbdchvKDoCEVWzPG0e3jz0JlILUkVHIcFY5KnciuPiEP/WW5CK7r/ICRHVDqocXlCIqD5IzE/E1MNTUagrFB2FBGKRp3IxFBYi/q1pMOTmio5CRGVokiE6ARHVlIvpFzHrj1kwSJzqWl+xyFO5JM6dh6IrV0THIKJHcEouEB2BiGpQ2K0wfB75uegYJAiLPD1SRlAQcvbuFR2DiMrBIp5zZonqm42XNmJnzE7RMUgAFnkqU0FkJJI//0J0DCIqJyklDQ4GK9ExiKiGLQlfguiMaNExqIaxyNNDaZNTED/zbUCnEx2FiMpLktBZ4yY6BRHVMI1eg7fD3kZuMd/LVp+wyNMDScXFSJg+Hfq0NNFRiKiC2uTZiY5ARALczL2Juf+bKzoG1SAWeXqg5E8/ReHp06JjEFEleGSZi45ARIIcvnUYP53/SXQMqiEs8nSfrJ07kbl5i+gYRFRJLim81gNRfbYiagWikqNEx6AawCJPpWiio5G04GPRMYjoMdjczhIdgYgE0kt6zPnfHBRouRxtXcciT0aSTofbH3wISaMRHYWIHoMsPglmkImOQUQCxefF44uTXHWurmORJ6P0NWtQdOmS6BhE9JikoiK0LXYRHYOIBNt2ZRuOJhwVHYOqEYs8AQCKYmKQtvI/omMQURVpV+AsOgIR1QLzj81HTnGO6BhUTVjkCZJej9uz50DSakVHIaIqospWio5ARLVASkEKlp5YKjoGVRMWeUJG0Hpozp4VHYOIqpB7ukF0BCKqJfbE7sGRW0dEx6BqwCJfz2mTkpD67beiYxBRFXNMyhMdgYhqkaURS6HRcTGLuoZFvp5L/mQppAIuT0VU1yhupYiOQES1SEJeAlafXS06BlUxhegAJE7en38id/9+0TGIqBpIGZlwNTggRZ4vOgoRCaKQKdDcxg0qcweo9TK0vXQA8BwMOLcQHY2qCIt8PWUoLkbS4sWiYxBRNepc6IZ9NtdExyCiGuCudIHasiFUkgJqTSHUWYnwSo2FhT629I5m84DRm8SEpCrHIl9PZaxdC23cTdExiKgatcq1xT4b0SmIqCo5WThApXSFWq6EqqgI6pxUqFJjYasp5+/0y3uA638AXj2rNyjVCBb5ekifl4f0tT+JjkFE1ax5hhxwE52CiCpDqVBCZe0OlZkNVFo91HkZUKfdQMPcKhiE+202MPkPQM63Spo6Fvl6KHPjJhhyeHEIorquQUoR0FZ0CiIqi0KugKe1G9TmjlDpAVVBDtQZt9A0/QpkiK6ekyafA05vBDqNrZ7jU41hka9nDAUFyAgKEh2DiGqA9e0M0RGI6G8yyNDY2hVqC+e/57EXQJV5G15p12F+7zz2mvDHF0CHAEBuVvPnpirDIl/PZAb/DH1mpugYRFQDpIQkWEhmKJbpRUchqlecLZ2gtnKBWm4FlUbz9zz2a7AuihMd7R9ZccCF/wLthotOQo+BRb4eMRQVIf2ntaJjEFFN0enQvrgxIi1vi05CVCdZK6yhsnaH2swaaq0eqtw0qFJvoEG+iSwmcXQFi7yJY5GvR7K2bYc+NU10DCKqQU/kO7LIEz0mc7n53/PYHaDWS1Dll8xjb5wRDRkui45XeUlngWuHAe/nRCehSmKRryckrRbpP/4oOgYR1TDvbEvAWXQKItMggwxNrRtBZeEMtWQGdWEeVFmJ8Ei9DnNDHb0mw9EVtb7Iv/rqq9DpdNi4cWOl7q/T6WBubo7Q0FD4+flV6hjr1q3D3LlzER8fXyWZ7iWTyXDgwAH06dMHYWFh6N27N7RaLRSKsqs6i3w9kbVzJ3SJiaJjEFENa5SqB7xEpyCqfRpaOkOtdIEKFlAXFUGdnYwWqbGwLq5F89hrQmwYcPs00LhDjZ960KBBsLGxwdatW+/b9t5772Hfvn04f/58jWS5u0gDQFpaGvr27Qs7Ozvs3bv3vv1XrFhRpedPTEyEs3PFR11Y5OsBSa9H+uo1omMQkQD2SbmiIxAJZWduC29lI6jMrKHW6qDOSYc6NRaOBSYyj70mHF0OjFhX46cdN24cxo0bh6ysLDg6OhpvNxgM2Lx5M2bMmFHjmQAgKSkJffr0gbu7O3799VdYW1vft4+Dg0OVntPNrXIX/eCVAOqBnJAQaG/dEh2DiAQwu5UsOgJRjbCQW6CVXXMMdvLBDLsn8J28KfZnGnDsykVsOBOKj6L2wv/c7+gadxKOBVyatZSLu4CM6zV+2qFDh8LKygrbtm0rdfvBgweRnJyMgICAB95v6dKlaNOmDaytraFWq/H111+X2p6dnY2XX34ZSqUSLVu2xP79+8udKSEhAb169YKnpyf27NnzwBIPlEytGTNmjPHz/Px8TJ06FW5ublAqlejUqRNOnDgBAFiwYAF69OiBb7/9Fu7u7mjYsCFmzZoFSZKM95fJZDh48OADz5WUlAQfHx9Mnjy51H0AjsjXC1nbd4iOQESCSDk58NA1RJwiS3QUoiohl8nRzNoNKnNHqCUzqApzoc68DY/U6zCTYkTHM02SHjj2DTD4qxo9raWlJUaNGoX169dj4sSJxtvXr1+Pvn37onHjxg+935o1a9CkSRNERkZi/PjxUKlUGDhwIABgxowZuHDhAg4fPgwAmDZtWrnyxMXFYfLkyejQoQOCg4Nhbm5e7q9l0qRJOHXqFNavXw9vb2+cPn0aBoPBuP3s2bPw9vbG4cOHER0djZEjR+LZZ5/FkCFDyjxufHw8/vWvf6F///5Yvnw5ZDJZqe0s8nWcNiUFBZGRomMQkUAdChsizo5FnkyPq1UDqK1coII51BoNVNlJ8E6NhZX2huhodc+5bUC/TwBzqxo97dixY9GjRw9cv34dXl5eyMvLw86dO/HDDz889D5vv/228WMvLy8cPnwY27dvx8CBA5GTk4ONGzdi9+7dePrppwEAixYtwoABAx6ZZcqUKfD19cXPP//8yDeZ3i02NhabN29GZGQkunTpAgDw9vYutY9CocCqVatgZWWFNm3aoHfv3jhy5EiZRf7GjRt4/vnnMXz4cHz22WcP3IdFvo7L/e034K5nhERU/7TMsQXsRKcgejg7c1uord2gliuhKtZClZMOdVosHDiPveYU5QDRIYDPSzV62meeeQYqlQobNmzA/PnzsWPHDpiZmWHo0KEPvc/evXuxdOlSXL16Ffn5+SguLkavXr0AlJRqnU4HX19f4/53f1yWQYMGYffu3di5cyeGDy//+voXLlyAjY2NscQ/iFqthpXVP0+S3NzckJKSUuZx/fz88NJLLz20xAMs8nVezt4Q0RGISLBmGTKgiegURIClmSVaWLtDrbCFWidBlZcJVfpNuGVfBHBRdDw6u7XGizxQMiofFBSE+fPnY8OGDRg5ciSUSuUD942NjcVLL72E999/H8uXL4eDgwOWLVuGmJiSaVV35pDfOwWlPKZMmYJu3brB398flpaWj5z2cockSY88373TdGQyGfT6sq+63b9/f4SEhODDDz+Eu7v7A/cRXuTNzMyQmJgIV1fXUrenp6fD1dX1kV8kPVxxfAIKz5wRHYOIBHNKKRQdgeoZM5kZmlk3gtrCCWqDDKqCknnszdKuwUy6KjoePUzMQaAgA7Cu2YtPBAYGYv78+di2bRtCQ0OxYMGCh+4bFRUFpVKJhQsXGm+7fv2fN+p6e3tDoVAgIiIC/fr1AwBEVmCK8axZs6DRaDBixAj8+uuvxmOUxcfHB3l5eTh58mSZo/IVtXLlSowfPx59+/bFkSNH0KBBg/v2EV7kH/YsJi8vr9RLEFRxOSEcjSciwCqeV3Sm6uOmdIHKsgHUMIdaUwhVVhJapMbCUlfzq6DQYzJogYs7gS7ja/S0Hh4e8PPzw6RJk+Dl5YUePXo8dF9vb2/k5ORg3bp16NGjB4KDgxEZGYlOnToBAOzt7eHv74+ZM2fip59+giRJmDdvXoXyzJ8/H0VFRRg2bBj27t2L3r17l7l/ixYt4O/vjzFjxuCbb76Bt7c3zp49Czc3N3Tr1q1C576bXC7HunXrMGLECPTr1w+HDx+Gvb19qX2EFfnx40seJDKZDNOmTSv1Eoper8dff/2Frl27iopXJ7DIExEASEkpsJWskCcrFh2FTJiDhT1UykZQy5UlF1DKSYMqNRZ2Gs5jr1Mu7a7xIg+UrCkfGhr6yLXjO3bsiCVLlhhHzkeOHInJkyeXGnVfvnw5xo8fj169eqFJkyZYvnw5XnjhhQrlWbJkCYqKijBkyBD8/vvvj9x/9erVePfdd/HKK6+goKAAbdq0wX/+858KnfNBFAoFgoODMWTIEAwaNAi///57qSUxZdK9C1LWkMDAQADApk2b8PLLL5cafTc3N4eHhwcmTpz40KWHqGxFsbGIHThIdAwiqiVWzPDEUWW86BhkApRmVmhh4w6VmQ3UOgnq3Ayo0+PgkpMkOhrVBLk58F4MoHR89L4knLAR+Q0bNgAAVCoV3n33XX7fdvQAACAASURBVNjY2IiKUifxTa5EdLcn8h1Z5KkUhUyB5taNoLZwhEovg7ogF+rMeDRNj4FcuiI6Holi0AJXfgfajxKdhMpB+Bz5jz76yPixJEn3XbFKLufFZyuD02qI6G5eWRZAQ9EpSJTGSte/57EroCosgDorCV6psbDQx4qORrXRpV0s8iZCeJGPj4/HzJkzceTIEaSnp9+3navWVFxxfAKKr/NNRkT0D9dULaASnYKqm5OFA9TKRlDJLKEqLoY6JxWq1FjY1vA89heDC/BrtA4HAq3Rp4UCMRkGBPxSgIupBgxQKRD0ohJK85KFLm5lG9A7KB9Rk21hb1nxJQOpGlz/A5AkoBJLOFLNEl7kAwMDUVBQgK+//hpubm6VWveTStOcOys6AhHVMraJ2aIjUBVSKpRQWf89j12rhyovA+rUG2iYdxPAOaHZfvqrGIW60q+uv7tfg57NFdg4zBwTd2uw+lQxpnezBABM/02DBX6WLPG1SVEOkBoNuLYWnYQeQXiRj4yMRGRkJNq0aSM6Sp1ReFbsf+JEVPvIb/GNiqZIIVfA09oNanNHqPSAuiAHqvSbaJpxBTJEi453n7gsAz4KK8Kx12zQ7P/yjLdfSTfg0z6W+P/27jwu6jr/A/jrO/fAcN94cM2smKKZaabllZtpuXZ4ZZpluZVrareZlXlmpftzTbPDUrszzbZjM0stdxWPyjwKb00UBAERmIuZ+f7+GJgkFIRgPvOF1/PxmAcwF68Z3PbFh/f387VEqTG8nRZ78rx/bf/PwXIU2GSM6qATFZku5uROFnkFEF7k27Vrh/z8fBb5BmTfwyJPRFXJViv+Uh6HA9rqI4wkngQJiUGxsOgiYZE1MNvLYCnKQXL+EWg9yphj98gyxqy14bneerQMrXp822UxKnx92AVzpArfHnWhb4oGdpeMh7924OOhFz6DJwmWvRPoNEp0CqqF8CI/depUTJ48GU899RTat29f7RS2qampgpIpk+zxwP4LT3NNRNV1tEWzyAeASH04LMZYWKCHxeGA+VwezPlHEOQ4Ljran/LPrU6YdBLu7lR9df3Fvxow7jMb5m91ol+KBvdeocXs7x240aKB0w10eb0UtnJgQX8Drk8TXk0I8K7IU8AT/r+WW265BQAwdOhQAPDNyFee8ZUHu9aN49AheKxW0TGIKABZioOA0NrvRw0jWBOEtKB4WNTBsDhdMJcWwJJ/DJFlTe8ESr/muzF/qxM7/37hraRTIlT45s7fbztc6ME7e8qx6z4TerxZhkUDDIg3SbhupRWHJ5qg13BeXrjTvwBOK6ALqv2+JIzwIn+Uu6s0KPuevaIjEFGAalEgA61Ep2h6tCotUoISYNaGwuIGLKVnYS7MRmLRfkjIEh3PL7addCO3VEbr8+biAaD/O1aMaK/Bu7dWLYMT/mPD7L4GeGQgt1RGr2RvHUkIkbC/wIMOcWq/ZaeLkN3AqZ+A5B6ik1ANhBf5pKQk0RGaFBt3rCGiiwg/XSY6gqKpJBVaGGNh0UfC7FHDYiuFpSgHSWeOQOM5LDqeUDena3FlYtXynfFKGV69yYAbzFWrxupfyuF0AyPaa1Fok+Hy/L7DTbkbcHv8EpkuxcmdLPIBTniRf/PNN2u8fezYsX5K0jRwRZ6ILkZ38ozoCIoRY4iE2RADM3SwOBywFJ9GWv5hGJ3HREcLSOEGCeGG6qvoyeGqKge+ljllPP6NHZ/f7l2hjzRKiAlWYdmPTsSbJJw4J6NNNE8EGTCyOScf6IQX+ZkzZ1b5ury8HLm5uTAYDIiNjWWRrwOP0wn7AZ5Wm4guTM47gwiPCUUqm+goASNEa0KaMQ4WdRDMznJYSgphyT+CcGvTm2MPBM9958CQtlq0jfm99L8xyIC7PrXBWg68epMBQVrOxweMnJ9FJ6BaSLIsy7Xfzb/y8/Mxbtw4jBw5EsOGDRMdRzHsv/yCo7feJjoGEQWwpZPM2BB0THQMv9OpdEgNToBZEwKLS4a57Cz+UnAC8WezRUcjClwqLTAtD1DxrySBSviK/IXExMRg5syZGDRoEIt8HbgKuK0cEdXsstJQbGjCm1CoJBVaBcXBoouE2aOCxVYCc+FJJJ05CrV8SHQ8ImXxlAOluUBoougkNWrZsiVmzZqFu+66q97PIUkS1q9fj379+jVcMD8IyCIPAGfOnMG5c+dEx1AU99mzoiMQUYBLKtIAsaJTNIxYQzQshmhYoIPZboOlOBep+UdgKD8mOhpR01GcHfBFviHk5OQgMjJSdIw6E17kn3nmmSpfy7KM3NxcrFmzBrfdxjGRunAXscgTUc1i8hxAG9Ep6iZEa4IlKB4WyQhzeTks5wpgzj+MMBvn2APRml/LsXiHEztPuXHOAZQ/HQKNyjv3nl/mwcg1Nmw94cbVrdR471YjYoK9YxslDhlXvFaG9aODkBzOUY6AUZwNtOoqOkWji4+PFx2hXoQX+c2bN1f5WqVS+UZr7r33XkGplIkr8kRUm6BTgfvfCYNaj5SgBFg0Ju8ce2kRLAW/Ia74FwA8Y7VSWMtl9E3WoF+KBlM3OKrcNnuzE7HBEnbdb8LTG+2Ys9mJf95gAAA8u8mBMR21LPEAZJUGUOshq3W+i0elh0etg1ulg1vS+j66VDqUS1q4JC3K4b04oYUTOjiggRMaOGTvxe7RwAYtbJ6Kzz1q2DwalHnUsLo1sLrVKKu4lLrVKHGp8HBRBvy97ciyZcuwaNEiHDx4ENHR0bjzzjvx7LPPQqPRwOl0YsKECXjvvfcQERGBOXPmVHnssWPHkJKSgtWrV2POnDnYt28fevTogQ8//BAbNmzAlClTUFhYiLvuugsLFizwnYj0/NGaTZs2oU+fPvjmm2/w4IMP4sSJE7juuuvw1ltvISIiws/vRs2EF/mNGzeKjtBksMgTUW2kk7lQQ4Ib4vY5UEvqijn2CFg8EixW7xx764LDUMkHheWihjGqgw4AsOmYq9ptBwo8mHiVDuZIFe7soMWi7eUAgD2n3fjqkAs/3XfhM8M2NllSAWo9UFma1Tp4VDp41Hp4VBXlWaWFW9J5C7NKBxe0KK8sz5IGTlkLR0WJdsgaOKCB3aOFXdZ4i7PsLc22ytLsUaPMrUGpWw2rW41SlxqlbhVKXGq45cD5ZSa/zOn37+nxePDSSy8hLS0NWVlZGDt2LBISEjB+/HjMnTsXn332GdasWYO4uDhMmjQJBRc4RnDGjBlYuHAhwsLCMHToUAwdOhQhISH49NNPcfz4cdx6663o27cvBg0adNEcs2bNwvLly6FSqTB8+HDMmjUL8+fPb8yXXmfCi3ylX3/9Ffv37wcAtG3bFm3aKOxvvwGARZ6IaiM7HGjnTMRuXZ5fvl+8MQZmfRQs0MJit8FyNhepeYehc/Os3s3RZTEqrD/swvVpaqw7CrRLMMBtiMID63Lx4q1JQEwUbGod3NLv5dlVWZ4rP0KDcknrK84OaOGsLM6yBg6PBjZZA5tHC7v8e2m2ujUoc6srCrQaZS7vxxKXCnYPzyR7McW2cr9/z3Hjxvk+T0lJwaRJk/Dxxx9j/PjxWLJkCZ577jlcf/31AIClS5eibdu21Z5j6tSp6NWrFwDgnnvuwdSpU5Gbm4vY2Fi0b98effr0waZNm2os8vPmzUPXrt6xonvvvRerV69uyJfZIIQX+by8PIwePRrr169HeHg4AKC4uBjXX389Vq5ciZiYGMEJlcN9tkh0BCJSgAxrVIMX+TBdKCzGOJglAyxOJyznzsCcfwQhds6xBwpZpQE0eshqPWRV5biGDu7Kj+eNarilytVmnW/V2Tuuoakozlo4KkY27BUjG9aK4mzzqGH1aHAw/yCAF3CHYTFs0KHMpcbZHlYc/OwVLPy/Q9DHZyBywES89f1W2LQ7cJ/qHpyZ/0+4y3IRdvVQmNpfJ/otIwCl9up/WWlsW7ZswfTp07Fv3z4UFxfD5XKhVatWKC4uRl5enq9cA0B6ejpCQkKqPUdGRobv87i4OMTExCA2NrbKdfn5+TXmOP854uPjkZfnnwWQuhBe5MePH49z587h119/9a3CZ2Vl4e6778Y//vEPfPTRR4ITKoeLK/JEdAnMxQYgvH6PNaoNSA1OgEVtgrncDUtpESwFxxFzbi8Anln6fJXjGrKmYtZZdd7Ihm9co7I0V191dlYpzzpfaa78aPOtPGtgc3vHNnyrzW4NSl1qlLlVKHWrUepS+X1cw17kLUmZZ8MgqSpWvNVGRN48DZV7g7jtpTi75QPEj3wehetfganDX2FM6Yyc5ZNgTL4CalNgzSM3R1an26/fr6SkBDfeeCOGDRuGGTNmIDIyEu+99x6WL1+OylMfVc6110Sr1fo+lySpyteV17ndNb+2Pz6Hx+Opy0vxC+FFft26ddi8eXOVUZr09HQsXrwYvXv3FhdMgThaQ0SXIuGMB0iq+T4aSYOk4HiYtWGwuCWYredgKcxGy8JDUMmBeQZpGRKg1lWsOnvnm2VVZXHWwq3WV1lxrizO5ecfJCj9PqbhkLVwyNpq5dnq0fhKs7Vivtl7cKAGZW6V93OXGg5P4Mw5B6qz3y1HyOU3QBMaA8eJfYj+2+NQaQ3Qt0iHI+cAgixXiY7Y7Dlc/i3y+/fvx9mzZzFv3jzfpMaJEycAAOHh4YiNjcX27dvRqVMn3/1LSkr8mjGQCC/yWq0WZWVl1a63Wq3QaITHUxTP2WLREYhIAcJyS32fS5CQYIyBRR8FMzQw26zeOfb8w9C6j9T6XLJKC2h0kNUG36iGXLGzhkelhVulh6tihw3X+TtrSDo4q8w6VxRnaOHwaGBH5a4aGt+ohk3W+Iqz1aOuWHH2HixYVrH6TMrhyDkAx4lfENnvPgCALHsAj7c0yh43IPu3QNKFudz+PTC+devW0Gq1WLJkCUaMGIGvv/4aa9eu9Y3P3H///XjuueeQlpaGmJgYPPTQQzAYDH7NGEiEN+Vbb70VY8eOxb/+9S9cdZX3N+/MzExMnjyZ+8jX1SX8qYmISHP0JBYd7IpwWYXwcjc0sgy3pIYHKrgRBjda4BC6wAU13PCOZLiggktWwwUVymUVXBWXhv+/eBl6lEOPcoQ1+HOTP5TYrcg/V4xD+afwMoDJ2V9AJUlICI+EUacHAHhkDx5d9wb+0asfOrp+BlzAM/EJaJv5Cjq1TsNzv+3C89d2Q4xjp9gXQzCUtgTQzW/fLzY2Fq+99hqmTZuG2bNno3///pgyZQoWL14MwHsQa3Z2NgYPHozw8HDMnj0bBw4E5l8J/UGSKweOBLFarZg8eTKWL1/um1VSq9UYO3Ys5s+fj+BgMVtRKdHBPn3hyskRHYOIiJqxT4rP4qnc3GrXL2/VCl2DvP+f/n5REXbYrFiQ2MJ3+2GHA4/mnMJplwvjo6IwKkJ5Z9lsioK7X43Wb74pOgZdhPAiX6m0tBRHjhyBLMtIS0uDyWQSHUlxjgz6GxwHuQczERERNYzgXj3R+tVXRcegixA+WlNcXAy3243IyEh06NDBd31hYSE0Gg1CQ0MFplMW1QW2XyIiIiKqL+kPu71QYBF+ZNDQoUMvuMXkxx9/jOHDhwtIpFyqEP4Vg4iIiBqOpGGRD2TCi/z27dvRt2/fatf37t0bmZmZAhIpl9rEFXkiIiJqOJKORT6QCS/ysizDarVWu760tBQul//PJqZkXJEnIiKihqQ972yoFHiEF/nevXtj+vTpcDgcvuvsdjumT5/OE0LVkZoz8kRERNSAtC1biY5ANRB+sOs///lPXH/99UhKSkLXrl0BADt27IDJZMK6desEp1MWFUdriIiIqAHpWrPIBzLhRT41NRW//PIL3n33Xezbtw+yLOPWW2/FyJEjodPpRMdTFI7WEBERUUPStmKRD2TCizwA6HQ63H333TXe58Ybb8Qbb7yBhIQEP6VSHk1UtOgIRERE1FRoNNCydwU04TPyl+r777+HzWYTHSOgGdLbiI5ARERETYQ2IQGSJiDWfOkiFFPkqXba1q2h4hlxiYiIqAHoWrUUHYFqwSLfhEiSBEN6uugYRERE1ARoW7UWHYFqwSLfxOgvays6AhERETUBXJEPfIop8pIkiY6gCIa2l4mOQERERE0AV+QDn2KKvCzLoiMogoEr8kRERNQA9BaL6AhUC8UU+V9++QVJSUmiYwQ8fVoaJL1edAwiIiJSME18PPSpKaJjUC2E7CnUp0+fSx6V2bBhAwCgFU9IcEkkjQZ6iwX2vXtFRyEiIiKFCu7eXXQEugRCVuSvueYa9OjRAz169EDnzp2xc+dO2Gw2ZGRkICMjA3a7HTt37kTnzp1FxFM8Q1uO1xAREVH9scgrgyQLHj6/6667YDabMW3atCrXz549G1lZWXj77bcFJVOuog8+RO706aJjEBERkRJJEiz/+y80kZGik1AthJ+ua/Xq1fjxxx+rXT9s2DBcccUVAhIpn6lXT0CSAB4gTERERHWkT09niVcI4Qe7RkVFYdWqVdWuX7VqFSL5j6hetAkJMGRkiI5BREREChTc/WrREegSCV+Rf/HFF3HHHXfg888/R9euXSFJErZt24YdO3bg3XffFR1PsUL794d9927RMYiIiEhhTD16iI5Al0j4jDwAHD58GK+//jr2798PAGjTpg3GjRuHtLQ0wcmUy5l9Eof79RMdg4iIiBRE0uvxl+3boOJW1oogfLQG8J611e12w+12w+PxwOPx8Eyuf5KuZQsY2rUTHYOIiIgUJKhzZ5Z4BRFe5FetWoX09HRs27YNFosFZrMZmZmZSE9Pv+DsPF26kBv6i45AREREChJ8zTWiI1AdCB+tSUlJwbhx4zB16tQq18+dOxdLly7F8ePHBSVTPudvv+Hw9SzzREREdAm0Wlg2boAmOlp0ErpEwlfk8/PzMXTo0GrXDxkyBAUFBQISNR261q2h58mhiIiI6BKE9LuOJV5hhBf5IUOGXHCE5uOPP8Ytt9wiIFHTEtqfK/JERERUu4gRt4uOQHUkfLTmsccew2uvvYZ27dr5tp/cvn079u7di7///e8wGo2++86YMUNgUmVyHjuGwzcMEB2DiIiIApguNRVpX34hOgbVkfAi36dPn0u6nyRJ2LBhQyOnaZqOjbwDtgucPZeIiIgIAOKmPonIO+8UHYPqSHiRp8Z3bt3XODlpkugYREREFIAkgwGW77+DOjRUdBSqI+Ez8tT4Qv7aD9pWrUTHICIiogAUOnAgS7xCscg3A5JKhcjRo0THICIiogAUMWK46AhUTyzyzUT4bbdBFRIiOgYREREFEMNll8HYoYPoGFRPLPLNhCo4GBG3c1spIiIi+l04V+MVjUW+GYm8+y5IQUGiYxAREVEA0LZqhfCbbxYdg/4EFvlmRBMRgYgRI0THICIiogAQ+9BkSDqd6Bj0J7DINzNR94yFZDCIjkFEREQCGTp0QMgAnjBS6VjkmxlNVBQihnMejoiIqDmLe+xRSJIkOgb9SSzyzVDUuHu5gw0REVEzZerbF0FduoiOQQ2ARb4Z0kRHI4ZneiUiImp+1GrEPvqI6BTUQFjkm6mIkbfD0K6d6BhERETkR+FDhkCfmio6BjUQFvlmSlKpED99OqDiPwEiIqLmQBUUhJgHJ4iOQQ2ILa4ZM2a053aUREREzUTk2LHQREeLjkENSJJlWRYdgsRxl5biyICBcOXni45CREREjUQTE4O0dV9BxRNDNilckW/m1CYTYqc8IToGERERNaL4Gc+xxDdBLPKEsBtvRHD37qJjEBERUSMIHzYMIX36iI5BjYCjNQQAcB47hiN/GwzZ6RQdhYiIiBqINqk1Uj/5hKvxTRRX5AkAoEtORtS4caJjEBERUUNRq9Fi3jyW+CaMRZ58ou77O/Rt24qOQURERA0g+r77YLz8ctExqBFxtIaqcP72G47eNgSekhLRUYiIiKieDB06IPm9dyFpNKKjUCPiijxVoWvdGolz54iOQURERPUkGY1InPc8S3wzwCJP1YT064fIsWNFxyAiIqJ6iHv8MehTUkTHID9gkacLin34IRiv7Cw6BhEREdVBcK+eiLj9dtExyE84I08XVZ6Xh6O33gb3mTOioxAREVEt1NHRSP1kDTQxMaKjkJ9wRZ4uShsbixYvvQSo1aKjEBERUQ0kgwGtlixmiW9mWOSpRsHdrkLMxImiYxAREdHFSBISn38exg4dRCchP+NoDdVKlmVkPzAepZs2iY5CftDv8CGccrmqXT8/IREDQkN9X++12zDy+HF0MBrxTusk3/WvnDmDlUWFCFap8HRcPHqZTL7bZp8+jXiNBvdERTXuiyAiakZiHnkY0TypY7PEIk+XxF1cjKO3DUF5drboKNTICl0uuM/7+quSc/hnfj6+TzPDVDFmZfd4MPT4McRqNHDIsq/I/2q3477sE3ilZSv85nRiZt5p/DfNDJUk4Ve7HVNycvBxcjK0kiTglRERNT3hQ4cgYeZM0TFIEI7W0CVRh4Wh1atLoY6IEB2FGlmkRoOY8y6bSktxnSnEV+IBYH5+Pq4JDkYno7HKY485negSFIR2BgMGhIZCDaDI7YYsy5hxOhdPxsayxBMRNZCgq7sh/tlnRccggVjk6ZLp09LQ6rXXoAoOFh2F/CSnvBzbrFbcEhbmu25rWRm2WsswObr6AVVmvR777HYUu93YZ7dDLUmIVKvxcXExWmi16MZ/O0REDUKXloaWCxfypE/NHIs81Ykxoz1aLlkCSa8XHYX84N/nihGr0aBbUBAAoMTtxjOnczE7PgF6VfX/fFj0egwPD8fw48cwLTcHz8cnoNjjwWuFBXg0JhYv5OWh/5HDmJJzCg6Px98vh4ioSVBHRXn/Sn7ecUvUPLHIU50FX9UVLf65AOAqQJP3afE5DAoNg6piHGZO3mkMCAlBxz+M1Jzv7sgofJWahk+SU9AtOBjz8/NwR3gE9tjtOOCw4/OUVKgAvH/2rJ9eBRFR0yHp9Wi1+GXoWrYUHYUCAIs81UtI375InD0L4Lxzk/WTzYpj5c4qYzU7rFa8VViIjP1ZyNifhVcKCvCjzYaM/Vk46nRUe45dNhv22OwYFRGBH2xWXGcKgVaS0D8kFD/arP58OUREyidJSHx+LoyXXy46CQUILqlSvYUNHgx38TmcnjNHdBRqBGuLz+FygxHJOp3vujdatUb5eRtdvX+2CD/bbHg+IREttLoqj3fLMmaezsW0uDhoJAluGXDB+9hyWa6yMw4REdVCkhD39DSEDhggOgkFEBZ5+lMi7xwNd3ExzixeLDoKNSCHx4N1Jefw0B/OEHh+qQeASLUaRpUKlgscM/He2SKY9XpcWTFf39FowIrCInQPCsaq4rPobAxqvBdARNSUSBLin5uOiGHDRCehAMPRGvrTYh6cgIjRo0XHoAb0bWkpHLKMASH1O5Aq3+XCW4WFeDQm1nfdDSGhsOj1uP2341ADuCMivIHSEhE1YSoVEmbPZomnC+IJoahByLKMnClTUPzpv0VHISIiahrUaiQ+PxdhgwaJTkIBikWeGozscuHUE1Nw7osvREchIiJSNo0GLV58gTPxVCMWeWpQsizj9Ny5KFr5tugoREREyqTVosWC+Qj9619FJ6EAxyJPjeLMa68jf8EC0TGIiIgURdLp0GLh/yGkTx/RUUgBWOSp0ZxdvQY5zzwDuLnRIBERUW0kvR4tX14E07XXio5CCsEiT42qZMNGnHz4Ych2u+goREREAUsyGtFqyWIEX3216CikICzy1OisP/6EEw88AE9xsegoREREAUcdFoaWi19G0JVXio5CCsMiT37hOHQIv907Dq7cXNFRiIiIAoYuKQmtXl0KXXKy6CikQDwhFPmF3mxG8vvvQZeWJjoKERFRQAjq0gXJH37AEk/1xiJPfqNNSEDyu+/A2LGj6ChERERChd18M1ovewPqcJ7lmuqPozXkdx6bDTlPTcO5L78UHYWIiMi/JAkxkyYi+v77RSehJoBFnoQpfPsdnH7hBaC8XHQUIiKiRqcKDkbiiy8gpG9f0VGoiWCRJ6GsP/2Ek5Mfguv0adFRiIiIGo0uKQktlyyGnseKUQPijDwJFdSpE1I+WYOgbt1ERyEiImoUwT2vRfLHq1jiqcFxRZ4Cgux2I3/hv1Dw+usA/0kSEVETETVuHGIemgxJxbVTangs8hRQSjZswKkpT8Jz7pzoKERERPWmjohAwqyZCLnuOtFRqAljkaeA4/ztN2RPnARHVpboKERERHUW3L07Ep6fC21srOgo1MSxyFNA8tjtyH1uBoo/+UR0FCIioksi6XSIefghRI4ZA0mSRMehZoBFngJa0Ucf4fTsOZAdDtFRiIiILkpvMSPxpZdgaNNGdBRqRljkKeA5jhxFztSpsO3aJToKERFRNRF33IHYxx+DSq8XHYWaGRZ5UgTZ40HhW8uR/69/cXWeiIgCgjo6GolzZsPUs6foKNRMsciTonB1noiIAoGpVy8kzJkNTVSU6CjUjLHIk+JwdZ6IiESRDAbEPv4YIkeOFB2FiEWelIur80RE5E+Gjh2QOHs29Gaz6ChEAFjkSeFkjweFy1cgf+FCrs4TEVGjUIWFIfahhxA+bCjP0EoBhUWemgTHkaPIeeop2H76SXQUIiJqQsJuvhmxjz8GTWSk6ChE1bDIU5MhezwoXLHSuzpvt4uOQ0RECqYzpyHh2WcR1KWL6ChEF8UiT02OM/sk8l58ESXr1omOQkRECiMZjYge/wCi7roLklYrOg5RjVjkqcmy7tiB3Dlz4fj1V9FRiIhIAUzXXYf4p6ZCm5goOgrRJWGRpyZN9nhwdvVq5P/fQrgLCkTHISKiAKRNTETctGkI6dtHdBSiOmGRp2bBXVqKM0teQdHbb0MuLxcdh4iIAoFWi6i770b0A/dDZTSKTkNUZyzy1Kw4jx/H6XkvoHTDBtFRiIhIIFPv3oh97FHo09JERyGqNxZ5y4v7uAAAFIhJREFUapbKtmzB6blz4Th4SHQUIiLyI+OVnRH78CMIuqKT6ChEfxqLPDVbstuNog8+wJlFL8N99qzoOERE1Ij06emIfWgyTL16iY5C1GBY5KnZcxcXI3/xYpz94EPITqfoOERE1IC0rVsjZuJEhN44EJIkiY5D1KBY5IkqlOfk4MzSV3F2zRqAB8QSESmaJiYG0eMfQPiQIdwPnposFnmiP3Bmn8SZV5ag+NN/Ay6X6DhERFQHqtBQRN17LyJHj+JONNTkscgTXYTz+HGcWbIExZ9/AbjdouMQEVENJIMBkaNHIeree6EOCxMdh8gvWOSJauE4chQFry5F8RdfcoWeiCjASDodwm67FdEPPABtbKzoOER+xSJPdImcJ06g4LXXUbx2LU8qRUQkmCosDBG3j0DkqFHQREeLjkMkBIs8UR2V5+Sg4I1lOPvxx5AdDtFxiIiaFW1iIiLvGoPw226DKjhYdBwioVjkierJlZ+PgreW4+xHH8FTWio6DhFRk6Zv2xZRY8cidMANkDQa0XGIAoKqsZ546dKlMJvNjfX01MimTJmCfv36+e372e12SJKE//73v377nn+WJiYGcY8/BvOmTYh76inokpNFRyIianKCu3dHq2VvIPWTNQgbdBNLPNF5LljkJUmq8bJp06Zan3jMmDHIzMxs6LwXtHTpUqjVarzwwgt++X6Xau/evZAkCbm5uTXeb8SIEdXe42Q/lsIrr7wSzz//fJXrpk2bhlWrVvktQ23+WPSzsrJ875VKpUJ4eDiuuuoqzJ07F1ar1a/Z1KZgRI4ehdT/fIlWr72K4J7XAjzpCBFR/Wk0CL3pJqR8sgat31wGU48eohMRBaQL/lqbk5Pj+3zevHnYtm0b1qxZ47suMjKy1ic2Go0w+mn/1pUrV2Ly5MlYsWIFHn/8cb98z4Y2cuRIzJ8/3/e1Wq0WmAYwmUxCv/+l+vHHH5GQkIDi4mJkZmZi1qxZ+OCDD7B582aEhob6NYskSTD17AlTz55wHD2KonffQ/Enn8BTVubXHERESiUFBSF8yG2IGjMG2hYtRMchCngXXJGPj4/3XYKDg6HT6apcp9Pp8N1336Fnz54ICwtDbGwsRo8ejcLCQt9z/HG0xmq1YtSoUQgODkZSUhI+/PBDREdH44MPPgAAlJWVYdSoUWjRogWCg4PRtWtXbN68udYXcPDgQWRlZWH27NkoLi7Gzp07q9wuyzLmz5+PtLQ06PV6mM1mrFy50nf7tm3b0KtXLxiNRkRFRWHYsGG+20pLS3HfffchOjoaERERuPnmm5Gdne27fcSIERg7diwmTpyI0NBQJCQkYOnSpQC8K8gZGRkAgISEBEiSVG3V+3xGo7HKexwTEwMA+Oqrr6D5w58R//jejhgxAvfccw+eeOIJREREoGXLlli8eHGVx+zfvx833XQTQkJCEBYWhv79+6O0tBQjRozADz/8gCeffBKSJCE9PR1A9dGac+fOYcyYMQgLC0NISAiGDx+OM2fOXHKG+v58axMTE4P4+Hi0adMGY8aMwf/+9z9kZ2dX+aVIBH1KCuKnPQXzd98hbupU6JKShOYhIgpk2tatEfPIw7Bs3ID4qVNZ4okuUb1n5MvKyjBx4kT88MMP+Pzzz3HgwAFMnjz5ovd/5plnsHnzZnzxxRf49NNPsWTJEpSUlPhuLy8vR/v27fHll1/i559/Rr9+/TBo0KAqvxxcyIoVK3DLLbfAYDBg2LBhWLFiRZXbX375ZcyaNQvTp0/HL7/8gldffRXBFUe5nzp1Cv369UO7du2wY8cObNy4EV27dvU9duzYscjOzsa6deuwdetWmEwmDB48GB6Px3efVatWQaVSYfv27Zg2bRomTJiAzMxMGAwG3wjS7t27kZOTgwcffPCS39+6WrVqFXQ6HbZv344nnngCDz74IPbv3w/A+0tUv379fL+AZWZm4qabboLb7carr76Kjh074qmnnkJOTs5FZ9QnTJiA7du348svv8TGjRtx6NAhjB079pIz1PfnW1exsbEYNmwY/v3vfzfo89aX2hSMyDtHI/Wr/6DVq0sRfM01HLshIgIgabUIHTgArd96E2nrvkL0uHE8kRNRHdX7iJGBAwdW+XrevHm48cYbq6x2V5JlGa+//joWL16M3r17AwAWLVqEjh07+u4THh6OKVOm+L6eM2cO3n//fXzzzTdVVsn/+Lxvv/023njjDQDeVeGBAwdiwYIF0Gq1AIBZs2Zh5syZGD16NAAgLS3N9/iFCxeiTZs2WLJkie+6Dh06APCuYH/22WfIz8/3jZm88cYbCA0NxY8//ogrr7wSgLc4LliwACqVCunp6di4cSNefvlldOvWDVFRUQB+XzWuyYoVK3x/nQCAGTNm4OGHH67xMeczm82YOXMmAMBiseCll17C5s2b0aZNG6xYsQIejwfvv/8+9Ho9AKBt27a+x2o0GphMpotmLCgowLvvvov169ejR8Wc4rJly9CpUyccPnzY957WlKE+P9/6Sk9Pr/JeBgJJkmDq1QumXr3gOHIURe+8g+K1a+Hx8zw/EZFoutRUhA8dirCbB0MTESE6DpGi1XtF/vjx4xg5ciRSUlIQEhKCgQMHwmq1oqCgoNp9T58+jXPnzqFz586+6zIyMnylEvCW8rlz5yIjIwMREREwmUz47bffcOLEiYtm2LhxI+x2O/r27QsA6Nq1K8LCwvDFF18AAPLz85GXl+f75eGP9u7dW+NtDocD8fHxMJlMMJlMiI6OhsvlwpEjR3z369y5M1Sq39/Grl27+lah6+KWW27Brl27fJc/rnbXpnKMp1J8fDzy8vJ8r+Xqq6+u8n7XxaFDh+DxeNCtWzffdZdffjmMRmOV11pThvr8fOtLlmVIAbzqrU9NQfwzT8P8/XeIf/YZGDp2EB2JiKhRSXo9wgb/DUnvvI20L79A1N13scQTNYB6r8jfcccd0Ov1WLZsGRITE5GVlYVbbrkF5Rc442XlVvV/LFfnb2G/bNkyvPDCC1i0aBEyMjIQHByMgQMHXvD5Kq1cuRJ5eXlVCqrH48GKFStw8803o7Yt8mu6vbS0FBEREdi2bVu1285fuW6owhgaGnrB7TrP/yWh0oXek8q/QJyfq3IE6M+eKuBSH19Thvr8fOsrKyvLr7v+1JfaZELE7bcj4vbb4ThyFMWfforiz/4N16mc2h9MRKQA+r/8xbv6PvhvUPt5AwKi5qBeRV6WZWzbtg2fffaZbzW8pgMX4+PjERoaih9++MF3MOXevXvhdDp998nMzET//v0xatQoAEBxcTFOnjx50ecsKyvD6tWr8d5771VZCT5x4gQGDx6MM2fOIDY2FrGxsdi0aRPat29f7TkyMjKwYcOGCz5/x44dUVhYCFmWYbFYLppj586dVVaAd+zYgTZt2gD4vdi63e6LPr42MTExcLvdyM/P9x0Au2fPnjo9R0ZGBmbPng2Hw3HBVXmtVltjRovFApVKhczMTN/Pe9euXbDZbL7XWpu6/nzrKy8vDx999BEmTZrU4M/dmPSpKYh9aDJiJk+Cdds2FK/9FCVff83RGyJSHCkoCKEDByBi6FAYzxuhJaKGV6/RGkmSkJqaihUrVuDQoUP4/PPPa9zDXZIkjBs3DtOmTcN3332HXbt2YeLEidDpdL4CnJaWhu+//x5btmzB3r17MXr06AuuRldavXo1goKCMHz4cLRv3953GTBgAJKSkvD+++8D8O6H/vTTT+Ptt9/GkSNH8N133/m20pw0aRKysrIwfvx47Nu3D/v27cOCBQsAeEdHBg4ciCFDhmD9+vU4evQoNm3ahAceeKDKQbp5eXl45JFHsH//frzyyitYu3Ytxo8fDwBITEyERqPBunXrkJ+fD5vNVuf3um3btoiJicEzzzyDQ4cOYfny5Vi7dm2dnmPMmDGQJAkjR47ETz/9hP3792PJkiUoLi4GACQlJWHLli04deoUzp49W+3xUVFRGDVqFCZMmIAtW7Zg586duOeeezBo0KAqxxzUpK4/30uVn5+P3NxcHDhwACtXrkSPHj2QlJSERx555E8/twiSJCG4WzckPj8Xlv9uRuK85xHc/WqgAd4rIqJGI0kwduqE+OnTYfn+eyTOmsUST+QH9W4Hb731Fvbs2YP27dtj1qxZmD17do33nzFjBnr06IEBAwZg8ODBuP/++6HVan0rxBMnTkSPHj1w/fXXo3///rjhhhtqXO1dsWIFBg0adMEyOHjwYN/uNRMmTMCTTz6JadOmoW3btrj33nt9JwxKTEzE119/jd27d6Nz587o1asXduzY4Xuejz76CL1798add96J9PR03HPPPVCpVFVWtYcMGQK73Y4rr7wSzz33HBYuXIju3bsDAEJCQjBnzhxMnToVsbGxWLhw4SW+u78zGAx45513sGHDBnTo0AFffPEFHn300To9R1BQENavX4+ysjL06NEDV111FT7//HPfXvVPPPEEsrOzkZycXGUO/nyLFi1Cly5dMGDAAPTp0wdmsxlvvvnmJWeo68/3Ul1xxRVITExEly5d8PLLL2Ps2LH43//+p5h98GuiCgpC2ODBaP3mmzBv+BYxDz8MXWqq6FhERD6Gjh0Q+8QTMG/4Fsnvv4eIEcOhNgWLjkXUbEjynx2grqdDhw7BYrFg9+7d1Q6SVIoRI0bAZDL5ds0h8gfbnj0o/mQtzn35JdwX+AsKEVFjMrRrh9CBAxB6ww3c751IsHof7FpXWVlZ2LlzJ66++mrk5+fjkUceQceOHRVb4olEMWZkwJiRgbgnp6BsyxaUfPMNSjZshPsCO0YRETUEfXo6QgcMQOiAG6Br3Vp0HCKq4LciL0kSFi5ciPvvvx9GoxE9e/bEokWL/PXtiZocSav17U0f/5wHtp9+Qsn6b1Dy7bcob4RtPYmoedFbzAgZMAChNwyAPjVFdBwiugBhozVE1Hjs+/d7V+q/+RaOX38VHYeIFEKXmorQG25A6MAB0F9gS2QiCiws8kRNnDP7JEq//QYl67+B9aefgD+xHSoRNTFaLYI6dYKpV0+YevaEvobtloko8LDIEzUjrqIilG7YgJJvvkXZli2QHQ7RkYjIzzTx8TBdey2Ce16L4Ku7c5cZIgVjkSdqpjxWK0o3/xdl/92Msq2ZKM/OFh2JiBpD5ap7z2sRfG1PGNr8RXQiImogLPJEBABwnjiBsi1bUZa5FdbMbXAXFYmORET1pImLqyju1yK4e3eom8C5NYioOhZ5IqpGlmU4srK8xX7rVlh/+AFyPc5MTER+otEgqFMnBPe8FqaevbjqTtRMsMgTUa1kpxPWXbu8pX5rJmx79wIul+hYRM2XVgtju3YI6tIFQV27wNjpCs66EzVDLPJEVGfu0lJYt+9A2datKNu6Bc5Dh0VHImrSJJ0Ohg4ZCOrSBcFdusB4+eVQBQWJjkVEgrHIE9Gf5ioqgm3XLth274b9559h270HntJS0bGIFEsVFgbj5R0R1OkKGK/oBGPHjlDp9aJjEVGAYZEnogYnezxwHjkC288/w7brZ9h274bj0CHuYU90Edqk1gi6vBOMV1yBoCs6QWc2Q5Ik0bGIKMCxyBORX3jKymDbsxe23bu9Bf/nn+E+c0Z0LCK/08THw9C2rffS7jIYO3aEJjpadCwiUiAWeSISpvzkSV+pt/28G/asLMh2u+hYRA1DkqBLSoLhsrbQt20LQ9vLYLisLTSRkaKTEVETwSJPRAFD9njgPH4cjoMHvZcD3o/O48c5lkOBTauF3mz2rrJf5i3shjZtoArmTjJE1HhY5Iko4HmcTjgPH/YVfPuBA3AcPAjXqRzR0agZUoeFQZeWVlHavSMyerMZkk4nOhoRNTMs8kSkWO7SUt+qvXcF31vweVZa+rMkgwG61q2hS06GLiXF+zE5CbrkZGgiIkTHIyICwCJPRE2Qq6AAzt9+Q3n2SZRnn4AzOxvlJ7JRnp2N8tOnOaZDXmo1tImJFWU9GbrkZOiTvR81CQncNYaIAh6LPBE1K3J5OcpPnfq93J/MhrOy5J84AXdxseiI1IDUYWHQxMdDEx8HbVw8dK1b/b7C3qoVx2GISNFY5ImIzuMuLUX5iRNwnjjhXdE/eRKu/PwqF9nhEB2TVCpooqOhiY+HNi4Wmrh4aOJioY2PhyYuDtq4OGji4qAyGEQnJSJqNCzyRER15C4p8Zb6vPMKfsEZuAuL4C4shKuoCO6CAriKiiBbraLjKodWC3VoqO+iCg+DOjQMmpgYaOPjoImN836Mj4cmOhqSRiM6MRGRUCzyRESNyGO3e0t9YRHcRYXwlJbCXVYG2WqFu6wMHt/F6v1otZ53XZnvOng8ol9K7TQaSDodVDodVJWFPCwM6rBQ79dh4RXXhUIV5i3p6rCK+4SGcqtGIqI6YpEnIlIAj81WveA7nYBHBjxuyG6P96PHA3g8kN1ub/n3eH6/ze0B5Irb3B7IHrfv8QAg6XTei1YHSa+HpNP6irn3699vV+l1v39debtKJfhdIiJqXljkiYiIiIgUiMsnREREREQKxCJPRERERKRALPJERERERArEIk9EREREpEAs8kRERERECsQiT0RERESkQCzyREREREQKxCJPRERERKRALPJERERERArEIk9EREREpEAs8kRERERECsQiT0RERESkQCzyREREREQKxCJPRERERKRALPJERERERArEIk9EREREpEAs8kRERERECsQiT0RERESkQCzyREREREQKxCJPRERERKRALPJERERERArEIk9EREREpEAs8kRERERECsQiT0RERESkQCzyREREREQKxCJPRERERKRALPJERERERArEIk9EREREpEAs8kRERERECsQiT0RERESkQCzyREREREQKxCJPRERERKRALPJERERERArEIk9EREREpEAs8kRERERECsQiT0RERESkQCzyREREREQKxCJPRERERKRALPJERERERArEIk9EREREpEAs8kRERERECsQiT0RERESkQCzyREREREQK9P/4tPWpZejXPQAAAABJRU5ErkJggg==\" class=\"pd_save\"></center>\n",
       "                        \n",
       "                    \n",
       "                \n",
       "        </div>"
      ],
      "text/plain": [
       "<IPython.core.display.HTML object>"
      ]
     },
     "metadata": {},
     "output_type": "display_data"
    }
   ],
   "source": [
    "display(activitysummaries)"
   ]
  },
  {
   "cell_type": "markdown",
   "metadata": {},
   "source": [
    "With Spark SQL, you can use:"
   ]
  },
  {
   "cell_type": "code",
   "execution_count": 28,
   "metadata": {},
   "outputs": [
    {
     "name": "stdout",
     "output_type": "stream",
     "text": [
      "+--------------------+--------+\n",
      "|       performerName|count(1)|\n",
      "+--------------------+--------+\n",
      "|Taiga Accept Func...|     358|\n",
      "|                null|     135|\n",
      "|            bpmadmin|     104|\n",
      "|        Vlad Klicnik|      20|\n",
      "|               admin|       4|\n",
      "+--------------------+--------+\n",
      "\n"
     ]
    }
   ],
   "source": [
    "spark.sql(\"select performerName, count(*) from activitysummaries group by performerName\").show()"
   ]
  },
  {
   "cell_type": "markdown",
   "metadata": {},
   "source": [
    "Author: Emmanuel Tissandier is a Senior Technical Staff Member and architect in the Business Automation team in the IBM France Lab."
   ]
  },
  {
   "cell_type": "code",
   "execution_count": null,
   "metadata": {},
   "outputs": [],
   "source": []
  }
 ],
 "metadata": {
  "kernelspec": {
   "display_name": "Python 3",
   "language": "python",
   "name": "python3"
  },
  "language_info": {
   "codemirror_mode": {
    "name": "ipython",
    "version": 3
   },
   "file_extension": ".py",
   "mimetype": "text/x-python",
   "name": "python",
   "nbconvert_exporter": "python",
   "pygments_lexer": "ipython3",
   "version": "3.8.5"
  }
 },
 "nbformat": 4,
 "nbformat_minor": 1
}
