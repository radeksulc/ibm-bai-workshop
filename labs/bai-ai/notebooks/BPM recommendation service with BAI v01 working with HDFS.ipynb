{
 "cells": [
  {
   "cell_type": "markdown",
   "metadata": {},
   "source": []
  },
  {
   "cell_type": "markdown",
   "metadata": {
    "collapsed": true
   },
   "source": [
    "# IBM Business Automation Workflow recommendation service with IBM Business Automation Insights and Watson Machine Learning\n",
    "\n",
    "Artificial intelligence can be combined with business processes management in many ways. For example, AI can help transforming unstructured data into data that a process can work with, through techniques such as visual or text recognition. Assistants and bots provide a better user experience and several IBM Watson services can help achieve those goals but a business process can capture lots of business data. This notebook demonstrates how to take better benefit of this data and inject machine-learning techniques to optimize processes. If for every decision that needs to be taken as part of a business process you can get a recommendation based on the decisions that have been taken in the past in similar situations, your processes are greatly enhanced. \n",
    "\n",
    "## The recommendation service scenario\n",
    "\n",
    "The scenario here is the following: imagine an insurance company which has set up a Workflow process to approve or reject insurance claims. Some of those insurance claims are simple because, typically, the amount is small and the customer's history and claim circumstances are straightforward. Such claims can be approved automatically or, at least, follow a fast approval path. Some claims are more complex and therefore their approval path includes more steps. Let us further assume that the approval decision or the decision on which path to follow is a human task and this task is captured as a task of a Workflow process. Then it becomes interesting to consider whether a machine-learning algorithm can help figure out which decision to take, based on past decisions.\n",
    "This scenario can be adapted to any kind of human decision process. In the insurance claim example, the decision consists in approving or rejecting a claim, which amounts to a kind of yes-or-no decision. Such decisions can translate into a binary classification machine-learning problem. However, if the decision consists in dispatching a process into many other subprocesses, the scenario becomes a multiclass classification problem, which Business Automation Insights can also handle.\n",
    "\n",
    "This recommendation service uses IBM Business Automation Workflow to build the claim approval process, IBM Business Automation Insights to store the business process data, and IBM Watson for artificial intelligence, in particular Watson Studio for building the machine-learning model and Watson Machine Learning for deploying that model. \n",
    "\n",
    "\n",
    "## Overview of the solution\n",
    "\n",
    "First, a schema outlines how all the different elements and cloud services are used together to build the expected service.\n",
    "\n",
    "![](https://raw.githubusercontent.com/IBM-DBA/bai-ai-samples/master/images/overview.png)\n",
    "\n",
    "\n",
    "Everything starts with the business process itself, which runs in <b>IBM Business Automation Workflow</b>. As the process is running, the business data of the process, which in our scenario contains information about the insured person and the claim, is captured by the <b>Business Automation Insight (BAI)</b> service, which stores all the process operational data and in particular our claim data in HDFS. The role of this BAI service is really to capture and store this data so that the processes can be monitored and, as the name indicates, provides you with insights on the process. BAI can render various dashboards, for example to monitor the process efficiency. In this insurance claim scenario, you are more interested in the data that is associated with activities and processes rather than in the operational data. <br>\n",
    "Once the data is captured in <b>HDFS</b>, it can be used to train a machine-learning model. After the model is trained with existing claim data and approval decisions, it should be able to provide recommendations on whether to approve or reject new claims.<br>\n",
    "The trained model needs to be deployed, which is the role of the <b>IBM Watson Machine Learning</b> service. This service stores the machine-learning model and provides a scoring endpoint.\n",
    "Finally, the scoring endpoint can be invoked by the Workflow business-management process and the result transformed into a recommendation within the process user interface.\n",
    "\n",
    "\n",
    "## Learning goals\n",
    "\n",
    "In this notebook, you will learn:\n",
    "\n",
    "- How to load time series data, in IBM Business Automation Insights, from a specific tracking point in the Workflow process\n",
    "- How to explore the format of the data and read it\n",
    "- How to create an Apache® Spark machine learning pipeline, which will be the recommendation model\n",
    "- How to train and evaluate the model.\n",
    "- Persist a pipeline and model in Watson Machine Learning repository.\n",
    "- Deploy a model for online scoring using Wastson Machine Learning API.\n",
    "- Score sample scoring data by using the Watson Machine Learning API.\n",
    "- How to set up the scoring to create a recommendation service in a Workflow Coach\n",
    "\n",
    "\n",
    "\n",
    "## Setting up the solution\n",
    "\n",
    "To illustrate how to combine all the technologies together, the notebook comes with a business process definition that you can download from here: [Download the BPM Process](https://github.com/IBM-DBA/bai-ai-samples/raw/master/bpm/Claim_Approval_Sample.twx)\n",
    "\n",
    "To be able to run the solution that is presented in this notebook, make sure the following elements are installed:\n",
    "\n",
    "- IBM Business Automation Workflow\n",
    "\n",
    "- IBM Business Automation Insight \n",
    "\n",
    "Business Automation Insight must be installed and connected to an HDFS data lake.\n",
    "\n",
    "- IBM Watson Machine Learning service (https://console.bluemix.net/catalog/services/machine-learning) on IBM Cloud \n",
    "You can install a free tier.\n",
    "\n",
    "Once you have the installed the various elements, ensure you have :\n",
    "- Credentials for your Workflow instance\n",
    "- Credentials for the HDFS used by Business Automation Insights\n",
    "- Watson Machine Learning credentials\n",
    "\n",
    "Please note the notebook requires a Python 3.5 and Spark 2.1 kernel to run."
   ]
  },
  {
   "cell_type": "markdown",
   "metadata": {},
   "source": [
    "## Tracking data in Business Automation Insights\n",
    "Download and import the process definition from the Workflow Center.\n",
    "<br>\n",
    "![](https://raw.githubusercontent.com/IBM-DBA/bai-ai-samples/master/images/importprocess.png)\n",
    "Then open the 'Claim Approval Sample' process application in Process Designer. As you explore the process application, you see one 'Claim approval' process, which has been defined as a single user task.\n",
    "<br>\n",
    "![](https://raw.githubusercontent.com/IBM-DBA/bai-ai-samples/master/images/process.png)\n",
    "<br>\n",
    "<br>\n",
    "For this process, four classes of business data have been created: claim, customer, vehicle, and recommendation. The 'claim' business data represents the data of the insurance claim. It will reference a customer and a vehicle. The 'recommendation' object will contain information from the recommendation service that's being built. This object will be examined later.<br>\n",
    "Note that this example is not intended to reflect a real claim approval system, which is notably more complex.\n",
    "The claim contains information on the vehicle: the 'make', the 'type' and 'model', and the 'year' of the vehicle, information about the customer, in particular the 'creditScore' property, which represents the customer's insurance score, and information about the claim itself such as the estimated amount, the assessment that was made, and the assessor. The example uses only some of this information. <br>\n",
    "<br>\n",
    "Since this is not a real process, we initialize the claim object with some random data.\n",
    "<br>\n",
    "![](https://raw.githubusercontent.com/IBM-DBA/bai-ai-samples/master/images/claimdata.png)\n",
    "<br>\n",
    "The main task in this process is to approve or reject an insurance claim and thus to decide (based on the claim data) whether to set the 'approved' attribute of the claim to 'true' or to 'false'. \n",
    "\n",
    "After the approval decision is taken --that is, when the approval task is finished-- this piece of information is stored in Business Automation Insights so that it can be fed to the machine-learning model. For this purpose, a 'tracking point' is introduced after the approval task. \n",
    "The tracking point in a process is a moment when all the current status and data is sent to Business Automation Insights. \n",
    "Each tracking point can store the appropriate data. This example stores the data of the claim that the machine algorithm is to learn from. Of course, the decision value of the 'approved' property of the claim is stored, too.\n",
    "<br>\n",
    "![](https://raw.githubusercontent.com/IBM-DBA/bai-ai-samples/master/images/tracking.png)\n",
    "<br>\n",
    "Each tracking point stores the information that has been specified when a tracking group has been created. The tracking group is really a model of the data that needs to be stored in BAI.<br>\n",
    "The tracking point definition specifies the tracking group and the mapping from the claim data to the tracking group data.\n",
    "<br>\n",
    "Also note the name of the tracking group: IBMBPMRSTraining_Claims, which is necessary to find the data in the next step.  \n"
   ]
  },
  {
   "cell_type": "markdown",
   "metadata": {},
   "source": [
    "## Creating some data to train the system\n",
    "At this point, it is necessary to create some data to train the system. You can continue the exercise even with few data, but you have to run the process from Process Portal 10 to 20 times.<br>\n",
    "As you run the process, you can see the coach making some recommendations for you. Because at the moment no recommendation service has been created yet, those recommendations are fake.<br>\n",
    "However, you should still follow those recommendations when you create the initial data because by doing so, you will create a set of initial data for which the machine-learning model will be easy to create. \n",
    "\n",
    "If you want to get directy data, the alternative is to download [the training file](https://raw.githubusercontent.com/IBM-DBA/bai-ai-samples/master/bpm/sample_training_data.json) and place this file in your HDFS system. You will then have to make sure you update the part of the code that reads the BAI data so that it points to this file instead of the BAI data path.\n"
   ]
  },
  {
   "cell_type": "markdown",
   "metadata": {},
   "source": [
    "## The format of the Business Automation Insights data\n",
    "After the process has run several times, events are stored in Business Automation Insights. BAI stores many different types of events but in this scenario, the events that are registered when a tracking point is reached by a process are stored as a 'bpm-timeseries' for tracking data.\n",
    "Every time a process is going through the tracking point, a record is added to HDFS in the form of JSON data.<br>\n",
    "In this scenario, the timeseries data is partitioned by the following elements:\n",
    "- The identifier and version number of the Workflow business process application\n",
    "- The tracking group identifier \n",
    "\n",
    "Thus, HDFS file names start with the following path:<br>\n",
    "<br>\n",
    "[hdfs root]/ibm-bai/bpmn-timeseries/[processAppId]/[processAppVersionId]/tracking/[trackingGroupId]\n",
    "<br>\n",
    "<br>\n",
    "Remember, the tracking group name is IBMBPMRSTraining_Claims. To find the data, you query the various ids from the Workflow system\n"
   ]
  },
  {
   "cell_type": "markdown",
   "metadata": {},
   "source": [
    "## How to find an application id and version, and the tracking group id\n",
    "\n",
    "In this example, when the process is imported into the Workflow instance, the process application IDs and versions, and the tracking group ID, do not change, Therefore, to run the example, predefined IDs could be used but the demo shows how you can retrieve all the IDs by using the IBM Workflow REST API<br>\n",
    "<br>You may skip this part and go directly to the next chapter.\n",
    "<br>You can also refer to https://www.ibm.com/support/knowledgecenter/SS8JB4_18.0.0/com.ibm.wbpm.ref.doc/rest/bpmrest/rest_bpm_wle.htm to get more details on the REST API that is used below.<br>\n",
    "\n",
    "Here is some Python code to set up the REST API URL. All you have to do is modify this code to specify the correct host name and credentials to access the process server REST API. Make sure you <strong>change the host and credentials to your Workflow credentials</strong>. Your Workflow system might not be accessible from this notebook. In this case, copy-paste this code and run it in a system that can access your Workflow environment.\n"
   ]
  },
  {
   "cell_type": "code",
   "execution_count": 1,
   "metadata": {},
   "outputs": [],
   "source": [
    "import urllib3, requests, json\n",
    "urllib3.disable_warnings()\n",
    "bpmusername='admin'\n",
    "bpmpassword='admin'\n",
    "bpmrestapiurl = 'https://localhost:9443/rest/bpm/wle/v1'\n",
    "\n",
    "headers = urllib3.util.make_headers(basic_auth='{username}:{password}'.format(username=bpmusername, password=bpmpassword, verify=False))\n"
   ]
  },
  {
   "cell_type": "markdown",
   "metadata": {},
   "source": [
    "Now you retrieve the process application ID and version number by using the 'processApps' REST API. The code below searches for the 'Claim Approval Sample' application and assumes that only one version or snapshot is installed."
   ]
  },
  {
   "cell_type": "code",
   "execution_count": 2,
   "metadata": {},
   "outputs": [
    {
     "name": "stdout",
     "output_type": "stream",
     "text": [
      "the process application id: 638d314f-12db-43c3-9051-89f3ce992393\n",
      "the process application version id: 2064.a731ce46-a41d-4d8f-92ae-df0782fc10b8\n"
     ]
    }
   ],
   "source": [
    "url = bpmrestapiurl + '/processApps'\n",
    "response = requests.get(url, headers=headers, verify=False)\n",
    "\n",
    "[processApp] = [x for x in json.loads(response.text).get('data').get('processAppsList') if x.get('name') == 'Claim Approval Sample']\n",
    "processAppId = processApp.get('ID')\n",
    "\n",
    "# Note that the 5 first characters of the process app id below are removed\n",
    "# because the REST API returns the process application id with a 5-letter prefix that is '2066.'.\n",
    "# This prefix marks the identifier as a process application id but you won't need this prefix later.\n",
    "\n",
    "print(\"the process application id: \" + processAppId[5:])\n",
    "snapshot = processApp.get('installedSnapshots')[2]\n",
    "processAppVersionId = snapshot.get('ID')\n",
    "print(\"the process application version id: \" + processAppVersionId)"
   ]
  },
  {
   "cell_type": "markdown",
   "metadata": {},
   "source": [
    "You can now retrieve the tracking group ID. For this, you call the BPM 'assets' API by using the versionId (or snapshot ID) that has just been computed. Assets are filtered so that only the definitions of the tracking group are retrieved. For this purpose, another call to the Workflow 'assets' API is necessary, using the version or snapshot identifier that has just been computed.\n"
   ]
  },
  {
   "cell_type": "code",
   "execution_count": 3,
   "metadata": {},
   "outputs": [
    {
     "name": "stdout",
     "output_type": "stream",
     "text": [
      "The tracking group id : f1cf87ab-29ae-4b54-901a-6601b4539132\n"
     ]
    }
   ],
   "source": [
    "url = bpmrestapiurl + '/assets'\n",
    "response = requests.get(url, headers=headers, verify=False, params={'processAppId': processAppId, 'filter': 'type=TrackingGroup' })\n",
    "\n",
    "[trackingGroupId] = [x.get('poId') for x in json.loads(response.text).get('data').get('TrackingGroup') if x.get('name') == 'IBMBPMRSTraining_Claims']\n",
    "\n",
    "\n",
    "# Note that the 3 first characters of the tracking group id below are removed\n",
    "# because the REST API returns the tracking group id with a 3-letter prefix that is '14.'.\n",
    "# This prefix marks the identifier as a tracking group id but you won't need this prefix later.\n",
    "\n",
    "print('The tracking group id : ' + trackingGroupId[3:])\n"
   ]
  },
  {
   "cell_type": "markdown",
   "metadata": {},
   "source": [
    "Now you know the processApp id and version, and the tracking group id, so that you can query data.\n"
   ]
  },
  {
   "cell_type": "markdown",
   "metadata": {},
   "source": [
    "## Using Spark SQL to read Business Automation Insights data\n",
    "Business Automation Insights stores data in HDFS. As described above, the events coming from the Workflow instance are stored in JSON files. At this point, you must adapt the code below to specify the HDFS URL."
   ]
  },
  {
   "cell_type": "code",
   "execution_count": 4,
   "metadata": {},
   "outputs": [
    {
     "name": "stdout",
     "output_type": "stream",
     "text": [
      "Getting data...\n",
      "+--------------------+--------------------+------------+--------------------+--------------------+-----------+--------------------+------------------------------+--------------------+------+---------+--------------------+----------------------+------------------------------+---------------------------+--------------------+--------------------+--------------+-------------------+--------------------+----------+----------------------+----------------+-------------------------+--------------------+--------------------+--------------------+--------------------+--------------------+----------------------+--------------------+-----------------+---------------------------+----------------------+------------+-------+\n",
      "|          activityId|  activityInstanceId|activityName|        activityType|   activityVersionId|bpmCellName|         bpmSystemId|createdHighResolutionTimestamp|                  id|offset|partition|processApplicationId|processApplicationName|processApplicationSnapshotName|processApplicationVersionId|           processId|   processInstanceId|   processName|processSnapshotName|    processVersionId|sequenceId|shortProcessInstanceId|         span-id|startingProcessInstanceId|           timestamp|            trace-id|       trackedFields|     trackingGroupId|   trackingGroupName|trackingGroupVersionId|     trackingPointId|trackingPointName|trackingPointOccurrenceTime|trackingPointVersionId|        type|version|\n",
      "+--------------------+--------------------+------------+--------------------+--------------------+-----------+--------------------+------------------------------+--------------------+------+---------+--------------------+----------------------+------------------------------+---------------------------+--------------------+--------------------+--------------+-------------------+--------------------+----------+----------------------+----------------+-------------------------+--------------------+--------------------+--------------------+--------------------+--------------------+----------------------+--------------------+-----------------+---------------------------+----------------------+------------+-------+\n",
      "|b22c8f20-bc88-4fa...|048e74ef-89b1-46c...|    Tracking|intermediateThrow...|2064.a731ce46-a41...|    PCCell1|d59fe52e-66e5-444...|                11794137301529|J37918eefa27a4571...|113875|        0|638d314f-12db-43c...|  Claim Approval Sa...|                           v02|       2064.a731ce46-a41...|048e74ef-89b1-46c...|048e74ef-89b1-46c...|Claim Approval|                v02|2064.a731ce46-a41...|         7|                  6908|9b35fda7ed867d83|     048e74ef-89b1-46c...|2020-10-21T09:17:...|6d680f9a-02f7-450...|[true, 2721, 205,...|f1cf87ab-29ae-4b5...|IBMBPMRSTraining_...|  2064.a731ce46-a41...|275320e683f916219...|         Tracking|       2020-10-21T09:17:...|  2064.a731ce46-a41...|EVENT_THROWN|  1.0.3|\n",
      "+--------------------+--------------------+------------+--------------------+--------------------+-----------+--------------------+------------------------------+--------------------+------+---------+--------------------+----------------------+------------------------------+---------------------------+--------------------+--------------------+--------------+-------------------+--------------------+----------+----------------------+----------------+-------------------------+--------------------+--------------------+--------------------+--------------------+--------------------+----------------------+--------------------+-----------------+---------------------------+----------------------+------------+-------+\n",
      "\n",
      "root\n",
      " |-- activityId: string (nullable = true)\n",
      " |-- activityInstanceId: string (nullable = true)\n",
      " |-- activityName: string (nullable = true)\n",
      " |-- activityType: string (nullable = true)\n",
      " |-- activityVersionId: string (nullable = true)\n",
      " |-- bpmCellName: string (nullable = true)\n",
      " |-- bpmSystemId: string (nullable = true)\n",
      " |-- createdHighResolutionTimestamp: long (nullable = true)\n",
      " |-- id: string (nullable = true)\n",
      " |-- offset: long (nullable = true)\n",
      " |-- partition: long (nullable = true)\n",
      " |-- processApplicationId: string (nullable = true)\n",
      " |-- processApplicationName: string (nullable = true)\n",
      " |-- processApplicationSnapshotName: string (nullable = true)\n",
      " |-- processApplicationVersionId: string (nullable = true)\n",
      " |-- processId: string (nullable = true)\n",
      " |-- processInstanceId: string (nullable = true)\n",
      " |-- processName: string (nullable = true)\n",
      " |-- processSnapshotName: string (nullable = true)\n",
      " |-- processVersionId: string (nullable = true)\n",
      " |-- sequenceId: long (nullable = true)\n",
      " |-- shortProcessInstanceId: string (nullable = true)\n",
      " |-- span-id: string (nullable = true)\n",
      " |-- startingProcessInstanceId: string (nullable = true)\n",
      " |-- timestamp: string (nullable = true)\n",
      " |-- trace-id: string (nullable = true)\n",
      " |-- trackedFields: struct (nullable = true)\n",
      " |    |-- approved.string: string (nullable = true)\n",
      " |    |-- approvedAmount.integer: long (nullable = true)\n",
      " |    |-- creditScore.integer: long (nullable = true)\n",
      " |    |-- estimateAmount.integer: long (nullable = true)\n",
      " |    |-- vehicleMake.string: string (nullable = true)\n",
      " |    |-- vehicleModel.string: string (nullable = true)\n",
      " |    |-- vehicleType.string: string (nullable = true)\n",
      " |    |-- vehicleYear.integer: long (nullable = true)\n",
      " |-- trackingGroupId: string (nullable = true)\n",
      " |-- trackingGroupName: string (nullable = true)\n",
      " |-- trackingGroupVersionId: string (nullable = true)\n",
      " |-- trackingPointId: string (nullable = true)\n",
      " |-- trackingPointName: string (nullable = true)\n",
      " |-- trackingPointOccurrenceTime: string (nullable = true)\n",
      " |-- trackingPointVersionId: string (nullable = true)\n",
      " |-- type: string (nullable = true)\n",
      " |-- version: string (nullable = true)\n",
      "\n",
      "The data containts 1 events\n"
     ]
    }
   ],
   "source": [
    "from pyspark.sql import  SparkSession\n",
    "\n",
    "hdfs_root = 'hdfs://namenode/user/bai'\n",
    "\n",
    "processAppId = '638d314f-12db-43c3-9051-89f3ce992393'\n",
    "processAppVersionId = '2064.a731ce46-a41d-4d8f-92ae-df0782fc10b8'\n",
    "trackingGroupId = 'f1cf87ab-29ae-4b54-901a-6601b4539132'\n",
    "\n",
    "spark = SparkSession.builder.getOrCreate()\n",
    "spark.conf.set(\"dfs.client.use.datanode.hostname\", \"true\")\n",
    "\n",
    "try:\n",
    "  print(\"Getting data...\")\n",
    "  timeseries = spark.read.json(hdfs_root + \"/ibm-bai/bpmn-timeseries/\" + processAppId + '/' + processAppVersionId + '/tracking/' + trackingGroupId + '/*/*')\n",
    "  timeseries.createOrReplaceTempView(\"timeseries\")\n",
    "  timeseries.show()\n",
    "  timeseries.printSchema()\n",
    "  print ('The data containts ' + str(timeseries.count()) + ' events')\n",
    "except Exception as e:\n",
    "  print('Exception while reading data, please ensure data was created in BAI')\n",
    "  print(e)"
   ]
  },
  {
   "cell_type": "markdown",
   "metadata": {},
   "source": [
    "Note that the various ids for the path are specified in the JSON path. This HDFS path could also use HDFS wildcards. Here, the * character replaces any directory or file name in the path."
   ]
  },
  {
   "cell_type": "code",
   "execution_count": 5,
   "metadata": {},
   "outputs": [
    {
     "name": "stdout",
     "output_type": "stream",
     "text": [
      "+---------------+----------------------+-------------------+----------------------+------------------+-------------------+------------------+-------------------+\n",
      "|approved.string|approvedAmount.integer|creditScore.integer|estimateAmount.integer|vehicleMake.string|vehicleModel.string|vehicleType.string|vehicleYear.integer|\n",
      "+---------------+----------------------+-------------------+----------------------+------------------+-------------------+------------------+-------------------+\n",
      "|           true|                  2721|                205|                  2721|                VW|               Golf|               car|               2015|\n",
      "+---------------+----------------------+-------------------+----------------------+------------------+-------------------+------------------+-------------------+\n",
      "\n",
      "root\n",
      " |-- approved.string: string (nullable = true)\n",
      " |-- approvedAmount.integer: long (nullable = true)\n",
      " |-- creditScore.integer: long (nullable = true)\n",
      " |-- estimateAmount.integer: long (nullable = true)\n",
      " |-- vehicleMake.string: string (nullable = true)\n",
      " |-- vehicleModel.string: string (nullable = true)\n",
      " |-- vehicleType.string: string (nullable = true)\n",
      " |-- vehicleYear.integer: long (nullable = true)\n",
      "\n"
     ]
    }
   ],
   "source": [
    "businessdata = spark.sql(\"SELECT trackedFields.* from timeseries\")\n",
    "businessdata.show()\n",
    "businessdata.printSchema()"
   ]
  },
  {
   "cell_type": "markdown",
   "metadata": {},
   "source": [
    "## Create an Apache® Spark machine-learning model\n",
    "\n",
    "Watson Machine learning supports a growing number of IBM or open-source machine-learning and deep-learning packages. This example uses Spark ML and in particular the Random Forest Classifier algorithm. Learn now how to prepare data, create an Apache® Spark machine-learning pipeline, and train the model."
   ]
  },
  {
   "cell_type": "code",
   "execution_count": 6,
   "metadata": {},
   "outputs": [],
   "source": [
    "from pyspark.ml.feature import OneHotEncoder, StringIndexer, IndexToString, VectorAssembler\n",
    "from pyspark.ml.classification import RandomForestClassifier\n",
    "from pyspark.ml.evaluation import MulticlassClassificationEvaluator\n",
    "from pyspark.ml import Pipeline, Model"
   ]
  },
  {
   "cell_type": "markdown",
   "metadata": {},
   "source": [
    "### Adaptation of data\n",
    "\n",
    "The following code rename the columns to remove the type from it.<br>\n",
    "Then, the StringIndexer method transforms the 'approved' column, which is a column of type 'string' containing only 'true' or 'false' values, into a numeric column with '0' and '1' values so that the classifier can understand it.<br>\n",
    "\n",
    "The VectorAssembler class creates a new features column which contains the features from which to build the model.<br>\n",
    "The IndexToString method transforms the prediction/classification of the model, which will be '0' and '1' values, back into \"true\" or \"false\" strings."
   ]
  },
  {
   "cell_type": "code",
   "execution_count": 7,
   "metadata": {},
   "outputs": [],
   "source": [
    "businessdata = businessdata.withColumnRenamed(\"approved.string\", \"approved\")\n",
    "businessdata = businessdata.withColumnRenamed(\"creditScore.integer\", \"creditScore\")\n",
    "businessdata = businessdata.withColumnRenamed(\"estimateAmount.integer\", \"estimateAmount\")\n",
    "businessdata = businessdata.withColumnRenamed(\"approvedAmount.integer\", \"approvedAmount\")\n",
    "\n",
    "features = [\"approvedAmount\", \"creditScore\", \"estimateAmount\"]\n",
    "approvalColumn = \"approved\"\n",
    "\n",
    "\n",
    "approvalIndexer = StringIndexer(inputCol='approved', outputCol=\"label\").fit(businessdata)\n",
    "\n",
    "assembler = VectorAssembler(inputCols=features, outputCol=\"features\")\n",
    "\n",
    "labelConverter = IndexToString(inputCol=\"prediction\", outputCol=\"predictedLabel\", labels=approvalIndexer.labels)"
   ]
  },
  {
   "cell_type": "markdown",
   "metadata": {},
   "source": [
    "###  Creating the model\n",
    "The model is built from the RandomForestClassifier algorithm."
   ]
  },
  {
   "cell_type": "code",
   "execution_count": 8,
   "metadata": {},
   "outputs": [],
   "source": [
    "rf = RandomForestClassifier(labelCol=\"label\", featuresCol=\"features\")"
   ]
  },
  {
   "cell_type": "markdown",
   "metadata": {},
   "source": [
    "In the cell below the data is splitted into training data and test data and the prediction model is trained and then tested, finally the accuracy of the model is displayed."
   ]
  },
  {
   "cell_type": "code",
   "execution_count": 9,
   "metadata": {},
   "outputs": [
    {
     "name": "stdout",
     "output_type": "stream",
     "text": [
      "Accuracy = nan\n",
      "Test Error = nan\n"
     ]
    }
   ],
   "source": [
    "businessdata = businessdata[features+['approved']]\n",
    "splitted_data = businessdata.randomSplit([0.8, 0.20], 24)\n",
    "train_data = splitted_data[0]\n",
    "test_data = splitted_data[1]\n",
    "\n",
    "pipeline = Pipeline(stages=[approvalIndexer, assembler, rf, labelConverter])\n",
    "\n",
    "model = pipeline.fit(train_data)\n",
    "\n",
    "predictions = model.transform(test_data)\n",
    "evaluator = MulticlassClassificationEvaluator(labelCol=\"label\", predictionCol=\"prediction\", metricName=\"accuracy\")\n",
    "accuracy = evaluator.evaluate(predictions)\n",
    "\n",
    "print(\"Accuracy = %g\" % accuracy)\n",
    "print(\"Test Error = %g\" % (1.0 - accuracy))\n"
   ]
  },
  {
   "cell_type": "markdown",
   "metadata": {},
   "source": [
    "## Storing the model in Watson ML\n",
    "Watson machine learning is used here to store the resulting model. After the model is stored , Watson machine learning makes it possible to create an HTTP scoring endpoint, which is then used as the recommendation service.\n",
    "The code below stores the created model and pipeline in Watson Machine Learning. Note that you need to <b>specify the authentication information from your instance of Watson Machine Learning service</b> in the code below.\n"
   ]
  },
  {
   "cell_type": "code",
   "execution_count": null,
   "metadata": {},
   "outputs": [],
   "source": [
    "!rm -rf $PIP_BUILD/watson-machine-learning-client\n",
    "!pip install --upgrade watson-machine-learning-client==1.0.260"
   ]
  },
  {
   "cell_type": "code",
   "execution_count": null,
   "metadata": {},
   "outputs": [],
   "source": [
    "from watson_machine_learning_client import WatsonMachineLearningAPIClient\n",
    "\n",
    "# Authenticate to Watson Machine Learning service on Bluemix.\n",
    "\n",
    "wml_credentials={\n",
    "  \"url\": \"https://ibm-watson-ml.mybluemix.net\",\n",
    "  \"access_key\": \"place acces key here\",\n",
    "  \"username\": \"place username here\",\n",
    "  \"password\": \"place password here\",\n",
    "  \"instance_id\": \"place instance id key here\"\n",
    "}\n",
    "# wml_service_path, user and wml_password can be found on Service Credentials tab of service instance created in Bluemix.\n",
    "\n",
    "client = WatsonMachineLearningAPIClient(wml_credentials)"
   ]
  },
  {
   "cell_type": "markdown",
   "metadata": {},
   "source": [
    "We can now save the model and the training data. "
   ]
  },
  {
   "cell_type": "code",
   "execution_count": null,
   "metadata": {},
   "outputs": [],
   "source": [
    "published_model_details = client.repository.store_model(model=model, meta_props={'name':'Claim Approval Recommendation Model'}, training_data=train_data, pipeline=pipeline)"
   ]
  },
  {
   "cell_type": "markdown",
   "metadata": {},
   "source": [
    "Here is the list of the models that are currently stored in the machine learning instance"
   ]
  },
  {
   "cell_type": "code",
   "execution_count": null,
   "metadata": {},
   "outputs": [],
   "source": [
    "client.repository.list_models()"
   ]
  },
  {
   "cell_type": "markdown",
   "metadata": {},
   "source": [
    "<a id=\"scoring\"></a>\n",
    "## Deploying the model"
   ]
  },
  {
   "cell_type": "markdown",
   "metadata": {},
   "source": [
    "Now that the model is stored, we need to deploy it in a runtime environement, we start by retrieving the model uid:\n"
   ]
  },
  {
   "cell_type": "code",
   "execution_count": null,
   "metadata": {},
   "outputs": [],
   "source": [
    "model_uid = client.repository.get_model_uid(published_model_details)\n",
    "print(model_uid)"
   ]
  },
  {
   "cell_type": "markdown",
   "metadata": {},
   "source": [
    "Below we list already installed deployments, A free tier in Watson machine learning allows no more than five deployments."
   ]
  },
  {
   "cell_type": "code",
   "execution_count": null,
   "metadata": {},
   "outputs": [],
   "source": [
    "print(client.deployments.get_uids())"
   ]
  },
  {
   "cell_type": "markdown",
   "metadata": {},
   "source": [
    "We use the deployments client API to create a new deployment for our model:"
   ]
  },
  {
   "cell_type": "code",
   "execution_count": null,
   "metadata": {},
   "outputs": [],
   "source": [
    "deployment_details = client.deployments.create(asset_uid=model_uid, name='Recommendation Prediction Model')"
   ]
  },
  {
   "cell_type": "markdown",
   "metadata": {},
   "source": [
    "As part of the deployment details result is the URL that will allow us to score against the published model."
   ]
  },
  {
   "cell_type": "code",
   "execution_count": null,
   "metadata": {},
   "outputs": [],
   "source": [
    "recommendation_url = client.deployments.get_scoring_url(deployment_details)\n",
    "print(recommendation_url)"
   ]
  },
  {
   "cell_type": "markdown",
   "metadata": {},
   "source": [
    "### Testing the recommendation URL"
   ]
  },
  {
   "cell_type": "markdown",
   "metadata": {},
   "source": [
    "You can test the scoring URL with some data to see how it works. The next step consists in using this URL from within the Workflow process."
   ]
  },
  {
   "cell_type": "code",
   "execution_count": null,
   "metadata": {},
   "outputs": [],
   "source": [
    "import json\n",
    "recommendation_data = {\"fields\": [\"approvedAmount\", \"creditScore\", \"estimateAmount\"],\"values\": [[2000, 500, 2000]]}\n",
    "\n",
    "scoring_response = client.deployments.score(recommendation_url, recommendation_data)\n",
    "\n",
    "print(json.dumps(scoring_response, indent=3))"
   ]
  },
  {
   "cell_type": "markdown",
   "metadata": {},
   "source": [
    "## Invoking the recommendation REST endpoint from the Workflow process"
   ]
  },
  {
   "cell_type": "markdown",
   "metadata": {},
   "source": [
    "\n",
    "To display a recommendation for a decision on a claim within the Workflow process itself, invoke the Recommendation service from a Workflow service. \n",
    "<br>\n",
    "If you go back to the installed process application, you can see a service flow called 'Invoke Watson ML Service Flow'. This is the service that calls the recommendation REST endpoint .\n",
    "<br>\n",
    "![](https://raw.githubusercontent.com/IBM-DBA/bai-ai-samples/master/images/invocationscript.png)\n",
    "<br>\n",
    "As soon as you specify your credentials to Watson Machine Learning and the recommendation URL in this script, the Workflow process displays recommendations from the Spark machine-learning model.\n",
    "\n",
    "<br>\n",
    "The result of the recommendation service is displayed in the process UI (the coach) after the service has been called. In the picture below, you see that the coach contains two different parts, one for the 'I recommend' and another one for 'I do not recommend', the visibility of each portion depends on the result of the recommendation service.\n",
    "\n",
    "![](https://raw.githubusercontent.com/IBM-DBA/bai-ai-samples/master/images/coach.png)\n",
    "\n",
    "The system is now ready to return recommendations about the insurance claim.\n",
    "\n",
    "![](https://raw.githubusercontent.com/IBM-DBA/bai-ai-samples/master/images/reco.png)\n"
   ]
  },
  {
   "cell_type": "markdown",
   "metadata": {},
   "source": [
    "### Conclusion\n",
    "\n",
    "This notebook is designed to help you understand how to create a recommendation service for your Workflow Process with Watson Machine Learning and Business Automation Insights. You are encouraged to explore more possibilities of Watson Studio and Watson Machine Learning, in particular the capability to retrain the model when more data becomes available.\n"
   ]
  },
  {
   "cell_type": "markdown",
   "metadata": {},
   "source": [
    "Author: Emmanuel Tissandier is a Senior Technical Staff Member and architect in the Business Automation team in the IBM France Lab."
   ]
  },
  {
   "cell_type": "code",
   "execution_count": null,
   "metadata": {},
   "outputs": [],
   "source": []
  }
 ],
 "metadata": {
  "kernelspec": {
   "display_name": "Python 3",
   "language": "python",
   "name": "python3"
  },
  "language_info": {
   "codemirror_mode": {
    "name": "ipython",
    "version": 3
   },
   "file_extension": ".py",
   "mimetype": "text/x-python",
   "name": "python",
   "nbconvert_exporter": "python",
   "pygments_lexer": "ipython3",
   "version": "3.8.3"
  }
 },
 "nbformat": 4,
 "nbformat_minor": 1
}
